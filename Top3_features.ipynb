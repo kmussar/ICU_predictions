{
 "cells": [
  {
   "cell_type": "code",
   "execution_count": 1,
   "metadata": {},
   "outputs": [
    {
     "name": "stderr",
     "output_type": "stream",
     "text": [
      "/home/kmussar/anaconda3/lib/python3.6/importlib/_bootstrap.py:219: RuntimeWarning: numpy.dtype size changed, may indicate binary incompatibility. Expected 96, got 88\n",
      "  return f(*args, **kwds)\n"
     ]
    }
   ],
   "source": [
    "import pickle\n",
    "import pandas as pd\n",
    "import numpy as np\n",
    "import matplotlib.pyplot as plt\n",
    "import seaborn as sns\n",
    "from sklearn.model_selection import train_test_split, GridSearchCV\n",
    "from matplotlib.pyplot import specgram\n",
    "%matplotlib inline\n",
    "from sklearn.pipeline import Pipeline\n",
    "from sklearn.preprocessing import StandardScaler\n",
    "from sklearn.linear_model import LogisticRegression\n",
    "from sklearn.neighbors import KNeighborsClassifier\n",
    "from sklearn.svm import SVC, LinearSVC\n",
    "from sklearn.tree import DecisionTreeClassifier\n",
    "from sklearn.ensemble import RandomForestClassifier,ExtraTreesClassifier\n",
    "from sklearn import metrics\n",
    "from sklearn.metrics import classification_report, confusion_matrix, accuracy_score\n",
    "from sklearn.datasets import make_classification\n",
    "from sklearn.naive_bayes import GaussianNB\n",
    "from sklearn import naive_bayes\n",
    "import xgboost as xgb\n",
    "from xgboost import XGBClassifier\n",
    "from collections import Counter\n",
    "from mlxtend.plotting import plot_decision_regions\n",
    "from imblearn.over_sampling import RandomOverSampler\n",
    "from sklearn.linear_model import LogisticRegressionCV\n",
    "sns.set_context('talk')"
   ]
  },
  {
   "cell_type": "code",
   "execution_count": 25,
   "metadata": {},
   "outputs": [],
   "source": [
    "with open('y_correct.pickle', 'rb') as read_file:\n",
    "    y = pickle.load(read_file)    "
   ]
  },
  {
   "cell_type": "code",
   "execution_count": 26,
   "metadata": {},
   "outputs": [],
   "source": [
    "with open('X_top4_features.pickle', 'rb') as read_file:\n",
    "    X = pickle.load(read_file) "
   ]
  },
  {
   "cell_type": "code",
   "execution_count": 27,
   "metadata": {},
   "outputs": [],
   "source": [
    "with open('X3_trainRes.pickle', 'rb') as read_file:\n",
    "    X_train = pickle.load(read_file) "
   ]
  },
  {
   "cell_type": "code",
   "execution_count": 28,
   "metadata": {},
   "outputs": [],
   "source": [
    "with open('y3_trainRes.pickle', 'rb') as read_file:\n",
    "    y_train = pickle.load(read_file) "
   ]
  },
  {
   "cell_type": "code",
   "execution_count": 29,
   "metadata": {},
   "outputs": [],
   "source": [
    "with open('y3_valRes.pickle', 'rb') as read_file:\n",
    "    y_val = pickle.load(read_file) "
   ]
  },
  {
   "cell_type": "code",
   "execution_count": 30,
   "metadata": {},
   "outputs": [],
   "source": [
    "with open('X3_valRes.pickle', 'rb') as read_file:\n",
    "    X_val = pickle.load(read_file) "
   ]
  },
  {
   "cell_type": "code",
   "execution_count": null,
   "metadata": {},
   "outputs": [],
   "source": []
  },
  {
   "cell_type": "code",
   "execution_count": null,
   "metadata": {},
   "outputs": [],
   "source": []
  },
  {
   "cell_type": "code",
   "execution_count": null,
   "metadata": {},
   "outputs": [],
   "source": []
  },
  {
   "cell_type": "code",
   "execution_count": null,
   "metadata": {},
   "outputs": [],
   "source": []
  },
  {
   "cell_type": "code",
   "execution_count": null,
   "metadata": {},
   "outputs": [],
   "source": []
  },
  {
   "cell_type": "code",
   "execution_count": 41,
   "metadata": {},
   "outputs": [
    {
     "name": "stderr",
     "output_type": "stream",
     "text": [
      "/home/kmussar/anaconda3/lib/python3.6/site-packages/sklearn/linear_model/logistic.py:433: FutureWarning: Default solver will be changed to 'lbfgs' in 0.22. Specify a solver to silence this warning.\n",
      "  FutureWarning)\n"
     ]
    },
    {
     "name": "stdout",
     "output_type": "stream",
     "text": [
      "              precision    recall  f1-score   support\n",
      "\n",
      "         0.0       0.67      0.68      0.67      5072\n",
      "         1.0       0.67      0.67      0.67      5072\n",
      "\n",
      "   micro avg       0.67      0.67      0.67     10144\n",
      "   macro avg       0.67      0.67      0.67     10144\n",
      "weighted avg       0.67      0.67      0.67     10144\n",
      "\n",
      "[[3430 1642]\n",
      " [1690 3382]]\n",
      "              precision    recall  f1-score   support\n",
      "\n",
      "         0.0       0.54      0.88      0.67      5072\n",
      "         1.0       0.67      0.24      0.35      5072\n",
      "\n",
      "   micro avg       0.56      0.56      0.56     10144\n",
      "   macro avg       0.60      0.56      0.51     10144\n",
      "weighted avg       0.60      0.56      0.51     10144\n",
      "\n",
      "[[4480  592]\n",
      " [3869 1203]]\n",
      "              precision    recall  f1-score   support\n",
      "\n",
      "         0.0       0.69      0.66      0.67      5072\n",
      "         1.0       0.67      0.70      0.69      5072\n",
      "\n",
      "   micro avg       0.68      0.68      0.68     10144\n",
      "   macro avg       0.68      0.68      0.68     10144\n",
      "weighted avg       0.68      0.68      0.68     10144\n",
      "\n",
      "[[3333 1739]\n",
      " [1516 3556]]\n",
      "              precision    recall  f1-score   support\n",
      "\n",
      "         0.0       0.73      0.50      0.59      5072\n",
      "         1.0       0.62      0.82      0.70      5072\n",
      "\n",
      "   micro avg       0.66      0.66      0.66     10144\n",
      "   macro avg       0.68      0.66      0.65     10144\n",
      "weighted avg       0.68      0.66      0.65     10144\n",
      "\n",
      "[[2517 2555]\n",
      " [ 920 4152]]\n",
      "              precision    recall  f1-score   support\n",
      "\n",
      "         0.0       0.73      0.50      0.59      5072\n",
      "         1.0       0.62      0.82      0.70      5072\n",
      "\n",
      "   micro avg       0.66      0.66      0.66     10144\n",
      "   macro avg       0.68      0.66      0.65     10144\n",
      "weighted avg       0.68      0.66      0.65     10144\n",
      "\n",
      "[[2517 2555]\n",
      " [ 920 4152]]\n"
     ]
    }
   ],
   "source": [
    "pipe_lr_ss = Pipeline([('scl', StandardScaler()),\n",
    "                    ('clf', LogisticRegression(random_state=42))])\n",
    "\n",
    "pipe_knn_ss = Pipeline([('scl', StandardScaler()),\n",
    "                    ('clf', KNeighborsClassifier(n_neighbors=5))])\n",
    "\n",
    "pipe_rf_ss = Pipeline([('scl', StandardScaler()),\n",
    "                    ('clf', RandomForestClassifier(n_estimators=100))])\n",
    "\n",
    "pipe_svm_ss = Pipeline([('scl', StandardScaler()),\n",
    "                    ('clf', SVC(kernel=\"linear\"))])\n",
    "\n",
    "pipe_nb_ss = Pipeline([('scl', StandardScaler()),('clf',naive_bayes.GaussianNB())])\n",
    "\n",
    "pipelines = [pipe_lr_ss, pipe_knn_ss, pipe_rf_ss, pipe_nb_ss, pipe_svm_ss]\n",
    "\n",
    "for p in pipelines:\n",
    "    p.fit(X_train, y_train)\n",
    "    predictions = p.predict(X_val)\n",
    "    print(classification_report(y_val,predictions))\n",
    "    print(confusion_matrix(y_val,predictions))"
   ]
  },
  {
   "cell_type": "code",
   "execution_count": null,
   "metadata": {},
   "outputs": [],
   "source": []
  },
  {
   "cell_type": "code",
   "execution_count": null,
   "metadata": {},
   "outputs": [],
   "source": [
    "# Graph ROC Curve for all features and first 4 features \n",
    "\n",
    "from sklearn.metrics import roc_auc_score, roc_curve\n",
    "\n",
    "plt.figure()\n",
    "\n",
    "# Compute False postive rate, and True positive rate\n",
    "fpr1, tpr1, thresholds1 = metrics.roc_curve(y_val, pipe_lr_ss.predict_proba(X_val)[:,1])\n",
    "fpr2, tpr2, thresholds2 = metrics.roc_curve(y_val, pipe_knn_ss.predict_proba(X_val)[:,1])\n",
    "fpr3, tpr3, thresholds3 = metrics.roc_curve(y_val, pipe_rf_ss.predict_proba(X_val)[:,1])\n",
    "fpr4, tpr4, thresholds4 = metrics.roc_curve(y_val, pipe_nb_ss.predict_proba(X_val)[:,1])\n",
    "#fpr5, tpr5, thresholds5 = metrics.roc_curve(y_val, pipe_svm_ss.predict_proba(X_val)[:,1])\n",
    "\n",
    "# Calculate Area under the curve to display on the plot\n",
    "auc1 = metrics.roc_auc_score(y_val,pipe_lr_ss.predict(X_val))\n",
    "auc2 = metrics.roc_auc_score(y_val,pipe_knn_ss.predict(X_val))\n",
    "auc3 = metrics.roc_auc_score(y_val,pipe_rf_ss.predict(X_val))\n",
    "auc4 = metrics.roc_auc_score(y_val,pipe_nb_ss.predict(X_val))\n",
    "#auc5 = metrics.roc_auc_score(y3_val,pipe_svm_ss.predict(X_val))\n",
    "\n",
    "\n",
    " \n",
    "\n",
    "    "
   ]
  },
  {
   "cell_type": "code",
   "execution_count": 55,
   "metadata": {},
   "outputs": [
    {
     "data": {
      "image/png": "[encoded data removed]",
      "text/plain": [
       "<Figure size 432x288 with 1 Axes>"
      ]
     },
     "metadata": {
      "needs_background": "light"
     },
     "output_type": "display_data"
    }
   ],
   "source": [
    "# Now, plot the computed values\n",
    "plt.plot(fpr1, tpr1, label='LR, %0.2f)' % (auc1),linewidth=1) \n",
    "plt.plot(fpr2, tpr2, label='KNN, %0.2f)' % (auc2),linewidth=1) \n",
    "plt.plot(fpr3, tpr3, label='RF,  %0.2f)' % (auc3),linewidth=1) \n",
    "plt.plot(fpr4, tpr4, label='NB,  %0.2f)' % (auc4),linewidth=1) \n",
    "#plt.plot(fpr5, tpr5, label='SVM,  %0.2f)' % (auc5),linewidth=1)\n",
    "\n",
    "plt.plot([0, 1], [0, 1],'r--')\n",
    "plt.xlim([0.0, 1.0])\n",
    "plt.ylim([0.0, 1.05])\n",
    "plt.xlabel('1-Specificity(False Positive Rate)')\n",
    "plt.ylabel('Sensitivity(True Positive Rate)')\n",
    "plt.title('Receiver Operating Characteristic')\n",
    "plt.legend(loc=\"best\",bbox_to_anchor=(1,1))\n",
    "bbox_inches = \"tight\"\n",
    "plt.savefig('ROC.jpeg',dpi=600,transparent=True)\n",
    "plt.show()"
   ]
  },
  {
   "cell_type": "code",
   "execution_count": null,
   "metadata": {},
   "outputs": [],
   "source": []
  },
  {
   "cell_type": "code",
   "execution_count": 70,
   "metadata": {},
   "outputs": [
    {
     "data": {
      "text/plain": [
       "21491.2"
      ]
     },
     "execution_count": 70,
     "metadata": {},
     "output_type": "execute_result"
    }
   ],
   "source": [
    ".8*584*46"
   ]
  },
  {
   "cell_type": "code",
   "execution_count": 10,
   "metadata": {
    "collapsed": true
   },
   "outputs": [
    {
     "name": "stdout",
     "output_type": "stream",
     "text": [
      "<class 'pandas.core.frame.DataFrame'>\n",
      "RangeIndex: 15 entries, 0 to 14\n",
      "Data columns (total 4 columns):\n",
      "injury and poisoning    15 non-null int64\n",
      "infectious              15 non-null int64\n",
      "external injury         15 non-null int64\n",
      "genitourinary           15 non-null int64\n",
      "dtypes: int64(4)\n",
      "memory usage: 560.0 bytes\n"
     ]
    }
   ],
   "source": [
    "test_X = pd.read_csv('test_data.csv')\n",
    "test_X.info()"
   ]
  },
  {
   "cell_type": "code",
   "execution_count": 11,
   "metadata": {
    "collapsed": true
   },
   "outputs": [
    {
     "name": "stdout",
     "output_type": "stream",
     "text": [
      "<class 'pandas.core.frame.DataFrame'>\n",
      "RangeIndex: 8 entries, 0 to 7\n",
      "Data columns (total 3 columns):\n",
      "injury and poisoning    8 non-null int64\n",
      "infectious              8 non-null int64\n",
      "external injury         8 non-null int64\n",
      "dtypes: int64(3)\n",
      "memory usage: 272.0 bytes\n"
     ]
    }
   ],
   "source": [
    "test_X3 = pd.read_csv('test_data3.csv')\n",
    "test_X3.info()"
   ]
  },
  {
   "cell_type": "code",
   "execution_count": 14,
   "metadata": {},
   "outputs": [
    {
     "name": "stdout",
     "output_type": "stream",
     "text": [
      "              precision    recall  f1-score   support\n",
      "\n",
      "         0.0       0.67      0.68      0.67      5072\n",
      "         1.0       0.67      0.67      0.67      5072\n",
      "\n",
      "   micro avg       0.67      0.67      0.67     10144\n",
      "   macro avg       0.67      0.67      0.67     10144\n",
      "weighted avg       0.67      0.67      0.67     10144\n",
      "\n",
      "[[3430 1642]\n",
      " [1690 3382]]\n"
     ]
    }
   ],
   "source": [
    "# CV \n",
    "\n",
    "pipe_lr_cv = Pipeline([('scl', StandardScaler()),\n",
    "                    ('clf', LogisticRegressionCV(cv=5, random_state=100))])\n",
    "\n",
    "pipe_lr_cv.fit(X_train, y_train)\n",
    "predictions_cv = pipe_lr_cv.predict(X_val)\n",
    "print(classification_report(y_val,predictions_cv))\n",
    "print(confusion_matrix(y_val,predictions_cv))"
   ]
  },
  {
   "cell_type": "code",
   "execution_count": 15,
   "metadata": {
    "collapsed": true
   },
   "outputs": [
    {
     "ename": "NameError",
     "evalue": "name 'pipe_lr' is not defined",
     "output_type": "error",
     "traceback": [
      "\u001b[0;31m---------------------------------------------------------------------------\u001b[0m",
      "\u001b[0;31mNameError\u001b[0m                                 Traceback (most recent call last)",
      "\u001b[0;32m<ipython-input-15-af09c2270348>\u001b[0m in \u001b[0;36m<module>\u001b[0;34m()\u001b[0m\n\u001b[0;32m----> 1\u001b[0;31m \u001b[0mpredictions2\u001b[0m \u001b[0;34m=\u001b[0m \u001b[0mpipe_lr\u001b[0m\u001b[0;34m.\u001b[0m\u001b[0mpredict\u001b[0m\u001b[0;34m(\u001b[0m\u001b[0mtest_X3\u001b[0m\u001b[0;34m)\u001b[0m\u001b[0;34m\u001b[0m\u001b[0;34m\u001b[0m\u001b[0m\n\u001b[0m\u001b[1;32m      2\u001b[0m \u001b[0mproba\u001b[0m \u001b[0;34m=\u001b[0m \u001b[0mpipe_lr\u001b[0m\u001b[0;34m.\u001b[0m\u001b[0mpredict_proba\u001b[0m\u001b[0;34m(\u001b[0m\u001b[0mtest_X3\u001b[0m\u001b[0;34m)\u001b[0m\u001b[0;34m\u001b[0m\u001b[0;34m\u001b[0m\u001b[0m\n",
      "\u001b[0;31mNameError\u001b[0m: name 'pipe_lr' is not defined"
     ]
    }
   ],
   "source": [
    "predictions2 = pipe_lr.predict(test_X3)\n",
    "proba = pipe_lr.predict_proba(test_X3)"
   ]
  },
  {
   "cell_type": "code",
   "execution_count": 23,
   "metadata": {
    "collapsed": true
   },
   "outputs": [
    {
     "data": {
      "text/html": [
       "<div>\n",
       "<style scoped>\n",
       "    .dataframe tbody tr th:only-of-type {\n",
       "        vertical-align: middle;\n",
       "    }\n",
       "\n",
       "    .dataframe tbody tr th {\n",
       "        vertical-align: top;\n",
       "    }\n",
       "\n",
       "    .dataframe thead th {\n",
       "        text-align: right;\n",
       "    }\n",
       "</style>\n",
       "<table border=\"1\" class=\"dataframe\">\n",
       "  <thead>\n",
       "    <tr style=\"text-align: right;\">\n",
       "      <th></th>\n",
       "      <th>0</th>\n",
       "    </tr>\n",
       "  </thead>\n",
       "  <tbody>\n",
       "    <tr>\n",
       "      <th>0</th>\n",
       "      <td>1.0</td>\n",
       "    </tr>\n",
       "    <tr>\n",
       "      <th>1</th>\n",
       "      <td>1.0</td>\n",
       "    </tr>\n",
       "    <tr>\n",
       "      <th>2</th>\n",
       "      <td>0.0</td>\n",
       "    </tr>\n",
       "    <tr>\n",
       "      <th>3</th>\n",
       "      <td>1.0</td>\n",
       "    </tr>\n",
       "    <tr>\n",
       "      <th>4</th>\n",
       "      <td>0.0</td>\n",
       "    </tr>\n",
       "    <tr>\n",
       "      <th>5</th>\n",
       "      <td>0.0</td>\n",
       "    </tr>\n",
       "    <tr>\n",
       "      <th>6</th>\n",
       "      <td>0.0</td>\n",
       "    </tr>\n",
       "    <tr>\n",
       "      <th>7</th>\n",
       "      <td>0.0</td>\n",
       "    </tr>\n",
       "  </tbody>\n",
       "</table>\n",
       "</div>"
      ],
      "text/plain": [
       "     0\n",
       "0  1.0\n",
       "1  1.0\n",
       "2  0.0\n",
       "3  1.0\n",
       "4  0.0\n",
       "5  0.0\n",
       "6  0.0\n",
       "7  0.0"
      ]
     },
     "execution_count": 23,
     "metadata": {},
     "output_type": "execute_result"
    }
   ],
   "source": [
    "predictions2 = pd.DataFrame(predictions2)\n",
    "predictions2"
   ]
  },
  {
   "cell_type": "code",
   "execution_count": 24,
   "metadata": {
    "collapsed": true
   },
   "outputs": [
    {
     "data": {
      "text/html": [
       "<div>\n",
       "<style scoped>\n",
       "    .dataframe tbody tr th:only-of-type {\n",
       "        vertical-align: middle;\n",
       "    }\n",
       "\n",
       "    .dataframe tbody tr th {\n",
       "        vertical-align: top;\n",
       "    }\n",
       "\n",
       "    .dataframe thead th {\n",
       "        text-align: right;\n",
       "    }\n",
       "</style>\n",
       "<table border=\"1\" class=\"dataframe\">\n",
       "  <thead>\n",
       "    <tr style=\"text-align: right;\">\n",
       "      <th></th>\n",
       "      <th>0</th>\n",
       "      <th>1</th>\n",
       "    </tr>\n",
       "  </thead>\n",
       "  <tbody>\n",
       "    <tr>\n",
       "      <th>0</th>\n",
       "      <td>0.345302</td>\n",
       "      <td>0.654698</td>\n",
       "    </tr>\n",
       "    <tr>\n",
       "      <th>1</th>\n",
       "      <td>0.256287</td>\n",
       "      <td>0.743713</td>\n",
       "    </tr>\n",
       "    <tr>\n",
       "      <th>2</th>\n",
       "      <td>0.502318</td>\n",
       "      <td>0.497682</td>\n",
       "    </tr>\n",
       "    <tr>\n",
       "      <th>3</th>\n",
       "      <td>0.397395</td>\n",
       "      <td>0.602605</td>\n",
       "    </tr>\n",
       "    <tr>\n",
       "      <th>4</th>\n",
       "      <td>0.724071</td>\n",
       "      <td>0.275929</td>\n",
       "    </tr>\n",
       "    <tr>\n",
       "      <th>5</th>\n",
       "      <td>0.631613</td>\n",
       "      <td>0.368387</td>\n",
       "    </tr>\n",
       "    <tr>\n",
       "      <th>6</th>\n",
       "      <td>0.833934</td>\n",
       "      <td>0.166066</td>\n",
       "    </tr>\n",
       "    <tr>\n",
       "      <th>7</th>\n",
       "      <td>0.766413</td>\n",
       "      <td>0.233587</td>\n",
       "    </tr>\n",
       "  </tbody>\n",
       "</table>\n",
       "</div>"
      ],
      "text/plain": [
       "          0         1\n",
       "0  0.345302  0.654698\n",
       "1  0.256287  0.743713\n",
       "2  0.502318  0.497682\n",
       "3  0.397395  0.602605\n",
       "4  0.724071  0.275929\n",
       "5  0.631613  0.368387\n",
       "6  0.833934  0.166066\n",
       "7  0.766413  0.233587"
      ]
     },
     "execution_count": 24,
     "metadata": {},
     "output_type": "execute_result"
    }
   ],
   "source": [
    "probabilities = pd.DataFrame(proba)\n",
    "probabilities"
   ]
  },
  {
   "cell_type": "code",
   "execution_count": 25,
   "metadata": {},
   "outputs": [
    {
     "data": {
      "text/html": [
       "<div>\n",
       "<style scoped>\n",
       "    .dataframe tbody tr th:only-of-type {\n",
       "        vertical-align: middle;\n",
       "    }\n",
       "\n",
       "    .dataframe tbody tr th {\n",
       "        vertical-align: top;\n",
       "    }\n",
       "\n",
       "    .dataframe thead th {\n",
       "        text-align: right;\n",
       "    }\n",
       "</style>\n",
       "<table border=\"1\" class=\"dataframe\">\n",
       "  <thead>\n",
       "    <tr style=\"text-align: right;\">\n",
       "      <th></th>\n",
       "      <th>injury and poisoning</th>\n",
       "      <th>infectious</th>\n",
       "      <th>external injury</th>\n",
       "      <th>results</th>\n",
       "      <th>probabilites_0</th>\n",
       "      <th>probabilites_1</th>\n",
       "    </tr>\n",
       "  </thead>\n",
       "  <tbody>\n",
       "    <tr>\n",
       "      <th>0</th>\n",
       "      <td>1</td>\n",
       "      <td>1</td>\n",
       "      <td>1</td>\n",
       "      <td>1.0</td>\n",
       "      <td>0.345302</td>\n",
       "      <td>0.654698</td>\n",
       "    </tr>\n",
       "    <tr>\n",
       "      <th>1</th>\n",
       "      <td>1</td>\n",
       "      <td>1</td>\n",
       "      <td>0</td>\n",
       "      <td>1.0</td>\n",
       "      <td>0.256287</td>\n",
       "      <td>0.743713</td>\n",
       "    </tr>\n",
       "    <tr>\n",
       "      <th>2</th>\n",
       "      <td>1</td>\n",
       "      <td>0</td>\n",
       "      <td>1</td>\n",
       "      <td>0.0</td>\n",
       "      <td>0.502318</td>\n",
       "      <td>0.497682</td>\n",
       "    </tr>\n",
       "    <tr>\n",
       "      <th>3</th>\n",
       "      <td>1</td>\n",
       "      <td>0</td>\n",
       "      <td>0</td>\n",
       "      <td>1.0</td>\n",
       "      <td>0.397395</td>\n",
       "      <td>0.602605</td>\n",
       "    </tr>\n",
       "    <tr>\n",
       "      <th>4</th>\n",
       "      <td>0</td>\n",
       "      <td>1</td>\n",
       "      <td>1</td>\n",
       "      <td>0.0</td>\n",
       "      <td>0.724071</td>\n",
       "      <td>0.275929</td>\n",
       "    </tr>\n",
       "    <tr>\n",
       "      <th>5</th>\n",
       "      <td>0</td>\n",
       "      <td>1</td>\n",
       "      <td>0</td>\n",
       "      <td>0.0</td>\n",
       "      <td>0.631613</td>\n",
       "      <td>0.368387</td>\n",
       "    </tr>\n",
       "    <tr>\n",
       "      <th>6</th>\n",
       "      <td>0</td>\n",
       "      <td>0</td>\n",
       "      <td>1</td>\n",
       "      <td>0.0</td>\n",
       "      <td>0.833934</td>\n",
       "      <td>0.166066</td>\n",
       "    </tr>\n",
       "    <tr>\n",
       "      <th>7</th>\n",
       "      <td>0</td>\n",
       "      <td>0</td>\n",
       "      <td>0</td>\n",
       "      <td>0.0</td>\n",
       "      <td>0.766413</td>\n",
       "      <td>0.233587</td>\n",
       "    </tr>\n",
       "  </tbody>\n",
       "</table>\n",
       "</div>"
      ],
      "text/plain": [
       "   injury and poisoning  infectious  external injury  results  probabilites_0  \\\n",
       "0                     1           1                1      1.0        0.345302   \n",
       "1                     1           1                0      1.0        0.256287   \n",
       "2                     1           0                1      0.0        0.502318   \n",
       "3                     1           0                0      1.0        0.397395   \n",
       "4                     0           1                1      0.0        0.724071   \n",
       "5                     0           1                0      0.0        0.631613   \n",
       "6                     0           0                1      0.0        0.833934   \n",
       "7                     0           0                0      0.0        0.766413   \n",
       "\n",
       "   probabilites_1  \n",
       "0        0.654698  \n",
       "1        0.743713  \n",
       "2        0.497682  \n",
       "3        0.602605  \n",
       "4        0.275929  \n",
       "5        0.368387  \n",
       "6        0.166066  \n",
       "7        0.233587  "
      ]
     },
     "execution_count": 25,
     "metadata": {},
     "output_type": "execute_result"
    }
   ],
   "source": [
    "results2 = test_X3.copy()\n",
    "results2['results'] = predictions2\n",
    "results2['probabilites_0'] = probabilities[0]\n",
    "results2['probabilites_1'] = probabilities[1]\n",
    "results2"
   ]
  },
  {
   "cell_type": "markdown",
   "metadata": {},
   "source": [
    "# TEST DATA"
   ]
  },
  {
   "cell_type": "code",
   "execution_count": 16,
   "metadata": {},
   "outputs": [],
   "source": [
    "with open('y_test.pickle', 'rb') as read_file:\n",
    "    y_test = pickle.load(read_file)"
   ]
  },
  {
   "cell_type": "code",
   "execution_count": 19,
   "metadata": {},
   "outputs": [
    {
     "data": {
      "text/plain": [
       "0.0    6350\n",
       "1.0    1287\n",
       "Name: CLABSI, dtype: int64"
      ]
     },
     "execution_count": 19,
     "metadata": {},
     "output_type": "execute_result"
    }
   ],
   "source": [
    "y_test.value_counts()"
   ]
  },
  {
   "cell_type": "code",
   "execution_count": 60,
   "metadata": {},
   "outputs": [],
   "source": [
    "with open('X_test.pickle', 'rb') as read_file:\n",
    "    X_test = pickle.load(read_file)"
   ]
  },
  {
   "cell_type": "code",
   "execution_count": 61,
   "metadata": {
    "collapsed": true
   },
   "outputs": [
    {
     "name": "stdout",
     "output_type": "stream",
     "text": [
      "<class 'pandas.core.frame.DataFrame'>\n",
      "Int64Index: 7637 entries, 7534 to 2179\n",
      "Data columns (total 36 columns):\n",
      "prior_ICU_hours                                 7637 non-null float64\n",
      "age_years                                       7637 non-null float64\n",
      "first_careunit_CSRU                             7637 non-null float64\n",
      "first_careunit_MICU                             7637 non-null float64\n",
      "first_careunit_SICU                             7637 non-null float64\n",
      "first_careunit_TSICU                            7637 non-null float64\n",
      "admission_referral_EMERGENCY ROOM ADMIT         7637 non-null float64\n",
      "admission_referral_PHYS REFERRAL                7637 non-null float64\n",
      "admission_referral_TRANSFER FROM HOSP           7637 non-null float64\n",
      "admission_referral_TRANSFER FROM OTHER HEALT    7637 non-null float64\n",
      "admission_referral_TRANSFER FROM SKILLED NUR    7637 non-null float64\n",
      "insurance_Medicaid                              7637 non-null float64\n",
      "insurance_Medicare                              7637 non-null float64\n",
      "insurance_Private                               7637 non-null float64\n",
      "insurance_Self Pay                              7637 non-null float64\n",
      "gender_F                                        7637 non-null float64\n",
      "No diagnosis                                    7637 non-null float64\n",
      "blood                                           7637 non-null float64\n",
      "circulatory                                     7637 non-null float64\n",
      "congenital                                      7637 non-null float64\n",
      "digestive                                       7637 non-null float64\n",
      "endocrine                                       7637 non-null float64\n",
      "external injury                                 7637 non-null float64\n",
      "genitourinary                                   7637 non-null float64\n",
      "infectious                                      7637 non-null float64\n",
      "injury and poisoning                            7637 non-null float64\n",
      "mental                                          7637 non-null float64\n",
      "misc                                            7637 non-null float64\n",
      "muscular                                        7637 non-null float64\n",
      "neoplasms                                       7637 non-null float64\n",
      "nervous                                         7637 non-null float64\n",
      "perinatal                                       7637 non-null float64\n",
      "pregnancy                                       7637 non-null float64\n",
      "respiratory                                     7637 non-null float64\n",
      "skin                                            7637 non-null float64\n",
      "special considerations                          7637 non-null float64\n",
      "dtypes: float64(36)\n",
      "memory usage: 2.2 MB\n"
     ]
    }
   ],
   "source": [
    "X_test.info()"
   ]
  },
  {
   "cell_type": "code",
   "execution_count": 21,
   "metadata": {},
   "outputs": [],
   "source": [
    "X_test3 = X_test[['injury and poisoning','infectious','external injury']]"
   ]
  },
  {
   "cell_type": "code",
   "execution_count": 22,
   "metadata": {},
   "outputs": [
    {
     "name": "stdout",
     "output_type": "stream",
     "text": [
      "              precision    recall  f1-score   support\n",
      "\n",
      "         0.0       0.91      0.68      0.78      6350\n",
      "         1.0       0.30      0.67      0.41      1287\n",
      "\n",
      "   micro avg       0.68      0.68      0.68      7637\n",
      "   macro avg       0.60      0.67      0.59      7637\n",
      "weighted avg       0.81      0.68      0.72      7637\n",
      "\n",
      "[[4320 2030]\n",
      " [ 430  857]]\n"
     ]
    }
   ],
   "source": [
    "predictions_test = pipe_lr_cv.predict(X_test3)\n",
    "proba_test = pipe_lr_cv.predict_proba(X_test3)\n",
    "print(classification_report(y_test,predictions_test))\n",
    "print(confusion_matrix(y_test,predictions_test))"
   ]
  },
  {
   "cell_type": "code",
   "execution_count": null,
   "metadata": {},
   "outputs": [],
   "source": []
  },
  {
   "cell_type": "markdown",
   "metadata": {},
   "source": [
    "# Categories predicted to be high risk are: \n",
    "* all features\n",
    "* injury/poisoning, infectious \n",
    "* injury/poisoning, external injury \n",
    "* injury/poisoning\n",
    "\n",
    "**How many patients a year have these conditions?** "
   ]
  },
  {
   "cell_type": "code",
   "execution_count": 27,
   "metadata": {},
   "outputs": [],
   "source": [
    "with open('merge_PDC.pickle', 'rb') as read_file:\n",
    "    df_PDC = pickle.load(read_file) "
   ]
  },
  {
   "cell_type": "code",
   "execution_count": 44,
   "metadata": {
    "collapsed": true
   },
   "outputs": [
    {
     "name": "stdout",
     "output_type": "stream",
     "text": [
      "<class 'pandas.core.frame.DataFrame'>\n",
      "Int64Index: 63739 entries, 0 to 63738\n",
      "Data columns (total 81 columns):\n",
      "subject_id                                      63739 non-null float64\n",
      "hadm_id                                         63739 non-null float64\n",
      "icustay_id                                      63739 non-null float64\n",
      "dbsource                                        63739 non-null object\n",
      "last_careunit                                   63739 non-null object\n",
      "first_wardid                                    63739 non-null float64\n",
      "last_wardid                                     63739 non-null float64\n",
      "intime                                          63739 non-null datetime64[ns]\n",
      "outtime                                         63736 non-null datetime64[ns]\n",
      "los                                             63736 non-null float64\n",
      "admittime                                       63739 non-null datetime64[ns]\n",
      "dischtime                                       63739 non-null datetime64[ns]\n",
      "deathtime                                       9234 non-null datetime64[ns]\n",
      "discharge_location                              63739 non-null object\n",
      "language                                        44010 non-null object\n",
      "religion                                        63216 non-null object\n",
      "marital_status                                  60721 non-null object\n",
      "edregtime                                       38221 non-null datetime64[ns]\n",
      "edouttime                                       38221 non-null datetime64[ns]\n",
      "diagnosis                                       63738 non-null object\n",
      "hospital_expire_flag                            63739 non-null float64\n",
      "has_chartevents_data                            63739 non-null float64\n",
      "dob                                             63739 non-null datetime64[ns]\n",
      "dod                                             29560 non-null datetime64[ns]\n",
      "dod_hosp                                        20502 non-null datetime64[ns]\n",
      "dod_ssn                                         24521 non-null datetime64[ns]\n",
      "expire_flag                                     63739 non-null float64\n",
      "time_before_ICU                                 63739 non-null timedelta64[ns]\n",
      "prior_ICU_hours                                 63739 non-null float64\n",
      "ER_time                                         38221 non-null timedelta64[ns]\n",
      "ER_hours                                        38221 non-null float64\n",
      "age_timedelta                                   63739 non-null timedelta64[ns]\n",
      "age_years                                       63739 non-null int64\n",
      "religion_bin                                    63739 non-null int64\n",
      "marital_status_bin_MARRIED                      63739 non-null uint8\n",
      "marital_status_bin_SINGLE                       63739 non-null uint8\n",
      "religion_2_1                                    63739 non-null uint8\n",
      "ethnicity_ASIAN                                 63739 non-null uint8\n",
      "ethnicity_BLACK/AFRICAN AMERICAN                63739 non-null uint8\n",
      "ethnicity_HISPANIC/LATINO                       63739 non-null uint8\n",
      "ethnicity_WHITE                                 63739 non-null uint8\n",
      "language_bin_0                                  63739 non-null uint8\n",
      "admission_type_EMERGENCY                        63739 non-null uint8\n",
      "admission_type_URGENT                           63739 non-null uint8\n",
      "admission_location_CLINIC REFERRAL/PREMATURE    63739 non-null uint8\n",
      "admission_location_EMERGENCY ROOM ADMIT         63739 non-null uint8\n",
      "admission_location_PHYS REFERRAL/NORMAL DELI    63739 non-null uint8\n",
      "admission_location_TRANSFER FROM HOSP/EXTRAM    63739 non-null uint8\n",
      "first_careunit_CCU                              63739 non-null uint8\n",
      "first_careunit_CSRU                             63739 non-null uint8\n",
      "first_careunit_MICU                             63739 non-null uint8\n",
      "first_careunit_SICU                             63739 non-null uint8\n",
      "insurance_Medicaid                              63739 non-null uint8\n",
      "insurance_Medicare                              63739 non-null uint8\n",
      "insurance_Private                               63739 non-null uint8\n",
      "insurance_Self Pay                              63739 non-null uint8\n",
      "gender_F                                        63739 non-null uint8\n",
      "CLABSI                                          63739 non-null float64\n",
      "No diagnosis                                    63739 non-null float64\n",
      "blood                                           63739 non-null float64\n",
      "circulatory                                     63739 non-null float64\n",
      "congenital                                      63739 non-null float64\n",
      "digestive                                       63739 non-null float64\n",
      "endocrine                                       63739 non-null float64\n",
      "external injury                                 63739 non-null float64\n",
      "genitourinary                                   63739 non-null float64\n",
      "infectious                                      63739 non-null float64\n",
      "injury and poisoning                            63739 non-null float64\n",
      "mental                                          63739 non-null float64\n",
      "misc                                            63739 non-null float64\n",
      "muscular                                        63739 non-null float64\n",
      "neoplasms                                       63739 non-null float64\n",
      "nervous                                         63739 non-null float64\n",
      "perinatal                                       63739 non-null float64\n",
      "pregnancy                                       63739 non-null float64\n",
      "respiratory                                     63739 non-null float64\n",
      "skin                                            63739 non-null float64\n",
      "special considerations                          63739 non-null float64\n",
      "starttime                                       38181 non-null datetime64[ns]\n",
      "endtime                                         38181 non-null datetime64[ns]\n",
      "duration_hours                                  38181 non-null float64\n",
      "dtypes: datetime64[ns](13), float64(33), int64(2), object(7), timedelta64[ns](3), uint8(23)\n",
      "memory usage: 30.1+ MB\n"
     ]
    }
   ],
   "source": [
    "df_PDC.info()"
   ]
  },
  {
   "cell_type": "code",
   "execution_count": 28,
   "metadata": {},
   "outputs": [],
   "source": [
    "def correct_values(value):\n",
    "    if value > 0: \n",
    "        return 1"
   ]
  },
  {
   "cell_type": "code",
   "execution_count": 29,
   "metadata": {},
   "outputs": [],
   "source": [
    "columns = (['CLABSI','No diagnosis', 'blood', 'circulatory', 'congenital', 'digestive', 'endocrine',\n",
    "       'external injury', 'genitourinary', 'infectious',\n",
    "       'injury and poisoning', 'mental', 'misc', 'muscular', 'neoplasms',\n",
    "       'nervous', 'perinatal', 'pregnancy', 'respiratory', 'skin',\n",
    "       'special considerations'])"
   ]
  },
  {
   "cell_type": "code",
   "execution_count": 30,
   "metadata": {},
   "outputs": [],
   "source": [
    "for c in columns: \n",
    "    df_PDC[c]= df_PDC[c].apply(correct_values)\n",
    "    df_PDC[c] = df_PDC[c].fillna(0)"
   ]
  },
  {
   "cell_type": "code",
   "execution_count": 31,
   "metadata": {},
   "outputs": [
    {
     "data": {
      "text/plain": [
       "0.0    56067\n",
       "1.0     7672\n",
       "Name: CLABSI, dtype: int64"
      ]
     },
     "execution_count": 31,
     "metadata": {},
     "output_type": "execute_result"
    }
   ],
   "source": [
    "df_PDC['CLABSI'].value_counts()"
   ]
  },
  {
   "cell_type": "code",
   "execution_count": 35,
   "metadata": {},
   "outputs": [],
   "source": [
    "condition11 = (df_PDC['injury and poisoning'] == 1) & (df_PDC['infectious'] == 1)"
   ]
  },
  {
   "cell_type": "code",
   "execution_count": 36,
   "metadata": {},
   "outputs": [],
   "source": [
    "ideal = df_PDC[condition11]"
   ]
  },
  {
   "cell_type": "code",
   "execution_count": 37,
   "metadata": {},
   "outputs": [
    {
     "name": "stdout",
     "output_type": "stream",
     "text": [
      "Number of infections in this condition: 3014\n",
      "Number of infections in whole dataset: 7672\n",
      "Percentage of infections captured by these conditions: 39.285714285714285\n",
      "Percent of patients captured by these conditions: 17.47124994116632\n"
     ]
    }
   ],
   "source": [
    "# How many infections fall into these criteria over all infections? \n",
    "\n",
    "# infections in ideal \n",
    "clabsi_in_ideal = ideal[ideal['CLABSI'] == 1]['CLABSI'].count()\n",
    "clabsi_in_total = df_PDC[df_PDC['CLABSI'] == 1]['CLABSI'].count()\n",
    "patients_in_ideal = ideal['icustay_id'].count()\n",
    "patients_in_total = df_PDC['icustay_id'].count()\n",
    "\n",
    "print(\"Number of infections in this condition: \" + str(clabsi_in_ideal))\n",
    "print(\"Number of infections in whole dataset: \" + str(clabsi_in_total))\n",
    "print(\"Percentage of infections captured by these conditions: \" + str(clabsi_in_ideal/clabsi_in_total*100))\n",
    "print(\"Percent of patients captured by these conditions: \" + str(patients_in_ideal/patients_in_total*100))\n"
   ]
  },
  {
   "cell_type": "markdown",
   "metadata": {},
   "source": [
    "## Look at Patients with Injury within patients who have central lines"
   ]
  },
  {
   "cell_type": "code",
   "execution_count": 38,
   "metadata": {},
   "outputs": [],
   "source": [
    "with open('merge_all_redone.pickle', 'rb') as read_file:\n",
    "    df = pickle.load(read_file)    "
   ]
  },
  {
   "cell_type": "code",
   "execution_count": 42,
   "metadata": {
    "collapsed": true
   },
   "outputs": [
    {
     "name": "stdout",
     "output_type": "stream",
     "text": [
      "<class 'pandas.core.frame.DataFrame'>\n",
      "Int64Index: 38211 entries, 0 to 38210\n",
      "Data columns (total 81 columns):\n",
      "icustay_id                                      38181 non-null float64\n",
      "starttime                                       38211 non-null datetime64[ns]\n",
      "endtime                                         38211 non-null datetime64[ns]\n",
      "duration_hours                                  38211 non-null float64\n",
      "subject_id                                      38181 non-null float64\n",
      "hadm_id                                         38181 non-null float64\n",
      "dbsource                                        38181 non-null object\n",
      "last_careunit                                   38181 non-null object\n",
      "first_wardid                                    38181 non-null float64\n",
      "last_wardid                                     38181 non-null float64\n",
      "intime                                          38181 non-null datetime64[ns]\n",
      "outtime                                         38181 non-null datetime64[ns]\n",
      "los                                             38181 non-null float64\n",
      "admittime                                       38181 non-null datetime64[ns]\n",
      "dischtime                                       38181 non-null datetime64[ns]\n",
      "deathtime                                       7306 non-null datetime64[ns]\n",
      "discharge_location                              38181 non-null object\n",
      "language                                        26886 non-null object\n",
      "religion                                        37877 non-null object\n",
      "marital_status                                  36352 non-null object\n",
      "edregtime                                       20180 non-null datetime64[ns]\n",
      "edouttime                                       20180 non-null datetime64[ns]\n",
      "diagnosis                                       38181 non-null object\n",
      "hospital_expire_flag                            38181 non-null float64\n",
      "has_chartevents_data                            38181 non-null float64\n",
      "dob                                             38181 non-null datetime64[ns]\n",
      "dod                                             19375 non-null datetime64[ns]\n",
      "dod_hosp                                        14054 non-null datetime64[ns]\n",
      "dod_ssn                                         15834 non-null datetime64[ns]\n",
      "expire_flag                                     38181 non-null float64\n",
      "time_before_ICU                                 38181 non-null timedelta64[ns]\n",
      "prior_ICU_hours                                 38181 non-null float64\n",
      "ER_time                                         20180 non-null timedelta64[ns]\n",
      "ER_hours                                        20180 non-null float64\n",
      "age_timedelta                                   38181 non-null timedelta64[ns]\n",
      "age_years                                       38181 non-null float64\n",
      "religion_bin                                    38181 non-null float64\n",
      "marital_status_bin_MARRIED                      38181 non-null float64\n",
      "marital_status_bin_SINGLE                       38181 non-null float64\n",
      "religion_2_1                                    38181 non-null float64\n",
      "ethnicity_ASIAN                                 38181 non-null float64\n",
      "ethnicity_BLACK/AFRICAN AMERICAN                38181 non-null float64\n",
      "ethnicity_HISPANIC/LATINO                       38181 non-null float64\n",
      "ethnicity_WHITE                                 38181 non-null float64\n",
      "language_bin_0                                  38181 non-null float64\n",
      "admission_type_EMERGENCY                        38181 non-null float64\n",
      "admission_type_URGENT                           38181 non-null float64\n",
      "admission_location_CLINIC REFERRAL/PREMATURE    38181 non-null float64\n",
      "admission_location_EMERGENCY ROOM ADMIT         38181 non-null float64\n",
      "admission_location_PHYS REFERRAL/NORMAL DELI    38181 non-null float64\n",
      "admission_location_TRANSFER FROM HOSP/EXTRAM    38181 non-null float64\n",
      "first_careunit_CCU                              38181 non-null float64\n",
      "first_careunit_CSRU                             38181 non-null float64\n",
      "first_careunit_MICU                             38181 non-null float64\n",
      "first_careunit_SICU                             38181 non-null float64\n",
      "insurance_Medicaid                              38181 non-null float64\n",
      "insurance_Medicare                              38181 non-null float64\n",
      "insurance_Private                               38181 non-null float64\n",
      "insurance_Self Pay                              38181 non-null float64\n",
      "gender_F                                        38181 non-null float64\n",
      "CLABSI                                          38181 non-null float64\n",
      "No diagnosis                                    38181 non-null float64\n",
      "blood                                           38181 non-null float64\n",
      "circulatory                                     38181 non-null float64\n",
      "congenital                                      38181 non-null float64\n",
      "digestive                                       38181 non-null float64\n",
      "endocrine                                       38181 non-null float64\n",
      "external injury                                 38181 non-null float64\n",
      "genitourinary                                   38181 non-null float64\n",
      "infectious                                      38181 non-null float64\n",
      "injury and poisoning                            38181 non-null float64\n",
      "mental                                          38181 non-null float64\n",
      "misc                                            38181 non-null float64\n",
      "muscular                                        38181 non-null float64\n",
      "neoplasms                                       38181 non-null float64\n",
      "nervous                                         38181 non-null float64\n",
      "perinatal                                       38181 non-null float64\n",
      "pregnancy                                       38181 non-null float64\n",
      "respiratory                                     38181 non-null float64\n",
      "skin                                            38181 non-null float64\n",
      "special considerations                          38181 non-null float64\n",
      "dtypes: datetime64[ns](13), float64(58), object(7), timedelta64[ns](3)\n",
      "memory usage: 23.9+ MB\n"
     ]
    }
   ],
   "source": [
    "df.info()"
   ]
  },
  {
   "cell_type": "code",
   "execution_count": 50,
   "metadata": {},
   "outputs": [],
   "source": [
    "def correct_values(value):\n",
    "    if value > 0: \n",
    "        return 1"
   ]
  },
  {
   "cell_type": "code",
   "execution_count": 51,
   "metadata": {},
   "outputs": [],
   "source": [
    "columns = (['CLABSI','No diagnosis', 'blood', 'circulatory', 'congenital', 'digestive', 'endocrine',\n",
    "       'external injury', 'genitourinary', 'infectious',\n",
    "       'injury and poisoning', 'mental', 'misc', 'muscular', 'neoplasms',\n",
    "       'nervous', 'perinatal', 'pregnancy', 'respiratory', 'skin',\n",
    "       'special considerations'])"
   ]
  },
  {
   "cell_type": "code",
   "execution_count": 55,
   "metadata": {},
   "outputs": [],
   "source": [
    "for c in columns: \n",
    "    df[c]= df[c].apply(correct_values)\n",
    "    df[c] = df[c].fillna(0)"
   ]
  },
  {
   "cell_type": "code",
   "execution_count": 56,
   "metadata": {
    "collapsed": true
   },
   "outputs": [
    {
     "name": "stdout",
     "output_type": "stream",
     "text": [
      "<class 'pandas.core.frame.DataFrame'>\n",
      "Int64Index: 38211 entries, 0 to 38210\n",
      "Data columns (total 81 columns):\n",
      "icustay_id                                      38181 non-null float64\n",
      "starttime                                       38211 non-null datetime64[ns]\n",
      "endtime                                         38211 non-null datetime64[ns]\n",
      "duration_hours                                  38211 non-null float64\n",
      "subject_id                                      38181 non-null float64\n",
      "hadm_id                                         38181 non-null float64\n",
      "dbsource                                        38181 non-null object\n",
      "last_careunit                                   38181 non-null object\n",
      "first_wardid                                    38181 non-null float64\n",
      "last_wardid                                     38181 non-null float64\n",
      "intime                                          38181 non-null datetime64[ns]\n",
      "outtime                                         38181 non-null datetime64[ns]\n",
      "los                                             38181 non-null float64\n",
      "admittime                                       38181 non-null datetime64[ns]\n",
      "dischtime                                       38181 non-null datetime64[ns]\n",
      "deathtime                                       7306 non-null datetime64[ns]\n",
      "discharge_location                              38181 non-null object\n",
      "language                                        26886 non-null object\n",
      "religion                                        37877 non-null object\n",
      "marital_status                                  36352 non-null object\n",
      "edregtime                                       20180 non-null datetime64[ns]\n",
      "edouttime                                       20180 non-null datetime64[ns]\n",
      "diagnosis                                       38181 non-null object\n",
      "hospital_expire_flag                            38181 non-null float64\n",
      "has_chartevents_data                            38181 non-null float64\n",
      "dob                                             38181 non-null datetime64[ns]\n",
      "dod                                             19375 non-null datetime64[ns]\n",
      "dod_hosp                                        14054 non-null datetime64[ns]\n",
      "dod_ssn                                         15834 non-null datetime64[ns]\n",
      "expire_flag                                     38181 non-null float64\n",
      "time_before_ICU                                 38181 non-null timedelta64[ns]\n",
      "prior_ICU_hours                                 38181 non-null float64\n",
      "ER_time                                         20180 non-null timedelta64[ns]\n",
      "ER_hours                                        20180 non-null float64\n",
      "age_timedelta                                   38181 non-null timedelta64[ns]\n",
      "age_years                                       38181 non-null float64\n",
      "religion_bin                                    38181 non-null float64\n",
      "marital_status_bin_MARRIED                      38181 non-null float64\n",
      "marital_status_bin_SINGLE                       38181 non-null float64\n",
      "religion_2_1                                    38181 non-null float64\n",
      "ethnicity_ASIAN                                 38181 non-null float64\n",
      "ethnicity_BLACK/AFRICAN AMERICAN                38181 non-null float64\n",
      "ethnicity_HISPANIC/LATINO                       38181 non-null float64\n",
      "ethnicity_WHITE                                 38181 non-null float64\n",
      "language_bin_0                                  38181 non-null float64\n",
      "admission_type_EMERGENCY                        38181 non-null float64\n",
      "admission_type_URGENT                           38181 non-null float64\n",
      "admission_location_CLINIC REFERRAL/PREMATURE    38181 non-null float64\n",
      "admission_location_EMERGENCY ROOM ADMIT         38181 non-null float64\n",
      "admission_location_PHYS REFERRAL/NORMAL DELI    38181 non-null float64\n",
      "admission_location_TRANSFER FROM HOSP/EXTRAM    38181 non-null float64\n",
      "first_careunit_CCU                              38181 non-null float64\n",
      "first_careunit_CSRU                             38181 non-null float64\n",
      "first_careunit_MICU                             38181 non-null float64\n",
      "first_careunit_SICU                             38181 non-null float64\n",
      "insurance_Medicaid                              38181 non-null float64\n",
      "insurance_Medicare                              38181 non-null float64\n",
      "insurance_Private                               38181 non-null float64\n",
      "insurance_Self Pay                              38181 non-null float64\n",
      "gender_F                                        38181 non-null float64\n",
      "CLABSI                                          38211 non-null float64\n",
      "No diagnosis                                    38211 non-null float64\n",
      "blood                                           38211 non-null float64\n",
      "circulatory                                     38211 non-null float64\n",
      "congenital                                      38211 non-null float64\n",
      "digestive                                       38211 non-null float64\n",
      "endocrine                                       38211 non-null float64\n",
      "external injury                                 38211 non-null float64\n",
      "genitourinary                                   38211 non-null float64\n",
      "infectious                                      38211 non-null float64\n",
      "injury and poisoning                            38211 non-null float64\n",
      "mental                                          38211 non-null float64\n",
      "misc                                            38211 non-null float64\n",
      "muscular                                        38211 non-null float64\n",
      "neoplasms                                       38211 non-null float64\n",
      "nervous                                         38211 non-null float64\n",
      "perinatal                                       38211 non-null float64\n",
      "pregnancy                                       38211 non-null float64\n",
      "respiratory                                     38211 non-null float64\n",
      "skin                                            38211 non-null float64\n",
      "special considerations                          38211 non-null float64\n",
      "dtypes: datetime64[ns](13), float64(58), object(7), timedelta64[ns](3)\n",
      "memory usage: 23.9+ MB\n"
     ]
    }
   ],
   "source": [
    "central_lines_df = df[df['duration_hours'] >0]\n",
    "central_lines_df.info()"
   ]
  },
  {
   "cell_type": "code",
   "execution_count": 57,
   "metadata": {},
   "outputs": [
    {
     "data": {
      "text/plain": [
       "1.0    21420\n",
       "0.0    16791\n",
       "Name: injury and poisoning, dtype: int64"
      ]
     },
     "execution_count": 57,
     "metadata": {},
     "output_type": "execute_result"
    }
   ],
   "source": [
    "central_lines_df['injury and poisoning'].value_counts()"
   ]
  },
  {
   "cell_type": "code",
   "execution_count": 59,
   "metadata": {},
   "outputs": [],
   "source": [
    "condition1 = (df['injury and poisoning'] == 1) & (df['infectious'] == 1)\n",
    "condition2 = df['injury and poisoning'] == 1"
   ]
  },
  {
   "cell_type": "code",
   "execution_count": 60,
   "metadata": {},
   "outputs": [],
   "source": [
    "both = df[condition1]\n",
    "injury_alone = df[condition2]"
   ]
  },
  {
   "cell_type": "code",
   "execution_count": 64,
   "metadata": {},
   "outputs": [],
   "source": [
    "# How many infections fall into these criteria over all infections? \n",
    "\n",
    "# infections in ideal \n",
    "cli_both = both[both['CLABSI'] == 1]['CLABSI'].count()\n",
    "cli_injury_alone = injury_alone[injury_alone['CLABSI'] == 1]['CLABSI'].count()\n",
    "cli_in_cent_lines = central_lines_df[central_lines_df['CLABSI'] == 1]['CLABSI'].count()\n",
    "patients_w_cent_lines = central_lines_df['icustay_id'].count()\n",
    "patients_in_both = both['icustay_id'].count()\n",
    "patients_in_injury_alone = injury_alone['icustay_id'].count()\n",
    "patients_in_CentLines = central_lines_df['icustay_id'].count()\n",
    "patients_in_total = df_PDC['icustay_id'].count()"
   ]
  },
  {
   "cell_type": "code",
   "execution_count": 67,
   "metadata": {},
   "outputs": [
    {
     "name": "stdout",
     "output_type": "stream",
     "text": [
      "Number of infections in this condition: 2699\n",
      "Number of infections possible: 6427\n",
      "Percentage of infections captured by these conditions: 41.9947098179555\n",
      "Percent of patients captured by these conditions: 14.515445802412966\n"
     ]
    }
   ],
   "source": [
    "# BOTH\n",
    "print(\"Number of infections in this condition: \" + str(cli_both))\n",
    "print(\"Number of infections possible: \" + str(cli_in_cent_lines))\n",
    "print(\"Percentage of infections captured by these conditions: \" + str(cli_both/cli_in_cent_lines*100))\n",
    "print(\"Percent of patients captured by these conditions: \" + str(patients_in_both/patients_in_total*100))"
   ]
  },
  {
   "cell_type": "code",
   "execution_count": 68,
   "metadata": {},
   "outputs": [
    {
     "name": "stdout",
     "output_type": "stream",
     "text": [
      "Number of infections in this condition: 5312\n",
      "Number of infections possible: 6427\n",
      "Percentage of infections captured by these conditions: 82.65131476583166\n",
      "Percent of patients captured by these conditions: 33.60579864760979\n"
     ]
    }
   ],
   "source": [
    "# INJURY ALONE\n",
    "print(\"Number of infections in this condition: \" + str(cli_injury_alone))\n",
    "print(\"Number of infections possible: \" + str(cli_in_cent_lines))\n",
    "print(\"Percentage of infections captured by these conditions: \" + str(cli_injury_alone/cli_in_cent_lines*100))\n",
    "print(\"Percent of patients captured by these conditions: \" + str(patients_in_injury_alone/patients_in_total*100))"
   ]
  },
  {
   "cell_type": "code",
   "execution_count": 70,
   "metadata": {},
   "outputs": [
    {
     "data": {
      "text/plain": [
       "21491.2"
      ]
     },
     "execution_count": 70,
     "metadata": {},
     "output_type": "execute_result"
    }
   ],
   "source": [
    "584*.8*46\n"
   ]
  },
  {
   "cell_type": "code",
   "execution_count": 79,
   "metadata": {},
   "outputs": [
    {
     "data": {
      "text/plain": [
       "60"
      ]
     },
     "execution_count": 79,
     "metadata": {},
     "output_type": "execute_result"
    }
   ],
   "source": [
    "15*4"
   ]
  },
  {
   "cell_type": "code",
   "execution_count": 81,
   "metadata": {},
   "outputs": [
    {
     "data": {
      "text/plain": [
       "11282.88"
      ]
     },
     "execution_count": 81,
     "metadata": {},
     "output_type": "execute_result"
    }
   ],
   "source": [
    ".42*584*46"
   ]
  },
  {
   "cell_type": "code",
   "execution_count": 82,
   "metadata": {},
   "outputs": [
    {
     "data": {
      "text/plain": [
       "8.28288"
      ]
     },
     "execution_count": 82,
     "metadata": {},
     "output_type": "execute_result"
    }
   ],
   "source": [
    "11.28288 - 3"
   ]
  },
  {
   "cell_type": "code",
   "execution_count": 85,
   "metadata": {},
   "outputs": [
    {
     "data": {
      "text/plain": [
       "Text(0, 0.5, 'Savings (dollars in millions)')"
      ]
     },
     "execution_count": 85,
     "metadata": {},
     "output_type": "execute_result"
    },
    {
     "data": {
      "image/png": "[encoded data removed]",
      "text/plain": [
       "<Figure size 432x288 with 1 Axes>"
      ]
     },
     "metadata": {
      "needs_background": "light"
     },
     "output_type": "display_data"
    }
   ],
   "source": [
    "y = [21.5,15.5,8.3,0]\n",
    "x = ['potential savings','30% new hires','15% new hires','Current staff']\n",
    "\n",
    "sns.barplot(x,y,color='darkblue')\n",
    "plt.xlabel('Nursing staff')\n",
    "plt.ylabel('Savings (dollars in millions)')"
   ]
  },
  {
   "cell_type": "markdown",
   "metadata": {},
   "source": [
    "## Test data"
   ]
  },
  {
   "cell_type": "code",
   "execution_count": 64,
   "metadata": {},
   "outputs": [],
   "source": [
    "test_together = X_test"
   ]
  },
  {
   "cell_type": "code",
   "execution_count": 65,
   "metadata": {},
   "outputs": [
    {
     "data": {
      "text/html": [
       "<div>\n",
       "<style scoped>\n",
       "    .dataframe tbody tr th:only-of-type {\n",
       "        vertical-align: middle;\n",
       "    }\n",
       "\n",
       "    .dataframe tbody tr th {\n",
       "        vertical-align: top;\n",
       "    }\n",
       "\n",
       "    .dataframe thead th {\n",
       "        text-align: right;\n",
       "    }\n",
       "</style>\n",
       "<table border=\"1\" class=\"dataframe\">\n",
       "  <thead>\n",
       "    <tr style=\"text-align: right;\">\n",
       "      <th></th>\n",
       "      <th>prior_ICU_hours</th>\n",
       "      <th>age_years</th>\n",
       "      <th>first_careunit_CSRU</th>\n",
       "      <th>first_careunit_MICU</th>\n",
       "      <th>first_careunit_SICU</th>\n",
       "      <th>first_careunit_TSICU</th>\n",
       "      <th>admission_referral_EMERGENCY ROOM ADMIT</th>\n",
       "      <th>admission_referral_PHYS REFERRAL</th>\n",
       "      <th>admission_referral_TRANSFER FROM HOSP</th>\n",
       "      <th>admission_referral_TRANSFER FROM OTHER HEALT</th>\n",
       "      <th>...</th>\n",
       "      <th>mental</th>\n",
       "      <th>misc</th>\n",
       "      <th>muscular</th>\n",
       "      <th>neoplasms</th>\n",
       "      <th>nervous</th>\n",
       "      <th>perinatal</th>\n",
       "      <th>pregnancy</th>\n",
       "      <th>respiratory</th>\n",
       "      <th>skin</th>\n",
       "      <th>special considerations</th>\n",
       "    </tr>\n",
       "  </thead>\n",
       "  <tbody>\n",
       "    <tr>\n",
       "      <th>7534</th>\n",
       "      <td>657.2</td>\n",
       "      <td>76.0</td>\n",
       "      <td>0.0</td>\n",
       "      <td>0.0</td>\n",
       "      <td>0.0</td>\n",
       "      <td>0.0</td>\n",
       "      <td>0.0</td>\n",
       "      <td>0.0</td>\n",
       "      <td>1.0</td>\n",
       "      <td>0.0</td>\n",
       "      <td>...</td>\n",
       "      <td>1.0</td>\n",
       "      <td>0.0</td>\n",
       "      <td>0.0</td>\n",
       "      <td>0.0</td>\n",
       "      <td>0.0</td>\n",
       "      <td>0.0</td>\n",
       "      <td>0.0</td>\n",
       "      <td>1.0</td>\n",
       "      <td>0.0</td>\n",
       "      <td>0.0</td>\n",
       "    </tr>\n",
       "    <tr>\n",
       "      <th>24269</th>\n",
       "      <td>13.3</td>\n",
       "      <td>82.0</td>\n",
       "      <td>0.0</td>\n",
       "      <td>0.0</td>\n",
       "      <td>0.0</td>\n",
       "      <td>1.0</td>\n",
       "      <td>1.0</td>\n",
       "      <td>0.0</td>\n",
       "      <td>0.0</td>\n",
       "      <td>0.0</td>\n",
       "      <td>...</td>\n",
       "      <td>0.0</td>\n",
       "      <td>1.0</td>\n",
       "      <td>0.0</td>\n",
       "      <td>0.0</td>\n",
       "      <td>0.0</td>\n",
       "      <td>0.0</td>\n",
       "      <td>0.0</td>\n",
       "      <td>0.0</td>\n",
       "      <td>0.0</td>\n",
       "      <td>0.0</td>\n",
       "    </tr>\n",
       "    <tr>\n",
       "      <th>9625</th>\n",
       "      <td>0.2</td>\n",
       "      <td>85.0</td>\n",
       "      <td>0.0</td>\n",
       "      <td>0.0</td>\n",
       "      <td>1.0</td>\n",
       "      <td>0.0</td>\n",
       "      <td>1.0</td>\n",
       "      <td>0.0</td>\n",
       "      <td>0.0</td>\n",
       "      <td>0.0</td>\n",
       "      <td>...</td>\n",
       "      <td>0.0</td>\n",
       "      <td>1.0</td>\n",
       "      <td>1.0</td>\n",
       "      <td>0.0</td>\n",
       "      <td>0.0</td>\n",
       "      <td>0.0</td>\n",
       "      <td>0.0</td>\n",
       "      <td>1.0</td>\n",
       "      <td>0.0</td>\n",
       "      <td>0.0</td>\n",
       "    </tr>\n",
       "    <tr>\n",
       "      <th>36458</th>\n",
       "      <td>41.6</td>\n",
       "      <td>57.0</td>\n",
       "      <td>1.0</td>\n",
       "      <td>0.0</td>\n",
       "      <td>0.0</td>\n",
       "      <td>0.0</td>\n",
       "      <td>0.0</td>\n",
       "      <td>1.0</td>\n",
       "      <td>0.0</td>\n",
       "      <td>0.0</td>\n",
       "      <td>...</td>\n",
       "      <td>1.0</td>\n",
       "      <td>0.0</td>\n",
       "      <td>0.0</td>\n",
       "      <td>0.0</td>\n",
       "      <td>1.0</td>\n",
       "      <td>0.0</td>\n",
       "      <td>0.0</td>\n",
       "      <td>1.0</td>\n",
       "      <td>0.0</td>\n",
       "      <td>1.0</td>\n",
       "    </tr>\n",
       "    <tr>\n",
       "      <th>26430</th>\n",
       "      <td>0.2</td>\n",
       "      <td>86.0</td>\n",
       "      <td>0.0</td>\n",
       "      <td>1.0</td>\n",
       "      <td>0.0</td>\n",
       "      <td>0.0</td>\n",
       "      <td>0.0</td>\n",
       "      <td>0.0</td>\n",
       "      <td>0.0</td>\n",
       "      <td>0.0</td>\n",
       "      <td>...</td>\n",
       "      <td>0.0</td>\n",
       "      <td>1.0</td>\n",
       "      <td>0.0</td>\n",
       "      <td>0.0</td>\n",
       "      <td>1.0</td>\n",
       "      <td>0.0</td>\n",
       "      <td>0.0</td>\n",
       "      <td>1.0</td>\n",
       "      <td>0.0</td>\n",
       "      <td>1.0</td>\n",
       "    </tr>\n",
       "  </tbody>\n",
       "</table>\n",
       "<p>5 rows × 36 columns</p>\n",
       "</div>"
      ],
      "text/plain": [
       "       prior_ICU_hours  age_years  first_careunit_CSRU  first_careunit_MICU  \\\n",
       "7534             657.2       76.0                  0.0                  0.0   \n",
       "24269             13.3       82.0                  0.0                  0.0   \n",
       "9625               0.2       85.0                  0.0                  0.0   \n",
       "36458             41.6       57.0                  1.0                  0.0   \n",
       "26430              0.2       86.0                  0.0                  1.0   \n",
       "\n",
       "       first_careunit_SICU  first_careunit_TSICU  \\\n",
       "7534                   0.0                   0.0   \n",
       "24269                  0.0                   1.0   \n",
       "9625                   1.0                   0.0   \n",
       "36458                  0.0                   0.0   \n",
       "26430                  0.0                   0.0   \n",
       "\n",
       "       admission_referral_EMERGENCY ROOM ADMIT  \\\n",
       "7534                                       0.0   \n",
       "24269                                      1.0   \n",
       "9625                                       1.0   \n",
       "36458                                      0.0   \n",
       "26430                                      0.0   \n",
       "\n",
       "       admission_referral_PHYS REFERRAL  \\\n",
       "7534                                0.0   \n",
       "24269                               0.0   \n",
       "9625                                0.0   \n",
       "36458                               1.0   \n",
       "26430                               0.0   \n",
       "\n",
       "       admission_referral_TRANSFER FROM HOSP  \\\n",
       "7534                                     1.0   \n",
       "24269                                    0.0   \n",
       "9625                                     0.0   \n",
       "36458                                    0.0   \n",
       "26430                                    0.0   \n",
       "\n",
       "       admission_referral_TRANSFER FROM OTHER HEALT  ...  mental  misc  \\\n",
       "7534                                            0.0  ...     1.0   0.0   \n",
       "24269                                           0.0  ...     0.0   1.0   \n",
       "9625                                            0.0  ...     0.0   1.0   \n",
       "36458                                           0.0  ...     1.0   0.0   \n",
       "26430                                           0.0  ...     0.0   1.0   \n",
       "\n",
       "       muscular  neoplasms  nervous  perinatal  pregnancy  respiratory  skin  \\\n",
       "7534        0.0        0.0      0.0        0.0        0.0          1.0   0.0   \n",
       "24269       0.0        0.0      0.0        0.0        0.0          0.0   0.0   \n",
       "9625        1.0        0.0      0.0        0.0        0.0          1.0   0.0   \n",
       "36458       0.0        0.0      1.0        0.0        0.0          1.0   0.0   \n",
       "26430       0.0        0.0      1.0        0.0        0.0          1.0   0.0   \n",
       "\n",
       "       special considerations  \n",
       "7534                      0.0  \n",
       "24269                     0.0  \n",
       "9625                      0.0  \n",
       "36458                     1.0  \n",
       "26430                     1.0  \n",
       "\n",
       "[5 rows x 36 columns]"
      ]
     },
     "execution_count": 65,
     "metadata": {},
     "output_type": "execute_result"
    }
   ],
   "source": [
    "test_together.head()"
   ]
  },
  {
   "cell_type": "code",
   "execution_count": 66,
   "metadata": {},
   "outputs": [
    {
     "name": "stdout",
     "output_type": "stream",
     "text": [
      "<class 'pandas.core.frame.DataFrame'>\n",
      "Int64Index: 7637 entries, 7534 to 2179\n",
      "Data columns (total 37 columns):\n",
      "prior_ICU_hours                                 7637 non-null float64\n",
      "age_years                                       7637 non-null float64\n",
      "first_careunit_CSRU                             7637 non-null float64\n",
      "first_careunit_MICU                             7637 non-null float64\n",
      "first_careunit_SICU                             7637 non-null float64\n",
      "first_careunit_TSICU                            7637 non-null float64\n",
      "admission_referral_EMERGENCY ROOM ADMIT         7637 non-null float64\n",
      "admission_referral_PHYS REFERRAL                7637 non-null float64\n",
      "admission_referral_TRANSFER FROM HOSP           7637 non-null float64\n",
      "admission_referral_TRANSFER FROM OTHER HEALT    7637 non-null float64\n",
      "admission_referral_TRANSFER FROM SKILLED NUR    7637 non-null float64\n",
      "insurance_Medicaid                              7637 non-null float64\n",
      "insurance_Medicare                              7637 non-null float64\n",
      "insurance_Private                               7637 non-null float64\n",
      "insurance_Self Pay                              7637 non-null float64\n",
      "gender_F                                        7637 non-null float64\n",
      "No diagnosis                                    7637 non-null float64\n",
      "blood                                           7637 non-null float64\n",
      "circulatory                                     7637 non-null float64\n",
      "congenital                                      7637 non-null float64\n",
      "digestive                                       7637 non-null float64\n",
      "endocrine                                       7637 non-null float64\n",
      "external injury                                 7637 non-null float64\n",
      "genitourinary                                   7637 non-null float64\n",
      "infectious                                      7637 non-null float64\n",
      "injury and poisoning                            7637 non-null float64\n",
      "mental                                          7637 non-null float64\n",
      "misc                                            7637 non-null float64\n",
      "muscular                                        7637 non-null float64\n",
      "neoplasms                                       7637 non-null float64\n",
      "nervous                                         7637 non-null float64\n",
      "perinatal                                       7637 non-null float64\n",
      "pregnancy                                       7637 non-null float64\n",
      "respiratory                                     7637 non-null float64\n",
      "skin                                            7637 non-null float64\n",
      "special considerations                          7637 non-null float64\n",
      "CLABSI                                          7637 non-null float64\n",
      "dtypes: float64(37)\n",
      "memory usage: 2.2 MB\n"
     ]
    }
   ],
   "source": [
    "test_together['CLABSI'] = y_test\n",
    "test_together.info()"
   ]
  },
  {
   "cell_type": "code",
   "execution_count": 68,
   "metadata": {},
   "outputs": [
    {
     "data": {
      "text/plain": [
       "1287"
      ]
     },
     "execution_count": 68,
     "metadata": {},
     "output_type": "execute_result"
    }
   ],
   "source": [
    "patients_w_infection = test_together[test_together['CLABSI'] == 1]['CLABSI'].count()\n",
    "patients_w_infection"
   ]
  },
  {
   "cell_type": "code",
   "execution_count": null,
   "metadata": {},
   "outputs": [],
   "source": []
  }
 ],
 "metadata": {
  "kernelspec": {
   "display_name": "Python 3",
   "language": "python",
   "name": "python3"
  },
  "language_info": {
   "codemirror_mode": {
    "name": "ipython",
    "version": 3
   },
   "file_extension": ".py",
   "mimetype": "text/x-python",
   "name": "python",
   "nbconvert_exporter": "python",
   "pygments_lexer": "ipython3",
   "version": "3.6.8"
  }
 },
 "nbformat": 4,
 "nbformat_minor": 2
}
