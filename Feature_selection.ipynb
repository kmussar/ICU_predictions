{
 "cells": [
  {
   "cell_type": "code",
   "execution_count": 2,
   "metadata": {},
   "outputs": [
    {
     "name": "stderr",
     "output_type": "stream",
     "text": [
      "/home/kmussar/anaconda3/lib/python3.6/importlib/_bootstrap.py:219: RuntimeWarning: numpy.dtype size changed, may indicate binary incompatibility. Expected 96, got 88\n",
      "  return f(*args, **kwds)\n"
     ]
    }
   ],
   "source": [
    "import pickle\n",
    "import pandas as pd\n",
    "import numpy as np\n",
    "import matplotlib.pyplot as plt\n",
    "import seaborn as sns\n",
    "from sklearn.model_selection import train_test_split, GridSearchCV, KFold, cross_val_predict,cross_val_score\n",
    "from matplotlib.pyplot import specgram\n",
    "%matplotlib inline\n",
    "from sklearn.pipeline import Pipeline\n",
    "from sklearn.preprocessing import StandardScaler\n",
    "from sklearn.linear_model import LogisticRegression\n",
    "from sklearn.neighbors import KNeighborsClassifier\n",
    "from sklearn.svm import SVC, LinearSVC\n",
    "from sklearn.tree import DecisionTreeClassifier\n",
    "from sklearn.ensemble import RandomForestClassifier,ExtraTreesClassifier\n",
    "from sklearn import metrics\n",
    "from sklearn.metrics import classification_report, confusion_matrix, accuracy_score\n",
    "from sklearn.datasets import make_classification\n",
    "from sklearn.naive_bayes import GaussianNB\n",
    "from sklearn import naive_bayes\n",
    "import xgboost as xgb\n",
    "from xgboost import XGBClassifier\n",
    "from collections import Counter\n",
    "from mlxtend.plotting import plot_decision_regions\n",
    "from imblearn.over_sampling import RandomOverSampler"
   ]
  },
  {
   "cell_type": "code",
   "execution_count": 3,
   "metadata": {},
   "outputs": [],
   "source": [
    "with open('merge_all_redone.pickle', 'rb') as read_file:\n",
    "    df = pickle.load(read_file)    "
   ]
  },
  {
   "cell_type": "markdown",
   "metadata": {},
   "source": [
    "# Fix counts of icd9 diagnostics into booleans "
   ]
  },
  {
   "cell_type": "code",
   "execution_count": 4,
   "metadata": {},
   "outputs": [],
   "source": [
    "def count2bool(value): \n",
    "    if value > 0: \n",
    "        return 1"
   ]
  },
  {
   "cell_type": "code",
   "execution_count": 5,
   "metadata": {},
   "outputs": [],
   "source": [
    "cols2correct = (['No diagnosis','blood',\n",
    "       'circulatory', 'congenital', 'digestive', 'endocrine',\n",
    "       'external injury', 'genitourinary', 'infectious',\n",
    "       'injury and poisoning', 'mental', 'misc', 'muscular', 'neoplasms',\n",
    "       'nervous', 'perinatal', 'pregnancy', 'respiratory', 'skin',\n",
    "       'special considerations','CLABSI'])"
   ]
  },
  {
   "cell_type": "code",
   "execution_count": 6,
   "metadata": {},
   "outputs": [],
   "source": [
    "for col in cols2correct: \n",
    "    df[col] = df[col].apply(count2bool)\n",
    "    df[col] = df[col].fillna(0)"
   ]
  },
  {
   "cell_type": "code",
   "execution_count": 7,
   "metadata": {},
   "outputs": [
    {
     "data": {
      "text/plain": [
       "0.0    24665\n",
       "1.0    13546\n",
       "Name: infectious, dtype: int64"
      ]
     },
     "execution_count": 7,
     "metadata": {},
     "output_type": "execute_result"
    }
   ],
   "source": [
    "df.infectious.value_counts()"
   ]
  },
  {
   "cell_type": "markdown",
   "metadata": {},
   "source": [
    "# Set up Design Matrix\n",
    "\n",
    "1. Remove columns with id_numbers \n",
    "    * icustay_id\n",
    "    * hadm_id\n",
    "    * subject_id\n",
    "\n",
    "\n",
    "2. Remove columns that we would not know at time of admission\n",
    "    * last_careunit\n",
    "    * last_wardid\n",
    "    * outtime\n",
    "    * los\n",
    "    * dischtime\n",
    "    * discharge_location\n",
    "    * deathtime\n",
    "    * hospital_expire_flag\n",
    "    * dod\n",
    "    * dod_hosp\n",
    "    * dod_ssn\n",
    "    * expire_flag\n",
    "\n",
    "\n",
    "3. Remove unneccesary columns/ colums used for feature engineering\n",
    "    * starttime\n",
    "    * endtime\n",
    "    * dbsource\n",
    "    * first_wardid\n",
    "    * intime\n",
    "    * admittime\n",
    "    * diagnosis\n",
    "    * language\n",
    "    * religion\n",
    "    * marital_status\n",
    "    * edregtime\n",
    "    * edouttime\n",
    "    * diagnosis\n",
    "    * has_chartevents_data\n",
    "    * dob\n",
    "    * time_before_ICU\n",
    "    * ER_time\n",
    "    * age_timedelta\n",
    "    * religion_bin\n",
    "\n",
    "\n",
    "4. Remove columns tied too closely to the y\n",
    "    * duration_hours\n"
   ]
  },
  {
   "cell_type": "code",
   "execution_count": null,
   "metadata": {},
   "outputs": [],
   "source": [
    "cols2drop = (['icustay_id', 'hadm_id', 'subject_id', 'last_careunit',\n",
    "              'last_wardid', 'outtime', 'los','dischtime',\n",
    "              'discharge_location', 'deathtime', 'hospital_expire_flag',\n",
    "              'dod','dod_hosp', 'dod_ssn', 'expire_flag', 'starttime',\n",
    "              'endtime', 'dbsource','first_wardid', 'intime', 'admittime',\n",
    "              'diagnosis', 'language', 'religion','marital_status',\n",
    "              'edregtime', 'edouttime', 'diagnosis', 'has_chartevents_data',\n",
    "              'dob', 'time_before_ICU', 'ER_time', 'age_timedelta', 'religion_bin',\n",
    "              'duration_hours'\n",
    "             ])"
   ]
  },
  {
   "cell_type": "code",
   "execution_count": null,
   "metadata": {},
   "outputs": [],
   "source": [
    "df_dm = df.drop(columns=cols2drop,axis=1)\n",
    "df_dm.columns"
   ]
  },
  {
   "cell_type": "code",
   "execution_count": null,
   "metadata": {
    "scrolled": true
   },
   "outputs": [],
   "source": [
    "len(df_dm.columns)"
   ]
  },
  {
   "cell_type": "code",
   "execution_count": null,
   "metadata": {},
   "outputs": [],
   "source": [
    "df_dm.isna().sum()"
   ]
  },
  {
   "cell_type": "code",
   "execution_count": null,
   "metadata": {},
   "outputs": [],
   "source": [
    "df_dm.drop(columns=['ER_hours'],axis=1,inplace=True)"
   ]
  },
  {
   "cell_type": "code",
   "execution_count": null,
   "metadata": {},
   "outputs": [],
   "source": [
    "df_dm.dropna(axis=0,inplace=True)\n",
    "df_dm.isna().sum()"
   ]
  },
  {
   "cell_type": "code",
   "execution_count": null,
   "metadata": {},
   "outputs": [],
   "source": [
    "y = df_dm['CLABSI']"
   ]
  },
  {
   "cell_type": "code",
   "execution_count": null,
   "metadata": {},
   "outputs": [],
   "source": [
    "y.value_counts()"
   ]
  },
  {
   "cell_type": "raw",
   "metadata": {},
   "source": [
    "with open('y_correct.pickle','wb') as to_write:\n",
    "    pickle.dump(y,to_write)"
   ]
  },
  {
   "cell_type": "raw",
   "metadata": {},
   "source": [
    "with open('df_design_matrix.pickle','wb') as to_write:\n",
    "    pickle.dump(df_dm,to_write)"
   ]
  },
  {
   "cell_type": "code",
   "execution_count": null,
   "metadata": {},
   "outputs": [],
   "source": [
    "X = df_dm.drop(columns=['CLABSI'],axis=1)"
   ]
  },
  {
   "cell_type": "raw",
   "metadata": {},
   "source": [
    "with open('X_all_features.pickle','wb') as to_write:\n",
    "    pickle.dump(X,to_write)"
   ]
  },
  {
   "cell_type": "code",
   "execution_count": 73,
   "metadata": {},
   "outputs": [],
   "source": [
    "with open('y_correct.pickle','rb') as to_read:\n",
    "    y = pickle.load(to_read)"
   ]
  },
  {
   "cell_type": "code",
   "execution_count": 74,
   "metadata": {},
   "outputs": [],
   "source": [
    "with open('X_all_features.pickle','rb') as to_read:\n",
    "    X = pickle.load(to_read)"
   ]
  },
  {
   "cell_type": "code",
   "execution_count": null,
   "metadata": {
    "scrolled": true
   },
   "outputs": [],
   "source": [
    "X.info()"
   ]
  },
  {
   "cell_type": "markdown",
   "metadata": {},
   "source": [
    "## Train/Test Split -- don't cross validate for Feature Selection"
   ]
  },
  {
   "cell_type": "code",
   "execution_count": 75,
   "metadata": {},
   "outputs": [],
   "source": [
    "X_trainVal, X_test, y_trainVal, y_test = train_test_split(X, y, test_size=0.2,random_state=0)\n",
    "X_train, X_val, y_train, y_val = train_test_split(X_trainVal, y_trainVal, test_size=0.2,random_state=0)"
   ]
  },
  {
   "cell_type": "code",
   "execution_count": 59,
   "metadata": {},
   "outputs": [
    {
     "name": "stdout",
     "output_type": "stream",
     "text": [
      "total %: 0.20239969767588337\n",
      "trainVal %: 0.2010066058508965\n",
      "train %: 0.1993815343837432\n",
      "test %: 0.2080037962670041\n"
     ]
    }
   ],
   "source": [
    "print(\"total %: \" + str(6427/31754))\n",
    "print(\"trainVal %: \" + str(5112/25432))\n",
    "print(\"train %: \" + str(4062/20373))\n",
    "print(\"test %: \" + str(1315/6322))"
   ]
  },
  {
   "cell_type": "markdown",
   "metadata": {},
   "source": [
    "### Let's try dropping columns to see what's most important\n",
    "\n",
    "**Note: Resampling converts X to numpy.ndarray object -- will test features on not resampled data**\n",
    "\n",
    "use X and y"
   ]
  },
  {
   "cell_type": "code",
   "execution_count": 60,
   "metadata": {},
   "outputs": [
    {
     "name": "stdout",
     "output_type": "stream",
     "text": [
      "              precision    recall  f1-score   support\n",
      "\n",
      "         0.0       0.92      0.99      0.96      5098\n",
      "         1.0       0.93      0.59      0.72      1011\n",
      "\n",
      "   micro avg       0.92      0.92      0.92      6109\n",
      "   macro avg       0.93      0.79      0.84      6109\n",
      "weighted avg       0.92      0.92      0.92      6109\n",
      "\n"
     ]
    }
   ],
   "source": [
    "# Initalize a base Random Forest \n",
    "rf_model = RandomForestClassifier(n_estimators=100,oob_score=True)\n",
    "rf_model.fit(X_train, y_train)\n",
    "predictions = rf_model.predict(X_val)\n",
    "print(classification_report(y_val,predictions))"
   ]
  },
  {
   "cell_type": "code",
   "execution_count": 61,
   "metadata": {},
   "outputs": [
    {
     "data": {
      "text/plain": [
       "0.9259668508287293"
      ]
     },
     "execution_count": 61,
     "metadata": {},
     "output_type": "execute_result"
    }
   ],
   "source": [
    "baseline = rf_model.oob_score_\n",
    "baseline"
   ]
  },
  {
   "cell_type": "code",
   "execution_count": 53,
   "metadata": {
    "scrolled": true
   },
   "outputs": [
    {
     "data": {
      "text/plain": [
       "['prior_ICU_hours',\n",
       " 'age_years',\n",
       " 'marital_status_bin_MARRIED',\n",
       " 'marital_status_bin_SINGLE',\n",
       " 'religion_2_1',\n",
       " 'ethnicity_ASIAN',\n",
       " 'ethnicity_BLACK/AFRICAN AMERICAN',\n",
       " 'ethnicity_HISPANIC/LATINO',\n",
       " 'ethnicity_WHITE',\n",
       " 'language_bin_0',\n",
       " 'admission_type_EMERGENCY',\n",
       " 'admission_type_URGENT',\n",
       " 'admission_location_CLINIC REFERRAL/PREMATURE',\n",
       " 'admission_location_EMERGENCY ROOM ADMIT',\n",
       " 'admission_location_PHYS REFERRAL/NORMAL DELI',\n",
       " 'admission_location_TRANSFER FROM HOSP/EXTRAM',\n",
       " 'first_careunit_CCU',\n",
       " 'first_careunit_CSRU',\n",
       " 'first_careunit_MICU',\n",
       " 'first_careunit_SICU',\n",
       " 'insurance_Medicaid',\n",
       " 'insurance_Medicare',\n",
       " 'insurance_Private',\n",
       " 'insurance_Self Pay',\n",
       " 'gender_F',\n",
       " 'No diagnosis',\n",
       " 'blood',\n",
       " 'circulatory',\n",
       " 'congenital',\n",
       " 'digestive',\n",
       " 'endocrine',\n",
       " 'external injury',\n",
       " 'genitourinary',\n",
       " 'infectious',\n",
       " 'injury and poisoning',\n",
       " 'mental',\n",
       " 'misc',\n",
       " 'muscular',\n",
       " 'neoplasms',\n",
       " 'nervous',\n",
       " 'perinatal',\n",
       " 'pregnancy',\n",
       " 'respiratory',\n",
       " 'skin',\n",
       " 'special considerations']"
      ]
     },
     "execution_count": 53,
     "metadata": {},
     "output_type": "execute_result"
    }
   ],
   "source": [
    "lst_cols = list(X_train.columns)\n",
    "lst_cols"
   ]
  },
  {
   "cell_type": "code",
   "execution_count": 62,
   "metadata": {},
   "outputs": [],
   "source": [
    "from sklearn.base import clone\n",
    "\n",
    "def dropcol_importances(model, X, y):\n",
    "    model.random_state = 100\n",
    "    model.fit(X, y)\n",
    "    baseline = model.oob_score_\n",
    "    print(baseline)\n",
    "    imp = []\n",
    "    for col in lst_cols:\n",
    "        X2 = X.copy()\n",
    "        model_ = clone(model)\n",
    "        model_.random_state = 100\n",
    "        model_.fit((X2.drop(col, axis=1)), y)\n",
    "        o = model_.oob_score_\n",
    "        imp.append(np.absolute(baseline - o))    \n",
    "    imp = np.array(imp)\n",
    "    I3 = pd.DataFrame(\n",
    "            data={'Feature':X.columns,\n",
    "                  'Absolute Importance':imp})\n",
    "    #I = I.set_index('Feature')\n",
    "    I3 = I3.sort_values('Absolute Importance', ascending=True)\n",
    "    with open (\"I3_df.pickle\", 'wb') as to_write:\n",
    "        pickle.dump(I3, to_write)\n",
    "    \n",
    "    plt.figure(figsize=(9,3))\n",
    "    sns.set_context('poster')\n",
    "    sns.barplot(x='Feature',y='Absolute Importance',data=I3,color='darkblue')\n",
    "    plt.tick_params(axis='x',which='both',bottom=False,top=False,labelbottom=False) \n",
    "    return I3"
   ]
  },
  {
   "cell_type": "code",
   "execution_count": 63,
   "metadata": {},
   "outputs": [
    {
     "name": "stdout",
     "output_type": "stream",
     "text": [
      "0.9269081235932065\n"
     ]
    },
    {
     "data": {
      "text/html": [
       "<div>\n",
       "<style scoped>\n",
       "    .dataframe tbody tr th:only-of-type {\n",
       "        vertical-align: middle;\n",
       "    }\n",
       "\n",
       "    .dataframe tbody tr th {\n",
       "        vertical-align: top;\n",
       "    }\n",
       "\n",
       "    .dataframe thead th {\n",
       "        text-align: right;\n",
       "    }\n",
       "</style>\n",
       "<table border=\"1\" class=\"dataframe\">\n",
       "  <thead>\n",
       "    <tr style=\"text-align: right;\">\n",
       "      <th></th>\n",
       "      <th>Feature</th>\n",
       "      <th>Absolute Importance</th>\n",
       "    </tr>\n",
       "  </thead>\n",
       "  <tbody>\n",
       "    <tr>\n",
       "      <th>3</th>\n",
       "      <td>marital_status_bin_SINGLE</td>\n",
       "      <td>0.000000</td>\n",
       "    </tr>\n",
       "    <tr>\n",
       "      <th>2</th>\n",
       "      <td>marital_status_bin_MARRIED</td>\n",
       "      <td>0.000041</td>\n",
       "    </tr>\n",
       "    <tr>\n",
       "      <th>10</th>\n",
       "      <td>admission_type_EMERGENCY</td>\n",
       "      <td>0.000082</td>\n",
       "    </tr>\n",
       "    <tr>\n",
       "      <th>16</th>\n",
       "      <td>first_careunit_CCU</td>\n",
       "      <td>0.000082</td>\n",
       "    </tr>\n",
       "    <tr>\n",
       "      <th>21</th>\n",
       "      <td>insurance_Medicare</td>\n",
       "      <td>0.000164</td>\n",
       "    </tr>\n",
       "    <tr>\n",
       "      <th>5</th>\n",
       "      <td>ethnicity_ASIAN</td>\n",
       "      <td>0.000205</td>\n",
       "    </tr>\n",
       "    <tr>\n",
       "      <th>7</th>\n",
       "      <td>ethnicity_HISPANIC/LATINO</td>\n",
       "      <td>0.000246</td>\n",
       "    </tr>\n",
       "    <tr>\n",
       "      <th>44</th>\n",
       "      <td>special considerations</td>\n",
       "      <td>0.000246</td>\n",
       "    </tr>\n",
       "    <tr>\n",
       "      <th>15</th>\n",
       "      <td>admission_location_TRANSFER FROM HOSP/EXTRAM</td>\n",
       "      <td>0.000286</td>\n",
       "    </tr>\n",
       "    <tr>\n",
       "      <th>11</th>\n",
       "      <td>admission_type_URGENT</td>\n",
       "      <td>0.000286</td>\n",
       "    </tr>\n",
       "    <tr>\n",
       "      <th>22</th>\n",
       "      <td>insurance_Private</td>\n",
       "      <td>0.000368</td>\n",
       "    </tr>\n",
       "    <tr>\n",
       "      <th>8</th>\n",
       "      <td>ethnicity_WHITE</td>\n",
       "      <td>0.000450</td>\n",
       "    </tr>\n",
       "    <tr>\n",
       "      <th>18</th>\n",
       "      <td>first_careunit_MICU</td>\n",
       "      <td>0.000450</td>\n",
       "    </tr>\n",
       "    <tr>\n",
       "      <th>27</th>\n",
       "      <td>circulatory</td>\n",
       "      <td>0.000450</td>\n",
       "    </tr>\n",
       "    <tr>\n",
       "      <th>41</th>\n",
       "      <td>pregnancy</td>\n",
       "      <td>0.000491</td>\n",
       "    </tr>\n",
       "    <tr>\n",
       "      <th>23</th>\n",
       "      <td>insurance_Self Pay</td>\n",
       "      <td>0.000491</td>\n",
       "    </tr>\n",
       "    <tr>\n",
       "      <th>25</th>\n",
       "      <td>No diagnosis</td>\n",
       "      <td>0.000532</td>\n",
       "    </tr>\n",
       "    <tr>\n",
       "      <th>12</th>\n",
       "      <td>admission_location_CLINIC REFERRAL/PREMATURE</td>\n",
       "      <td>0.000532</td>\n",
       "    </tr>\n",
       "    <tr>\n",
       "      <th>30</th>\n",
       "      <td>endocrine</td>\n",
       "      <td>0.000532</td>\n",
       "    </tr>\n",
       "    <tr>\n",
       "      <th>14</th>\n",
       "      <td>admission_location_PHYS REFERRAL/NORMAL DELI</td>\n",
       "      <td>0.000614</td>\n",
       "    </tr>\n",
       "    <tr>\n",
       "      <th>32</th>\n",
       "      <td>genitourinary</td>\n",
       "      <td>0.000737</td>\n",
       "    </tr>\n",
       "    <tr>\n",
       "      <th>28</th>\n",
       "      <td>congenital</td>\n",
       "      <td>0.000737</td>\n",
       "    </tr>\n",
       "    <tr>\n",
       "      <th>13</th>\n",
       "      <td>admission_location_EMERGENCY ROOM ADMIT</td>\n",
       "      <td>0.000778</td>\n",
       "    </tr>\n",
       "    <tr>\n",
       "      <th>4</th>\n",
       "      <td>religion_2_1</td>\n",
       "      <td>0.000818</td>\n",
       "    </tr>\n",
       "    <tr>\n",
       "      <th>40</th>\n",
       "      <td>perinatal</td>\n",
       "      <td>0.000900</td>\n",
       "    </tr>\n",
       "    <tr>\n",
       "      <th>1</th>\n",
       "      <td>age_years</td>\n",
       "      <td>0.000941</td>\n",
       "    </tr>\n",
       "    <tr>\n",
       "      <th>20</th>\n",
       "      <td>insurance_Medicaid</td>\n",
       "      <td>0.000982</td>\n",
       "    </tr>\n",
       "    <tr>\n",
       "      <th>26</th>\n",
       "      <td>blood</td>\n",
       "      <td>0.000982</td>\n",
       "    </tr>\n",
       "    <tr>\n",
       "      <th>39</th>\n",
       "      <td>nervous</td>\n",
       "      <td>0.001023</td>\n",
       "    </tr>\n",
       "    <tr>\n",
       "      <th>17</th>\n",
       "      <td>first_careunit_CSRU</td>\n",
       "      <td>0.001023</td>\n",
       "    </tr>\n",
       "    <tr>\n",
       "      <th>42</th>\n",
       "      <td>respiratory</td>\n",
       "      <td>0.001064</td>\n",
       "    </tr>\n",
       "    <tr>\n",
       "      <th>24</th>\n",
       "      <td>gender_F</td>\n",
       "      <td>0.001146</td>\n",
       "    </tr>\n",
       "    <tr>\n",
       "      <th>6</th>\n",
       "      <td>ethnicity_BLACK/AFRICAN AMERICAN</td>\n",
       "      <td>0.001146</td>\n",
       "    </tr>\n",
       "    <tr>\n",
       "      <th>9</th>\n",
       "      <td>language_bin_0</td>\n",
       "      <td>0.001146</td>\n",
       "    </tr>\n",
       "    <tr>\n",
       "      <th>37</th>\n",
       "      <td>muscular</td>\n",
       "      <td>0.001187</td>\n",
       "    </tr>\n",
       "    <tr>\n",
       "      <th>0</th>\n",
       "      <td>prior_ICU_hours</td>\n",
       "      <td>0.001596</td>\n",
       "    </tr>\n",
       "    <tr>\n",
       "      <th>35</th>\n",
       "      <td>mental</td>\n",
       "      <td>0.001719</td>\n",
       "    </tr>\n",
       "    <tr>\n",
       "      <th>19</th>\n",
       "      <td>first_careunit_SICU</td>\n",
       "      <td>0.001801</td>\n",
       "    </tr>\n",
       "    <tr>\n",
       "      <th>29</th>\n",
       "      <td>digestive</td>\n",
       "      <td>0.001883</td>\n",
       "    </tr>\n",
       "    <tr>\n",
       "      <th>38</th>\n",
       "      <td>neoplasms</td>\n",
       "      <td>0.001964</td>\n",
       "    </tr>\n",
       "    <tr>\n",
       "      <th>43</th>\n",
       "      <td>skin</td>\n",
       "      <td>0.002169</td>\n",
       "    </tr>\n",
       "    <tr>\n",
       "      <th>36</th>\n",
       "      <td>misc</td>\n",
       "      <td>0.002496</td>\n",
       "    </tr>\n",
       "    <tr>\n",
       "      <th>31</th>\n",
       "      <td>external injury</td>\n",
       "      <td>0.004584</td>\n",
       "    </tr>\n",
       "    <tr>\n",
       "      <th>33</th>\n",
       "      <td>infectious</td>\n",
       "      <td>0.004870</td>\n",
       "    </tr>\n",
       "    <tr>\n",
       "      <th>34</th>\n",
       "      <td>injury and poisoning</td>\n",
       "      <td>0.008103</td>\n",
       "    </tr>\n",
       "  </tbody>\n",
       "</table>\n",
       "</div>"
      ],
      "text/plain": [
       "                                         Feature  Absolute Importance\n",
       "3                      marital_status_bin_SINGLE             0.000000\n",
       "2                     marital_status_bin_MARRIED             0.000041\n",
       "10                      admission_type_EMERGENCY             0.000082\n",
       "16                            first_careunit_CCU             0.000082\n",
       "21                            insurance_Medicare             0.000164\n",
       "5                                ethnicity_ASIAN             0.000205\n",
       "7                      ethnicity_HISPANIC/LATINO             0.000246\n",
       "44                        special considerations             0.000246\n",
       "15  admission_location_TRANSFER FROM HOSP/EXTRAM             0.000286\n",
       "11                         admission_type_URGENT             0.000286\n",
       "22                             insurance_Private             0.000368\n",
       "8                                ethnicity_WHITE             0.000450\n",
       "18                           first_careunit_MICU             0.000450\n",
       "27                                   circulatory             0.000450\n",
       "41                                     pregnancy             0.000491\n",
       "23                            insurance_Self Pay             0.000491\n",
       "25                                  No diagnosis             0.000532\n",
       "12  admission_location_CLINIC REFERRAL/PREMATURE             0.000532\n",
       "30                                     endocrine             0.000532\n",
       "14  admission_location_PHYS REFERRAL/NORMAL DELI             0.000614\n",
       "32                                 genitourinary             0.000737\n",
       "28                                    congenital             0.000737\n",
       "13       admission_location_EMERGENCY ROOM ADMIT             0.000778\n",
       "4                                   religion_2_1             0.000818\n",
       "40                                     perinatal             0.000900\n",
       "1                                      age_years             0.000941\n",
       "20                            insurance_Medicaid             0.000982\n",
       "26                                         blood             0.000982\n",
       "39                                       nervous             0.001023\n",
       "17                           first_careunit_CSRU             0.001023\n",
       "42                                   respiratory             0.001064\n",
       "24                                      gender_F             0.001146\n",
       "6               ethnicity_BLACK/AFRICAN AMERICAN             0.001146\n",
       "9                                 language_bin_0             0.001146\n",
       "37                                      muscular             0.001187\n",
       "0                                prior_ICU_hours             0.001596\n",
       "35                                        mental             0.001719\n",
       "19                           first_careunit_SICU             0.001801\n",
       "29                                     digestive             0.001883\n",
       "38                                     neoplasms             0.001964\n",
       "43                                          skin             0.002169\n",
       "36                                          misc             0.002496\n",
       "31                               external injury             0.004584\n",
       "33                                    infectious             0.004870\n",
       "34                          injury and poisoning             0.008103"
      ]
     },
     "execution_count": 63,
     "metadata": {},
     "output_type": "execute_result"
    },
    {
     "data": {
      "image/png": "[encoded data removed]",
      "text/plain": [
       "<Figure size 648x216 with 1 Axes>"
      ]
     },
     "metadata": {
      "needs_background": "light"
     },
     "output_type": "display_data"
    }
   ],
   "source": [
    "dropcol_importances(rf_model,X_train,y_train)"
   ]
  },
  {
   "cell_type": "code",
   "execution_count": 64,
   "metadata": {},
   "outputs": [
    {
     "name": "stdout",
     "output_type": "stream",
     "text": [
      "<class 'pandas.core.frame.DataFrame'>\n",
      "Int64Index: 45 entries, 3 to 34\n",
      "Data columns (total 2 columns):\n",
      "Feature                45 non-null object\n",
      "Absolute Importance    45 non-null float64\n",
      "dtypes: float64(1), object(1)\n",
      "memory usage: 1.1+ KB\n"
     ]
    }
   ],
   "source": [
    "with open('I3_df.pickle','rb') as to_read:\n",
    "    I3 = pickle.load(to_read)\n",
    "I3.info()"
   ]
  },
  {
   "cell_type": "code",
   "execution_count": 65,
   "metadata": {},
   "outputs": [
    {
     "data": {
      "text/html": [
       "<div>\n",
       "<style scoped>\n",
       "    .dataframe tbody tr th:only-of-type {\n",
       "        vertical-align: middle;\n",
       "    }\n",
       "\n",
       "    .dataframe tbody tr th {\n",
       "        vertical-align: top;\n",
       "    }\n",
       "\n",
       "    .dataframe thead th {\n",
       "        text-align: right;\n",
       "    }\n",
       "</style>\n",
       "<table border=\"1\" class=\"dataframe\">\n",
       "  <thead>\n",
       "    <tr style=\"text-align: right;\">\n",
       "      <th></th>\n",
       "      <th>Feature</th>\n",
       "      <th>Absolute Importance</th>\n",
       "    </tr>\n",
       "  </thead>\n",
       "  <tbody>\n",
       "    <tr>\n",
       "      <th>38</th>\n",
       "      <td>neoplasms</td>\n",
       "      <td>0.001964</td>\n",
       "    </tr>\n",
       "    <tr>\n",
       "      <th>43</th>\n",
       "      <td>skin</td>\n",
       "      <td>0.002169</td>\n",
       "    </tr>\n",
       "    <tr>\n",
       "      <th>36</th>\n",
       "      <td>misc</td>\n",
       "      <td>0.002496</td>\n",
       "    </tr>\n",
       "    <tr>\n",
       "      <th>31</th>\n",
       "      <td>external injury</td>\n",
       "      <td>0.004584</td>\n",
       "    </tr>\n",
       "    <tr>\n",
       "      <th>33</th>\n",
       "      <td>infectious</td>\n",
       "      <td>0.004870</td>\n",
       "    </tr>\n",
       "    <tr>\n",
       "      <th>34</th>\n",
       "      <td>injury and poisoning</td>\n",
       "      <td>0.008103</td>\n",
       "    </tr>\n",
       "  </tbody>\n",
       "</table>\n",
       "</div>"
      ],
      "text/plain": [
       "                 Feature  Absolute Importance\n",
       "38             neoplasms             0.001964\n",
       "43                  skin             0.002169\n",
       "36                  misc             0.002496\n",
       "31       external injury             0.004584\n",
       "33            infectious             0.004870\n",
       "34  injury and poisoning             0.008103"
      ]
     },
     "execution_count": 65,
     "metadata": {},
     "output_type": "execute_result"
    }
   ],
   "source": [
    "I3.tail(6)"
   ]
  },
  {
   "cell_type": "code",
   "execution_count": 42,
   "metadata": {},
   "outputs": [
    {
     "data": {
      "text/html": [
       "<div>\n",
       "<style scoped>\n",
       "    .dataframe tbody tr th:only-of-type {\n",
       "        vertical-align: middle;\n",
       "    }\n",
       "\n",
       "    .dataframe tbody tr th {\n",
       "        vertical-align: top;\n",
       "    }\n",
       "\n",
       "    .dataframe thead th {\n",
       "        text-align: right;\n",
       "    }\n",
       "</style>\n",
       "<table border=\"1\" class=\"dataframe\">\n",
       "  <thead>\n",
       "    <tr style=\"text-align: right;\">\n",
       "      <th></th>\n",
       "      <th>Feature</th>\n",
       "      <th>Absolute Importance</th>\n",
       "    </tr>\n",
       "  </thead>\n",
       "  <tbody>\n",
       "    <tr>\n",
       "      <th>32</th>\n",
       "      <td>genitourinary</td>\n",
       "      <td>0.001637</td>\n",
       "    </tr>\n",
       "    <tr>\n",
       "      <th>31</th>\n",
       "      <td>external injury</td>\n",
       "      <td>0.004052</td>\n",
       "    </tr>\n",
       "    <tr>\n",
       "      <th>33</th>\n",
       "      <td>infectious</td>\n",
       "      <td>0.006057</td>\n",
       "    </tr>\n",
       "    <tr>\n",
       "      <th>34</th>\n",
       "      <td>injury and poisoning</td>\n",
       "      <td>0.009126</td>\n",
       "    </tr>\n",
       "  </tbody>\n",
       "</table>\n",
       "</div>"
      ],
      "text/plain": [
       "                 Feature  Absolute Importance\n",
       "32         genitourinary             0.001637\n",
       "31       external injury             0.004052\n",
       "33            infectious             0.006057\n",
       "34  injury and poisoning             0.009126"
      ]
     },
     "execution_count": 42,
     "metadata": {},
     "output_type": "execute_result"
    }
   ],
   "source": [
    "I[I['Absolute Importance'] > 0.003]"
   ]
  },
  {
   "cell_type": "code",
   "execution_count": 86,
   "metadata": {
    "scrolled": true
   },
   "outputs": [
    {
     "data": {
      "text/plain": [
       "['lightgray',\n",
       " 'lightgray',\n",
       " 'lightgray',\n",
       " 'lightgray',\n",
       " 'lightgray',\n",
       " 'lightgray',\n",
       " 'lightgray',\n",
       " 'lightgray',\n",
       " 'lightgray',\n",
       " 'lightgray',\n",
       " 'lightgray',\n",
       " 'lightgray',\n",
       " 'lightgray',\n",
       " 'lightgray',\n",
       " 'lightgray',\n",
       " 'lightgray',\n",
       " 'lightgray',\n",
       " 'lightgray',\n",
       " 'lightgray',\n",
       " 'lightgray',\n",
       " 'lightgray',\n",
       " 'lightgray',\n",
       " 'lightgray',\n",
       " 'lightgray',\n",
       " 'lightgray',\n",
       " 'lightgray',\n",
       " 'lightgray',\n",
       " 'lightgray',\n",
       " 'lightgray',\n",
       " 'lightgray',\n",
       " 'lightgray',\n",
       " 'lightgray',\n",
       " 'lightgray',\n",
       " 'lightgray',\n",
       " 'lightgray',\n",
       " 'lightgray',\n",
       " 'lightgray',\n",
       " 'lightgray',\n",
       " 'lightgray',\n",
       " 'lightgray',\n",
       " 'lightgray',\n",
       " 'lightgray',\n",
       " 'darkblue',\n",
       " 'darkblue',\n",
       " 'darkblue']"
      ]
     },
     "execution_count": 86,
     "metadata": {},
     "output_type": "execute_result"
    }
   ],
   "source": [
    "clrs = ['darkblue' if x > 0.003 else 'lightgray' for x in I['Absolute Importance']]\n",
    "clrs"
   ]
  },
  {
   "cell_type": "code",
   "execution_count": 90,
   "metadata": {},
   "outputs": [
    {
     "data": {
      "image/png": "[encoded data removed]",
      "text/plain": [
       "<Figure size 864x288 with 1 Axes>"
      ]
     },
     "metadata": {
      "needs_background": "light"
     },
     "output_type": "display_data"
    }
   ],
   "source": [
    "sns.set_context(font_scale=1)\n",
    "\n",
    "plt.figure(figsize=(12,4))\n",
    "sns.set_context('poster')\n",
    "clrs = ['darkblue' if x > .003 else 'lightgray' for x in I['Absolute Importance']]\n",
    "sns.barplot(x='Feature',y='Absolute Importance',data=I,palette=clrs)\n",
    "plt.tick_params(axis='x',which='both',bottom=False,top=False,labelbottom=False)\n",
    "plt.savefig('Absolute_Importance_grayBlue.jpeg', dpi=300,transparent=True)"
   ]
  },
  {
   "cell_type": "code",
   "execution_count": null,
   "metadata": {
    "scrolled": true
   },
   "outputs": [],
   "source": [
    "sns.barplot(x='injury and poisoning',y='CLABSI',data=df,color='darkblue')"
   ]
  },
  {
   "cell_type": "code",
   "execution_count": null,
   "metadata": {},
   "outputs": [],
   "source": [
    "sns.barplot(x='gender_F',y='CLABSI',data=df,color='darkblue')"
   ]
  },
  {
   "cell_type": "code",
   "execution_count": null,
   "metadata": {},
   "outputs": [],
   "source": [
    "sns.barplot(x='infectious',y='CLABSI',data=df,color='darkblue')"
   ]
  },
  {
   "cell_type": "code",
   "execution_count": null,
   "metadata": {},
   "outputs": [],
   "source": [
    "sns.barplot(x='external injury',y='CLABSI',data=df,color='darkblue')"
   ]
  },
  {
   "cell_type": "code",
   "execution_count": null,
   "metadata": {},
   "outputs": [],
   "source": [
    "sns.barplot(x='genitourinary',y='CLABSI',data=df,color='darkblue')"
   ]
  },
  {
   "cell_type": "code",
   "execution_count": null,
   "metadata": {},
   "outputs": [],
   "source": [
    "sns.barplot(x='language_bin_0',y='CLABSI',data=df,color='darkblue')"
   ]
  },
  {
   "cell_type": "code",
   "execution_count": null,
   "metadata": {},
   "outputs": [],
   "source": [
    "sns.barplot(x='CLABSI',y='age_years',data=df,color='darkblue')"
   ]
  },
  {
   "cell_type": "code",
   "execution_count": null,
   "metadata": {},
   "outputs": [],
   "source": [
    "sns.barplot(x='ethnicity_BLACK/AFRICAN AMERICAN',y='CLABSI',data=df,color='darkblue')"
   ]
  },
  {
   "cell_type": "markdown",
   "metadata": {},
   "source": [
    "## Top 7 features (actually 6 since one is \"MISC\") and Top 4 Features\n",
    "\n",
    "'injury and poisoning', 'infectious', 'external injury', 'genitourinary', 'language_bin_0', 'age_years'"
   ]
  },
  {
   "cell_type": "code",
   "execution_count": null,
   "metadata": {},
   "outputs": [],
   "source": [
    "X6 = X[['injury and poisoning', 'infectious', 'external injury', 'genitourinary', 'language_bin_0', 'age_years']]"
   ]
  },
  {
   "cell_type": "code",
   "execution_count": null,
   "metadata": {},
   "outputs": [],
   "source": [
    "X4 = X[['injury and poisoning', 'infectious', 'external injury', 'genitourinary']]"
   ]
  },
  {
   "cell_type": "markdown",
   "metadata": {},
   "source": [
    "### SPLIT"
   ]
  },
  {
   "cell_type": "code",
   "execution_count": null,
   "metadata": {},
   "outputs": [],
   "source": [
    "# Split trainVal set\n",
    "X6_trainVal, X6_test, y6_trainVal, y6_test = train_test_split(X6, y, test_size=0.2)\n",
    "X6_train, X6_val, y6_train, y6_val = train_test_split(X6_trainVal, y6_trainVal, test_size=0.2)"
   ]
  },
  {
   "cell_type": "code",
   "execution_count": null,
   "metadata": {},
   "outputs": [],
   "source": [
    "X4_trainVal, X4_test, y4_trainVal, y4_test = train_test_split(X4, y, test_size=0.2)\n",
    "X4_train, X4_val, y4_train, y4_val = train_test_split(X4_trainVal, y4_trainVal, test_size=0.2)"
   ]
  },
  {
   "cell_type": "markdown",
   "metadata": {},
   "source": [
    "## Resample"
   ]
  },
  {
   "cell_type": "code",
   "execution_count": 76,
   "metadata": {},
   "outputs": [
    {
     "name": "stdout",
     "output_type": "stream",
     "text": [
      "Train:\n",
      "Original dataset shape Counter({0.0: 20321, 1.0: 4114})\n",
      "Resampled dataset shape Counter({0.0: 20321, 1.0: 20321})\n",
      "Validate:\n",
      "Original dataset shape Counter({0.0: 5098, 1.0: 1011})\n",
      "Resampled dataset shape Counter({0.0: 5098, 1.0: 5098})\n"
     ]
    }
   ],
   "source": [
    "# all features\n",
    "ros = RandomOverSampler(random_state=0)\n",
    "\n",
    "print(\"Train:\")\n",
    "print('Original dataset shape %s' % Counter(y_train))\n",
    "X_trainRes, y_trainRes = ros.fit_resample(X_train,y_train)\n",
    "print('Resampled dataset shape %s' % Counter(y_trainRes))\n",
    "\n",
    "print(\"Validate:\")\n",
    "print('Original dataset shape %s' % Counter(y_val))\n",
    "X_valRes, y_valRes = ros.fit_resample(X_val,y_val)\n",
    "print('Resampled dataset shape %s' % Counter(y_valRes))"
   ]
  },
  {
   "cell_type": "code",
   "execution_count": null,
   "metadata": {},
   "outputs": [],
   "source": [
    "ros6 = RandomOverSampler(random_state=0)\n",
    "\n",
    "print(\"Train:\")\n",
    "print('Original dataset shape %s' % Counter(y6_train))\n",
    "X6_trainRes, y6_trainRes = ros6.fit_resample(X6_train,y6_train)\n",
    "print('Resampled dataset shape %s' % Counter(y6_trainRes))\n",
    "\n",
    "print(\"Validate:\")\n",
    "print('Original dataset shape %s' % Counter(y6_val))\n",
    "X6_valRes, y6_valRes = ros6.fit_resample(X6_val,y6_val)\n",
    "print('Resampled dataset shape %s' % Counter(y6_valRes))"
   ]
  },
  {
   "cell_type": "code",
   "execution_count": null,
   "metadata": {},
   "outputs": [],
   "source": [
    "ros4 = RandomOverSampler(random_state=0)\n",
    "\n",
    "print(\"Train:\")\n",
    "print('Original dataset shape %s' % Counter(y4_train))\n",
    "X4_trainRes, y4_trainRes = ros4.fit_resample(X4_train,y4_train)\n",
    "print('Resampled dataset shape %s' % Counter(y4_trainRes))\n",
    "\n",
    "print(\"Validate:\")\n",
    "print('Original dataset shape %s' % Counter(y4_val))\n",
    "X4_valRes, y4_valRes = ros4.fit_resample(X4_val,y4_val)\n",
    "print('Resampled dataset shape %s' % Counter(y4_valRes))"
   ]
  },
  {
   "cell_type": "code",
   "execution_count": null,
   "metadata": {},
   "outputs": [],
   "source": [
    "# Just 1 feature\n",
    "\n",
    "X1 = X[['injury and poisoning']]\n",
    "# Split trainVal set\n",
    "X1_trainVal, X1_test, y1_trainVal, y1_test = train_test_split(X1, y, test_size=0.2)\n",
    "X1_train, X1_val, y1_train, y1_val = train_test_split(X1_trainVal, y1_trainVal, test_size=0.2)"
   ]
  },
  {
   "cell_type": "code",
   "execution_count": null,
   "metadata": {},
   "outputs": [],
   "source": [
    "ros1 = RandomOverSampler(random_state=0)\n",
    "\n",
    "print(\"Train:\")\n",
    "print('Original dataset shape %s' % Counter(y1_train))\n",
    "X1_trainRes, y1_trainRes = ros1.fit_resample(X1_train,y1_train)\n",
    "print('Resampled dataset shape %s' % Counter(y1_trainRes))\n",
    "\n",
    "print(\"Validate:\")\n",
    "print('Original dataset shape %s' % Counter(y1_val))\n",
    "X1_valRes, y1_valRes = ros1.fit_resample(X1_val,y1_val)\n",
    "print('Resampled dataset shape %s' % Counter(y1_valRes))"
   ]
  },
  {
   "cell_type": "code",
   "execution_count": 77,
   "metadata": {},
   "outputs": [],
   "source": [
    "pipe_lr_ss = Pipeline([('scl', StandardScaler()),\n",
    "                    ('clf', LogisticRegression(random_state=42))])\n",
    "\n",
    "pipe_knn_ss = Pipeline([('scl', StandardScaler()),\n",
    "                    ('clf', KNeighborsClassifier(n_neighbors=5))])\n",
    "\n",
    "pipe_rf_ss = Pipeline([('scl', StandardScaler()),\n",
    "                    ('clf', RandomForestClassifier(n_estimators=100))])\n",
    "\n",
    "pipe_svm_ss = Pipeline([('scl', StandardScaler()),\n",
    "                    ('clf', SVC(kernel=\"linear\"))])\n",
    "\n",
    "pipe_nb_ss = Pipeline([('scl', StandardScaler()),('clf',naive_bayes.GaussianNB())])\n",
    "\n",
    "pipelines = [pipe_lr_ss, pipe_knn_ss, pipe_rf_ss, pipe_nb_ss] #, pipe_svm_ss]\n",
    "\n"
   ]
  },
  {
   "cell_type": "code",
   "execution_count": null,
   "metadata": {},
   "outputs": [],
   "source": [
    "# ALL FEATURES\n",
    "\n",
    "for p in pipelines:\n",
    "    p.fit(X_trainRes, y_trainRes)\n",
    "    prediction_name = (str(p) + \"_predictions\")\n",
    "    prediction_name = p.predict(X_valRes)\n",
    "    print(p)\n",
    "    print(classification_report(y_valRes,prediction_name))\n",
    "    print(confusion_matrix(y_valRes,prediction_name))"
   ]
  },
  {
   "cell_type": "code",
   "execution_count": null,
   "metadata": {},
   "outputs": [],
   "source": [
    "# TOP 4 FEATURES\n",
    "\n",
    "for p in pipelines:\n",
    "    p.fit(X4_trainRes, y4_trainRes)\n",
    "    prediction_name = (str(p) + \"_predictions\" + \"4\")\n",
    "    print(prediction_name)\n",
    "    prediction_name = p.predict(X4_valRes)\n",
    "    print(classification_report(y4_valRes,prediction_name))\n",
    "    print(confusion_matrix(y4_valRes,prediction_name))"
   ]
  },
  {
   "cell_type": "code",
   "execution_count": null,
   "metadata": {},
   "outputs": [],
   "source": [
    "# TOP 6 FEATURES\n",
    "\n",
    "for p in pipelines:\n",
    "    p.fit(X6_trainRes, y6_trainRes)\n",
    "    prediction_name = (str(p) + \"_predictions\" + \"6\")\n",
    "    print(prediction_name)\n",
    "    prediction_name = p.predict(X6_valRes)\n",
    "    print(classification_report(y6_valRes,prediction_name))\n",
    "    print(confusion_matrix(y6_valRes,prediction_name))"
   ]
  },
  {
   "cell_type": "code",
   "execution_count": null,
   "metadata": {},
   "outputs": [],
   "source": [
    "# TOP 1 FEATURE\n",
    "\n",
    "for p in pipelines:\n",
    "    p.fit(X1_trainRes, y1_trainRes)\n",
    "    prediction_name = (str(p) + \"_predictions\" + \"1\")\n",
    "    print(prediction_name)\n",
    "    prediction_name = p.predict(X1_valRes)\n",
    "    print(classification_report(y1_valRes,prediction_name))\n",
    "    print(confusion_matrix(y1_valRes,prediction_name))"
   ]
  },
  {
   "cell_type": "code",
   "execution_count": null,
   "metadata": {},
   "outputs": [],
   "source": [
    "# TOP 2\n",
    "\n",
    "num_features = [2,3]\n",
    "features = ['injury and poisoning', 'infectious', 'external injury']\n",
    "\n",
    "X2 = X[['injury and poisoning','infectious']]\n",
    "# Split trainVal set\n",
    "X2_trainVal, X2_test, y2_trainVal, y2_test = train_test_split(X2, y, test_size=0.2)\n",
    "X2_train, X2_val, y2_train, y2_val = train_test_split(X2_trainVal, y2_trainVal, test_size=0.2)\n",
    "\n",
    "ros2 = RandomOverSampler(random_state=0)\n",
    "\n",
    "print(\"Train:\")\n",
    "print('Original dataset shape %s' % Counter(y2_train))\n",
    "X2_trainRes, y2_trainRes = ros2.fit_resample(X2_train,y2_train)\n",
    "print('Resampled dataset shape %s' % Counter(y2_trainRes))\n",
    "\n",
    "print(\"Validate:\")\n",
    "print('Original dataset shape %s' % Counter(y2_val))\n",
    "X2_valRes, y2_valRes = ros2.fit_resample(X2_val,y2_val)\n",
    "print('Resampled dataset shape %s' % Counter(y2_valRes))\n",
    "\n",
    "for p in pipelines:\n",
    "    p.fit(X2_trainRes, y2_trainRes)\n",
    "    prediction_name = (str(p) + \"_predictions\" + \"2\")\n",
    "    print(prediction_name)\n",
    "    prediction_name = p.predict(X2_valRes)\n",
    "    print(classification_report(y2_valRes,prediction_name))\n",
    "    print(confusion_matrix(y2_valRes,prediction_name))"
   ]
  },
  {
   "cell_type": "code",
   "execution_count": 78,
   "metadata": {},
   "outputs": [
    {
     "name": "stdout",
     "output_type": "stream",
     "text": [
      "Train:\n",
      "Original dataset shape Counter({0.0: 20342, 1.0: 4093})\n",
      "Resampled dataset shape Counter({0.0: 20342, 1.0: 20342})\n",
      "Validate:\n",
      "Original dataset shape Counter({0.0: 5072, 1.0: 1037})\n",
      "Resampled dataset shape Counter({0.0: 5072, 1.0: 5072})\n",
      "Pipeline(memory=None,\n",
      "     steps=[('scl', StandardScaler(copy=True, with_mean=True, with_std=True)), ('clf', LogisticRegression(C=1.0, class_weight=None, dual=False, fit_intercept=True,\n",
      "          intercept_scaling=1, max_iter=100, multi_class='warn',\n",
      "          n_jobs=None, penalty='l2', random_state=42, solver='warn',\n",
      "          tol=0.0001, verbose=0, warm_start=False))])_predictions3\n",
      "              precision    recall  f1-score   support\n",
      "\n",
      "         0.0       0.67      0.68      0.67      5072\n",
      "         1.0       0.67      0.67      0.67      5072\n",
      "\n",
      "   micro avg       0.67      0.67      0.67     10144\n",
      "   macro avg       0.67      0.67      0.67     10144\n",
      "weighted avg       0.67      0.67      0.67     10144\n",
      "\n",
      "[[3430 1642]\n",
      " [1690 3382]]\n"
     ]
    },
    {
     "name": "stderr",
     "output_type": "stream",
     "text": [
      "/home/kmussar/anaconda3/lib/python3.6/site-packages/sklearn/linear_model/logistic.py:433: FutureWarning: Default solver will be changed to 'lbfgs' in 0.22. Specify a solver to silence this warning.\n",
      "  FutureWarning)\n"
     ]
    },
    {
     "name": "stdout",
     "output_type": "stream",
     "text": [
      "Pipeline(memory=None,\n",
      "     steps=[('scl', StandardScaler(copy=True, with_mean=True, with_std=True)), ('clf', KNeighborsClassifier(algorithm='auto', leaf_size=30, metric='minkowski',\n",
      "           metric_params=None, n_jobs=None, n_neighbors=5, p=2,\n",
      "           weights='uniform'))])_predictions3\n",
      "              precision    recall  f1-score   support\n",
      "\n",
      "         0.0       0.54      0.88      0.67      5072\n",
      "         1.0       0.67      0.24      0.35      5072\n",
      "\n",
      "   micro avg       0.56      0.56      0.56     10144\n",
      "   macro avg       0.60      0.56      0.51     10144\n",
      "weighted avg       0.60      0.56      0.51     10144\n",
      "\n",
      "[[4480  592]\n",
      " [3869 1203]]\n",
      "Pipeline(memory=None,\n",
      "     steps=[('scl', StandardScaler(copy=True, with_mean=True, with_std=True)), ('clf', RandomForestClassifier(bootstrap=True, class_weight=None, criterion='gini',\n",
      "            max_depth=None, max_features='auto', max_leaf_nodes=None,\n",
      "            min_impurity_decrease=0.0, min_impurity_split=None,\n",
      "        ...obs=None,\n",
      "            oob_score=False, random_state=None, verbose=0,\n",
      "            warm_start=False))])_predictions3\n",
      "              precision    recall  f1-score   support\n",
      "\n",
      "         0.0       0.69      0.66      0.67      5072\n",
      "         1.0       0.67      0.70      0.69      5072\n",
      "\n",
      "   micro avg       0.68      0.68      0.68     10144\n",
      "   macro avg       0.68      0.68      0.68     10144\n",
      "weighted avg       0.68      0.68      0.68     10144\n",
      "\n",
      "[[3333 1739]\n",
      " [1516 3556]]\n",
      "Pipeline(memory=None,\n",
      "     steps=[('scl', StandardScaler(copy=True, with_mean=True, with_std=True)), ('clf', GaussianNB(priors=None, var_smoothing=1e-09))])_predictions3\n",
      "              precision    recall  f1-score   support\n",
      "\n",
      "         0.0       0.73      0.50      0.59      5072\n",
      "         1.0       0.62      0.82      0.70      5072\n",
      "\n",
      "   micro avg       0.66      0.66      0.66     10144\n",
      "   macro avg       0.68      0.66      0.65     10144\n",
      "weighted avg       0.68      0.66      0.65     10144\n",
      "\n",
      "[[2517 2555]\n",
      " [ 920 4152]]\n"
     ]
    }
   ],
   "source": [
    "# TOP 3\n",
    "\n",
    "num_features = [2,3]\n",
    "features = ['injury and poisoning', 'infectious', 'external injury']\n",
    "\n",
    "X3 = X[['injury and poisoning','infectious','external injury']]\n",
    "# Split trainVal set\n",
    "X3_trainVal, X3_test, y3_trainVal, y3_test = train_test_split(X3, y, test_size=0.2)\n",
    "X3_train, X3_val, y3_train, y3_val = train_test_split(X3_trainVal, y3_trainVal, test_size=0.2)\n",
    "\n",
    "ros3 = RandomOverSampler(random_state=0)\n",
    "\n",
    "print(\"Train:\")\n",
    "print('Original dataset shape %s' % Counter(y3_train))\n",
    "X3_trainRes, y3_trainRes = ros3.fit_resample(X3_train,y3_train)\n",
    "print('Resampled dataset shape %s' % Counter(y3_trainRes))\n",
    "\n",
    "print(\"Validate:\")\n",
    "print('Original dataset shape %s' % Counter(y3_val))\n",
    "X3_valRes, y3_valRes = ros3.fit_resample(X3_val,y3_val)\n",
    "print('Resampled dataset shape %s' % Counter(y3_valRes))\n",
    "\n",
    "for p in pipelines:\n",
    "    p.fit(X3_trainRes, y3_trainRes)\n",
    "    prediction_name = (str(p) + \"_predictions\" + \"3\")\n",
    "    print(prediction_name)\n",
    "    prediction_name = p.predict(X3_valRes)\n",
    "    print(classification_report(y3_valRes,prediction_name))\n",
    "    print(confusion_matrix(y3_valRes,prediction_name))"
   ]
  },
  {
   "cell_type": "raw",
   "metadata": {},
   "source": [
    "# Save X4\n",
    "\n",
    "with open('X_top4_features.pickle','wb') as to_write:\n",
    "    pickle.dump(X4,to_write)"
   ]
  },
  {
   "cell_type": "raw",
   "metadata": {},
   "source": [
    "# Save X4 RESAMPLED\n",
    "\n",
    "with open('X4_trainRes.pickle','wb') as to_write:\n",
    "    pickle.dump(X4_trainRes,to_write)"
   ]
  },
  {
   "cell_type": "raw",
   "metadata": {},
   "source": [
    "with open('y4_trainRes.pickle','wb') as to_write:\n",
    "    pickle.dump(y4_trainRes,to_write)"
   ]
  },
  {
   "cell_type": "raw",
   "metadata": {},
   "source": [
    "with open('y4_valRes.pickle','wb') as to_write:\n",
    "    pickle.dump(y4_valRes,to_write)"
   ]
  },
  {
   "cell_type": "raw",
   "metadata": {},
   "source": [
    "with open('X4_valRes.pickle','wb') as to_write:\n",
    "    pickle.dump(X4_valRes,to_write)"
   ]
  },
  {
   "cell_type": "markdown",
   "metadata": {},
   "source": [
    "# ROC Curves"
   ]
  },
  {
   "cell_type": "code",
   "execution_count": 79,
   "metadata": {},
   "outputs": [
    {
     "name": "stderr",
     "output_type": "stream",
     "text": [
      "/home/kmussar/anaconda3/lib/python3.6/site-packages/sklearn/linear_model/logistic.py:433: FutureWarning: Default solver will be changed to 'lbfgs' in 0.22. Specify a solver to silence this warning.\n",
      "  FutureWarning)\n"
     ]
    },
    {
     "name": "stdout",
     "output_type": "stream",
     "text": [
      "              precision    recall  f1-score   support\n",
      "\n",
      "         0.0       0.74      0.72      0.73      5098\n",
      "         1.0       0.73      0.75      0.74      5098\n",
      "\n",
      "   micro avg       0.73      0.73      0.73     10196\n",
      "   macro avg       0.73      0.73      0.73     10196\n",
      "weighted avg       0.73      0.73      0.73     10196\n",
      "\n",
      "[[3661 1437]\n",
      " [1271 3827]]\n"
     ]
    }
   ],
   "source": [
    "# All features\n",
    "pipe_lr = Pipeline([('scl', StandardScaler()),\n",
    "                    ('clf', LogisticRegression(random_state=100))])\n",
    "\n",
    "pipe_lr.fit(X_trainRes, y_trainRes)\n",
    "predictions = pipe_lr.predict(X_valRes)\n",
    "print(classification_report(y_valRes,predictions))\n",
    "print(confusion_matrix(y_valRes,predictions))"
   ]
  },
  {
   "cell_type": "code",
   "execution_count": null,
   "metadata": {},
   "outputs": [],
   "source": [
    "# Top 4 features\n",
    "\n",
    "pipe_lr4 = Pipeline([('scl', StandardScaler()),\n",
    "                    ('clf', LogisticRegression(random_state=100))])\n",
    "\n",
    "pipe_lr4.fit(X4_trainRes, y4_trainRes)\n",
    "predictions4 = pipe_lr4.predict(X4_valRes)\n",
    "print(classification_report(y4_valRes,predictions4))\n",
    "print(confusion_matrix(y4_valRes,predictions4))"
   ]
  },
  {
   "cell_type": "code",
   "execution_count": 80,
   "metadata": {},
   "outputs": [
    {
     "name": "stdout",
     "output_type": "stream",
     "text": [
      "              precision    recall  f1-score   support\n",
      "\n",
      "         0.0       0.67      0.68      0.67      5072\n",
      "         1.0       0.67      0.67      0.67      5072\n",
      "\n",
      "   micro avg       0.67      0.67      0.67     10144\n",
      "   macro avg       0.67      0.67      0.67     10144\n",
      "weighted avg       0.67      0.67      0.67     10144\n",
      "\n",
      "[[3430 1642]\n",
      " [1690 3382]]\n"
     ]
    },
    {
     "name": "stderr",
     "output_type": "stream",
     "text": [
      "/home/kmussar/anaconda3/lib/python3.6/site-packages/sklearn/linear_model/logistic.py:433: FutureWarning: Default solver will be changed to 'lbfgs' in 0.22. Specify a solver to silence this warning.\n",
      "  FutureWarning)\n"
     ]
    }
   ],
   "source": [
    "# Top 3 features\n",
    "pipe_lr3 = Pipeline([('scl', StandardScaler()),\n",
    "                    ('clf', LogisticRegression(random_state=100))])\n",
    "\n",
    "pipe_lr3.fit(X3_trainRes, y3_trainRes)\n",
    "predictions3 = pipe_lr3.predict(X3_valRes)\n",
    "print(classification_report(y3_valRes,predictions3))\n",
    "print(confusion_matrix(y3_valRes,predictions3))"
   ]
  },
  {
   "cell_type": "raw",
   "metadata": {},
   "source": [
    "# Save X4 RESAMPLED\n",
    "\n",
    "with open('X3_trainRes.pickle','wb') as to_write:\n",
    "    pickle.dump(X3_trainRes,to_write)"
   ]
  },
  {
   "cell_type": "raw",
   "metadata": {},
   "source": [
    "with open('y3_trainRes.pickle','wb') as to_write:\n",
    "    pickle.dump(y3_trainRes,to_write)"
   ]
  },
  {
   "cell_type": "raw",
   "metadata": {},
   "source": [
    "with open('y3_valRes.pickle','wb') as to_write:\n",
    "    pickle.dump(y3_valRes,to_write)"
   ]
  },
  {
   "cell_type": "raw",
   "metadata": {},
   "source": [
    "with open('X3_valRes.pickle','wb') as to_write:\n",
    "    pickle.dump(X3_valRes,to_write)"
   ]
  },
  {
   "cell_type": "code",
   "execution_count": 81,
   "metadata": {},
   "outputs": [
    {
     "data": {
      "image/png": "[encoded data removed]",
      "text/plain": [
       "<Figure size 432x288 with 1 Axes>"
      ]
     },
     "metadata": {
      "needs_background": "light"
     },
     "output_type": "display_data"
    }
   ],
   "source": [
    "# Graph ROC Curve for all features and first 4 features \n",
    "\n",
    "from sklearn.metrics import roc_auc_score, roc_curve\n",
    "\n",
    "plt.figure()\n",
    "\n",
    "# Compute False postive rate, and True positive rate\n",
    "#fpr4, tpr4, thresholds4 = metrics.roc_curve(y4_val, pipe_lr4.predict_proba(X4_val)[:,1])\n",
    "fpr3, tpr3, thresholds3 = metrics.roc_curve(y3_val, pipe_lr3.predict_proba(X3_val)[:,1])\n",
    "fpr, tpr, thresholds = metrics.roc_curve(y_val, pipe_lr.predict_proba(X_val)[:,1])\n",
    "#fprG, tprG, thresholdsG = metrics.roc_curve(y_val, pipe_lrGS.predict_proba(X_val)[:,1])\n",
    "#fpr4G, tpr4G, thresholds4G = metrics.roc_curve(y4_val, pipe_lr4GS.predict_proba(X4_val)[:,1])\n",
    "\n",
    "# Calculate Area under the curve to display on the plot\n",
    "auc = metrics.roc_auc_score(y_val,pipe_lr.predict(X_val))\n",
    "#auc4 = metrics.roc_auc_score(y4_val,pipe_lr4.predict(X4_val))\n",
    "auc3 = metrics.roc_auc_score(y3_val,pipe_lr3.predict(X3_val))\n",
    "#aucG = metrics.roc_auc_score(y_val,pipe_lrGS.predict(X_val))\n",
    "#auc4G = metrics.roc_auc_score(y4_val,pipe_lr4GS.predict(X4_val))\n",
    "\n",
    "# Now, plot the computed values\n",
    "plt.plot(fpr, tpr, label='all, %0.2f)' % (auc),linewidth=1) \n",
    "#plt.plot(fprG, tprG, label='all_gs, %0.2f)' % (aucG),linewidth=1) \n",
    "#plt.plot(fpr4, tpr4, label='4,  %0.2f)' % (auc4),linewidth=1)\n",
    "plt.plot(fpr3, tpr3, label='3,  %0.2f)' % (auc3),linewidth=1) \n",
    "#plt.plot(fpr4G, tpr4G, label='4_gs,  %0.2f)' % (auc4G),linewidth=1) \n",
    "    \n",
    "plt.plot([0, 1], [0, 1],'r--')\n",
    "plt.xlim([0.0, 1.0])\n",
    "plt.ylim([0.0, 1.05])\n",
    "plt.xlabel('1-Specificity(False Positive Rate)')\n",
    "plt.ylabel('Sensitivity(True Positive Rate)')\n",
    "plt.title('Receiver Operating Characteristic')\n",
    "plt.legend(loc=\"best\")\n",
    "plt.show()"
   ]
  },
  {
   "cell_type": "code",
   "execution_count": null,
   "metadata": {},
   "outputs": [],
   "source": []
  },
  {
   "cell_type": "code",
   "execution_count": null,
   "metadata": {},
   "outputs": [],
   "source": []
  },
  {
   "cell_type": "code",
   "execution_count": null,
   "metadata": {},
   "outputs": [],
   "source": [
    "bools = [True, False]\n",
    "\n",
    "for prop1 in bools:\n",
    "    for prop2 in bools:\n",
    "        for prop3 in bools:\n",
    "            for prop4 in bools:\n",
    "                print(prop1, prop2, prop3, prop4)\n",
    "                "
   ]
  },
  {
   "cell_type": "code",
   "execution_count": null,
   "metadata": {},
   "outputs": [],
   "source": [
    "features = ['injury and poisoning', 'infectious', 'external injury', 'genitourinary']\n",
    "\n",
    "total = df[df['injury and poisoning'] == True]['injury and poisoning'].count()\n",
    "infected = df[(df['injury and poisoning'] == True) & (df['CLABSI'] == True)]['injury and poisoning'].count()\n",
    "percent = round(infected/total*100)\n",
    "print(percent)"
   ]
  },
  {
   "cell_type": "code",
   "execution_count": null,
   "metadata": {},
   "outputs": [],
   "source": [
    "def find_percentages(injury,infectious,external,genitourinary):\n",
    "    injury_count = df[(df['injury and poisoning'] == injury)]['injury and poisoning'].count()\n",
    "    infectious_count = df[(df['infectious'] == infectious)]['infectious'].count()\n",
    "    external_injury_count = df[(df['external injury'] == external)]['external injury'].count()\n",
    "    genitourinary_count = df[(df['genitourinary'] == genitourinary)]['genitourinary'].count()                      \n",
    "    total = injury_count + infectious_count + external_injury_count + genitourinary_count\n",
    "                          \n",
    "    #infected = df[(df['injury and poisoning'] == True) & (df['CLABSI'] == True)]['injury and poisoning'].count()\n",
    "    #percent = round(infected/total*100)\n",
    "    print(injury_count)\n",
    "    print(infectious_count)\n",
    "    return total"
   ]
  },
  {
   "cell_type": "code",
   "execution_count": null,
   "metadata": {},
   "outputs": [],
   "source": [
    "find_percentages(True,False,False,False)"
   ]
  },
  {
   "cell_type": "code",
   "execution_count": null,
   "metadata": {},
   "outputs": [],
   "source": [
    "pd.DataFrame()"
   ]
  },
  {
   "cell_type": "markdown",
   "metadata": {},
   "source": [
    "# GridSearchCV for logistic regression"
   ]
  },
  {
   "cell_type": "code",
   "execution_count": null,
   "metadata": {},
   "outputs": [],
   "source": [
    "# Create logistic regression\n",
    "logistic = LogisticRegression()\n",
    "\n",
    "# Create regularization penalty space\n",
    "penalty = ['l1', 'l2']\n",
    "\n",
    "# Create regularization hyperparameter space\n",
    "C = np.logspace(0, 4, 10)\n",
    "\n",
    "# Create hyperparameter options\n",
    "hyperparameters = dict(C=C, penalty=penalty)\n",
    "\n",
    "clf = GridSearchCV(logistic, hyperparameters, cv=5, verbose=0)"
   ]
  },
  {
   "cell_type": "code",
   "execution_count": null,
   "metadata": {},
   "outputs": [],
   "source": [
    "best_model = clf.fit(X_train, y_train)\n",
    "print('Best Penalty:', best_model.best_estimator_.get_params()['penalty'])\n",
    "print('Best C:', best_model.best_estimator_.get_params()['C'])"
   ]
  },
  {
   "cell_type": "code",
   "execution_count": null,
   "metadata": {},
   "outputs": [],
   "source": [
    "# Predict target vector\n",
    "best_model.predict(X_val)"
   ]
  },
  {
   "cell_type": "code",
   "execution_count": null,
   "metadata": {},
   "outputs": [],
   "source": [
    "pipe_lrGS = Pipeline([('scl', StandardScaler()),\n",
    "                    ('clf', LogisticRegression(penalty='l2', C=3594, random_state=100))])\n",
    "\n",
    "pipe_lrGS.fit(X_trainRes, y_trainRes)\n",
    "predictions = pipe_lrGS.predict(X_valRes)\n",
    "print(classification_report(y_valRes,predictions))\n",
    "print(confusion_matrix(y_valRes,predictions))"
   ]
  },
  {
   "cell_type": "code",
   "execution_count": null,
   "metadata": {},
   "outputs": [],
   "source": [
    "# Create logistic regression for 4 top features\n",
    "logistic4 = LogisticRegression()\n",
    "\n",
    "# Create regularization penalty space\n",
    "penalty = ['l1', 'l2']\n",
    "\n",
    "# Create regularization hyperparameter space\n",
    "C = np.logspace(0, 4, 10)\n",
    "\n",
    "# Create hyperparameter options\n",
    "hyperparameters = dict(C=C, penalty=penalty)\n",
    "\n",
    "clf4 = GridSearchCV(logistic, hyperparameters, cv=5, verbose=0)"
   ]
  },
  {
   "cell_type": "code",
   "execution_count": null,
   "metadata": {
    "scrolled": true
   },
   "outputs": [],
   "source": [
    "best_model4 = clf4.fit(X4_train, y4_train)\n",
    "print('Best Penalty:', best_model4.best_estimator_.get_params()['penalty'])\n",
    "print('Best C:', best_model4.best_estimator_.get_params()['C'])"
   ]
  },
  {
   "cell_type": "code",
   "execution_count": null,
   "metadata": {},
   "outputs": [],
   "source": [
    "pipe_lr4GS = Pipeline([('scl', StandardScaler()),\n",
    "                    ('clf', LogisticRegression(penalty='l1', C=1, random_state=100))])\n",
    "\n",
    "pipe_lr4GS.fit(X4_trainRes, y4_trainRes)\n",
    "predictions = pipe_lr4GS.predict(X4_valRes)\n",
    "print(classification_report(y4_valRes,predictions))\n",
    "print(confusion_matrix(y4_valRes,predictions))"
   ]
  },
  {
   "cell_type": "code",
   "execution_count": null,
   "metadata": {},
   "outputs": [],
   "source": []
  },
  {
   "cell_type": "code",
   "execution_count": null,
   "metadata": {},
   "outputs": [],
   "source": []
  },
  {
   "cell_type": "code",
   "execution_count": null,
   "metadata": {},
   "outputs": [],
   "source": [
    "# Calculate percentages of manual approach on test set"
   ]
  },
  {
   "cell_type": "code",
   "execution_count": 8,
   "metadata": {},
   "outputs": [],
   "source": [
    "df_train, df_test = train_test_split(df, test_size=0.2,random_state=0)"
   ]
  },
  {
   "cell_type": "code",
   "execution_count": 9,
   "metadata": {
    "collapsed": true
   },
   "outputs": [
    {
     "name": "stdout",
     "output_type": "stream",
     "text": [
      "<class 'pandas.core.frame.DataFrame'>\n",
      "Int64Index: 7643 entries, 34136 to 4308\n",
      "Data columns (total 81 columns):\n",
      "icustay_id                                      7637 non-null float64\n",
      "starttime                                       7643 non-null datetime64[ns]\n",
      "endtime                                         7643 non-null datetime64[ns]\n",
      "duration_hours                                  7643 non-null float64\n",
      "subject_id                                      7637 non-null float64\n",
      "hadm_id                                         7637 non-null float64\n",
      "dbsource                                        7637 non-null object\n",
      "last_careunit                                   7637 non-null object\n",
      "first_wardid                                    7637 non-null float64\n",
      "last_wardid                                     7637 non-null float64\n",
      "intime                                          7637 non-null datetime64[ns]\n",
      "outtime                                         7637 non-null datetime64[ns]\n",
      "los                                             7637 non-null float64\n",
      "admittime                                       7637 non-null datetime64[ns]\n",
      "dischtime                                       7637 non-null datetime64[ns]\n",
      "deathtime                                       1514 non-null datetime64[ns]\n",
      "discharge_location                              7637 non-null object\n",
      "language                                        5393 non-null object\n",
      "religion                                        7573 non-null object\n",
      "marital_status                                  7284 non-null object\n",
      "edregtime                                       4037 non-null datetime64[ns]\n",
      "edouttime                                       4037 non-null datetime64[ns]\n",
      "diagnosis                                       7637 non-null object\n",
      "hospital_expire_flag                            7637 non-null float64\n",
      "has_chartevents_data                            7637 non-null float64\n",
      "dob                                             7637 non-null datetime64[ns]\n",
      "dod                                             3929 non-null datetime64[ns]\n",
      "dod_hosp                                        2887 non-null datetime64[ns]\n",
      "dod_ssn                                         3159 non-null datetime64[ns]\n",
      "expire_flag                                     7637 non-null float64\n",
      "time_before_ICU                                 7637 non-null timedelta64[ns]\n",
      "prior_ICU_hours                                 7637 non-null float64\n",
      "ER_time                                         4037 non-null timedelta64[ns]\n",
      "ER_hours                                        4037 non-null float64\n",
      "age_timedelta                                   7637 non-null timedelta64[ns]\n",
      "age_years                                       7637 non-null float64\n",
      "religion_bin                                    7637 non-null float64\n",
      "marital_status_bin_MARRIED                      7637 non-null float64\n",
      "marital_status_bin_SINGLE                       7637 non-null float64\n",
      "religion_2_1                                    7637 non-null float64\n",
      "ethnicity_ASIAN                                 7637 non-null float64\n",
      "ethnicity_BLACK/AFRICAN AMERICAN                7637 non-null float64\n",
      "ethnicity_HISPANIC/LATINO                       7637 non-null float64\n",
      "ethnicity_WHITE                                 7637 non-null float64\n",
      "language_bin_0                                  7637 non-null float64\n",
      "admission_type_EMERGENCY                        7637 non-null float64\n",
      "admission_type_URGENT                           7637 non-null float64\n",
      "admission_location_CLINIC REFERRAL/PREMATURE    7637 non-null float64\n",
      "admission_location_EMERGENCY ROOM ADMIT         7637 non-null float64\n",
      "admission_location_PHYS REFERRAL/NORMAL DELI    7637 non-null float64\n",
      "admission_location_TRANSFER FROM HOSP/EXTRAM    7637 non-null float64\n",
      "first_careunit_CCU                              7637 non-null float64\n",
      "first_careunit_CSRU                             7637 non-null float64\n",
      "first_careunit_MICU                             7637 non-null float64\n",
      "first_careunit_SICU                             7637 non-null float64\n",
      "insurance_Medicaid                              7637 non-null float64\n",
      "insurance_Medicare                              7637 non-null float64\n",
      "insurance_Private                               7637 non-null float64\n",
      "insurance_Self Pay                              7637 non-null float64\n",
      "gender_F                                        7637 non-null float64\n",
      "CLABSI                                          7643 non-null float64\n",
      "No diagnosis                                    7643 non-null float64\n",
      "blood                                           7643 non-null float64\n",
      "circulatory                                     7643 non-null float64\n",
      "congenital                                      7643 non-null float64\n",
      "digestive                                       7643 non-null float64\n",
      "endocrine                                       7643 non-null float64\n",
      "external injury                                 7643 non-null float64\n",
      "genitourinary                                   7643 non-null float64\n",
      "infectious                                      7643 non-null float64\n",
      "injury and poisoning                            7643 non-null float64\n",
      "mental                                          7643 non-null float64\n",
      "misc                                            7643 non-null float64\n",
      "muscular                                        7643 non-null float64\n",
      "neoplasms                                       7643 non-null float64\n",
      "nervous                                         7643 non-null float64\n",
      "perinatal                                       7643 non-null float64\n",
      "pregnancy                                       7643 non-null float64\n",
      "respiratory                                     7643 non-null float64\n",
      "skin                                            7643 non-null float64\n",
      "special considerations                          7643 non-null float64\n",
      "dtypes: datetime64[ns](13), float64(58), object(7), timedelta64[ns](3)\n",
      "memory usage: 4.8+ MB\n"
     ]
    }
   ],
   "source": [
    "df_test.info()"
   ]
  },
  {
   "cell_type": "code",
   "execution_count": 10,
   "metadata": {},
   "outputs": [
    {
     "data": {
      "text/plain": [
       "1279"
      ]
     },
     "execution_count": 10,
     "metadata": {},
     "output_type": "execute_result"
    }
   ],
   "source": [
    "# Patients with central lines and CLABSI: \n",
    "df_test[(df_test['duration_hours'] >0) & (df_test['CLABSI']==1)]['icustay_id'].count()"
   ]
  },
  {
   "cell_type": "code",
   "execution_count": 11,
   "metadata": {},
   "outputs": [
    {
     "data": {
      "text/plain": [
       "4225"
      ]
     },
     "execution_count": 11,
     "metadata": {},
     "output_type": "execute_result"
    }
   ],
   "source": [
    "# Patients with central lines and injury: \n",
    "df_test[(df_test['duration_hours'] >0) & (df_test['injury and poisoning']==1)]['icustay_id'].count()"
   ]
  },
  {
   "cell_type": "code",
   "execution_count": 12,
   "metadata": {},
   "outputs": [
    {
     "data": {
      "text/plain": [
       "1058"
      ]
     },
     "execution_count": 12,
     "metadata": {},
     "output_type": "execute_result"
    }
   ],
   "source": [
    "# Patients with central lines and injury and infections: \n",
    "(df_test[(df_test['duration_hours'] >0) &\n",
    "         (df_test['injury and poisoning']==1) &\n",
    "         (df_test['CLABSI']==1)\n",
    "        ]['icustay_id'].count())"
   ]
  },
  {
   "cell_type": "code",
   "execution_count": 14,
   "metadata": {},
   "outputs": [
    {
     "data": {
      "text/plain": [
       "0.8272087568412823"
      ]
     },
     "execution_count": 14,
     "metadata": {},
     "output_type": "execute_result"
    }
   ],
   "source": [
    "recall = 1058/1279\n",
    "recall "
   ]
  },
  {
   "cell_type": "code",
   "execution_count": 15,
   "metadata": {},
   "outputs": [
    {
     "data": {
      "text/plain": [
       "7637"
      ]
     },
     "execution_count": 15,
     "metadata": {},
     "output_type": "execute_result"
    }
   ],
   "source": [
    "df_test['icustay_id'].count()"
   ]
  },
  {
   "cell_type": "code",
   "execution_count": 16,
   "metadata": {},
   "outputs": [
    {
     "data": {
      "text/plain": [
       "0.5532277072148749"
      ]
     },
     "execution_count": 16,
     "metadata": {},
     "output_type": "execute_result"
    }
   ],
   "source": [
    "# Patients to monitor: \n",
    "4225/7637"
   ]
  },
  {
   "cell_type": "code",
   "execution_count": null,
   "metadata": {},
   "outputs": [],
   "source": []
  }
 ],
 "metadata": {
  "kernelspec": {
   "display_name": "Python 3",
   "language": "python",
   "name": "python3"
  },
  "language_info": {
   "codemirror_mode": {
    "name": "ipython",
    "version": 3
   },
   "file_extension": ".py",
   "mimetype": "text/x-python",
   "name": "python",
   "nbconvert_exporter": "python",
   "pygments_lexer": "ipython3",
   "version": "3.6.8"
  }
 },
 "nbformat": 4,
 "nbformat_minor": 2
}
