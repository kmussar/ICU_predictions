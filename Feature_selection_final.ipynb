{
 "cells": [
  {
   "cell_type": "code",
   "execution_count": 33,
   "metadata": {},
   "outputs": [],
   "source": [
    "import pickle\n",
    "import pandas as pd\n",
    "import numpy as np\n",
    "import matplotlib.pyplot as plt\n",
    "import seaborn as sns\n",
    "from sklearn.model_selection import train_test_split\n",
    "from sklearn.ensemble import RandomForestClassifier\n",
    "from sklearn import metrics\n",
    "from sklearn.metrics import classification_report, confusion_matrix, accuracy_score\n",
    "from collections import Counter\n",
    "from sklearn.base import clone\n",
    "\n",
    "%matplotlib inline"
   ]
  },
  {
   "cell_type": "code",
   "execution_count": 34,
   "metadata": {},
   "outputs": [],
   "source": [
    "with open('y_correct.pickle','rb') as to_read:\n",
    "    y = pickle.load(to_read)"
   ]
  },
  {
   "cell_type": "code",
   "execution_count": 35,
   "metadata": {},
   "outputs": [],
   "source": [
    "with open('X_all_features.pickle','rb') as to_read:\n",
    "    X = pickle.load(to_read)"
   ]
  },
  {
   "cell_type": "code",
   "execution_count": 36,
   "metadata": {
    "collapsed": true
   },
   "outputs": [
    {
     "name": "stdout",
     "output_type": "stream",
     "text": [
      "<class 'pandas.core.frame.DataFrame'>\n",
      "Int64Index: 38181 entries, 0 to 38180\n",
      "Data columns (total 45 columns):\n",
      "prior_ICU_hours                                 38181 non-null float64\n",
      "age_years                                       38181 non-null float64\n",
      "marital_status_bin_MARRIED                      38181 non-null float64\n",
      "marital_status_bin_SINGLE                       38181 non-null float64\n",
      "religion_2_1                                    38181 non-null float64\n",
      "ethnicity_ASIAN                                 38181 non-null float64\n",
      "ethnicity_BLACK/AFRICAN AMERICAN                38181 non-null float64\n",
      "ethnicity_HISPANIC/LATINO                       38181 non-null float64\n",
      "ethnicity_WHITE                                 38181 non-null float64\n",
      "language_bin_0                                  38181 non-null float64\n",
      "admission_type_EMERGENCY                        38181 non-null float64\n",
      "admission_type_URGENT                           38181 non-null float64\n",
      "admission_location_CLINIC REFERRAL/PREMATURE    38181 non-null float64\n",
      "admission_location_EMERGENCY ROOM ADMIT         38181 non-null float64\n",
      "admission_location_PHYS REFERRAL/NORMAL DELI    38181 non-null float64\n",
      "admission_location_TRANSFER FROM HOSP/EXTRAM    38181 non-null float64\n",
      "first_careunit_CCU                              38181 non-null float64\n",
      "first_careunit_CSRU                             38181 non-null float64\n",
      "first_careunit_MICU                             38181 non-null float64\n",
      "first_careunit_SICU                             38181 non-null float64\n",
      "insurance_Medicaid                              38181 non-null float64\n",
      "insurance_Medicare                              38181 non-null float64\n",
      "insurance_Private                               38181 non-null float64\n",
      "insurance_Self Pay                              38181 non-null float64\n",
      "gender_F                                        38181 non-null float64\n",
      "No diagnosis                                    38181 non-null float64\n",
      "blood                                           38181 non-null float64\n",
      "circulatory                                     38181 non-null float64\n",
      "congenital                                      38181 non-null float64\n",
      "digestive                                       38181 non-null float64\n",
      "endocrine                                       38181 non-null float64\n",
      "external injury                                 38181 non-null float64\n",
      "genitourinary                                   38181 non-null float64\n",
      "infectious                                      38181 non-null float64\n",
      "injury and poisoning                            38181 non-null float64\n",
      "mental                                          38181 non-null float64\n",
      "misc                                            38181 non-null float64\n",
      "muscular                                        38181 non-null float64\n",
      "neoplasms                                       38181 non-null float64\n",
      "nervous                                         38181 non-null float64\n",
      "perinatal                                       38181 non-null float64\n",
      "pregnancy                                       38181 non-null float64\n",
      "respiratory                                     38181 non-null float64\n",
      "skin                                            38181 non-null float64\n",
      "special considerations                          38181 non-null float64\n",
      "dtypes: float64(45)\n",
      "memory usage: 13.4 MB\n"
     ]
    }
   ],
   "source": [
    "X.info()"
   ]
  },
  {
   "cell_type": "code",
   "execution_count": 37,
   "metadata": {},
   "outputs": [
    {
     "data": {
      "text/plain": [
       "0.0    31754\n",
       "1.0     6427\n",
       "Name: CLABSI, dtype: int64"
      ]
     },
     "execution_count": 37,
     "metadata": {},
     "output_type": "execute_result"
    }
   ],
   "source": [
    "y.value_counts()"
   ]
  },
  {
   "cell_type": "markdown",
   "metadata": {},
   "source": [
    "## Train/Test Split "
   ]
  },
  {
   "cell_type": "code",
   "execution_count": 38,
   "metadata": {},
   "outputs": [],
   "source": [
    "X_trainVal, X_test, y_trainVal, y_test = train_test_split(X, y, test_size=0.2,random_state=0)\n",
    "X_train, X_val, y_train, y_val = train_test_split(X_trainVal, y_trainVal, test_size=0.2,random_state=0)"
   ]
  },
  {
   "cell_type": "code",
   "execution_count": 39,
   "metadata": {},
   "outputs": [
    {
     "name": "stdout",
     "output_type": "stream",
     "text": [
      "total %: 0.20239969767588337\n",
      "trainVal %: 0.2010066058508965\n",
      "train %: 0.1993815343837432\n",
      "test %: 0.2080037962670041\n"
     ]
    }
   ],
   "source": [
    "print(\"total %: \" + str(6427/31754))\n",
    "print(\"trainVal %: \" + str(5112/25432))\n",
    "print(\"train %: \" + str(4062/20373))\n",
    "print(\"test %: \" + str(1315/6322))"
   ]
  },
  {
   "cell_type": "markdown",
   "metadata": {},
   "source": [
    "## Drop Columns - Feature Importance\n",
    "\n",
    "**Note: Resampling converts X to numpy.ndarray object -- will test features on original imbalanced data**"
   ]
  },
  {
   "cell_type": "code",
   "execution_count": 40,
   "metadata": {},
   "outputs": [
    {
     "name": "stdout",
     "output_type": "stream",
     "text": [
      "              precision    recall  f1-score   support\n",
      "\n",
      "         0.0       0.92      0.99      0.96      5098\n",
      "         1.0       0.94      0.58      0.72      1011\n",
      "\n",
      "   micro avg       0.92      0.92      0.92      6109\n",
      "   macro avg       0.93      0.79      0.84      6109\n",
      "weighted avg       0.93      0.92      0.92      6109\n",
      "\n"
     ]
    }
   ],
   "source": [
    "# Initalize a base Random Forest \n",
    "rf_model = RandomForestClassifier(n_estimators=100,oob_score=True)\n",
    "rf_model.fit(X_train, y_train)\n",
    "predictions = rf_model.predict(X_val)\n",
    "print(classification_report(y_val,predictions))"
   ]
  },
  {
   "cell_type": "code",
   "execution_count": 41,
   "metadata": {},
   "outputs": [
    {
     "data": {
      "text/plain": [
       "0.9263351749539595"
      ]
     },
     "execution_count": 41,
     "metadata": {},
     "output_type": "execute_result"
    }
   ],
   "source": [
    "baseline = rf_model.oob_score_\n",
    "baseline"
   ]
  },
  {
   "cell_type": "code",
   "execution_count": 42,
   "metadata": {},
   "outputs": [
    {
     "data": {
      "text/plain": [
       "['prior_ICU_hours',\n",
       " 'age_years',\n",
       " 'marital_status_bin_MARRIED',\n",
       " 'marital_status_bin_SINGLE',\n",
       " 'religion_2_1',\n",
       " 'ethnicity_ASIAN',\n",
       " 'ethnicity_BLACK/AFRICAN AMERICAN',\n",
       " 'ethnicity_HISPANIC/LATINO',\n",
       " 'ethnicity_WHITE',\n",
       " 'language_bin_0',\n",
       " 'admission_type_EMERGENCY',\n",
       " 'admission_type_URGENT',\n",
       " 'admission_location_CLINIC REFERRAL/PREMATURE',\n",
       " 'admission_location_EMERGENCY ROOM ADMIT',\n",
       " 'admission_location_PHYS REFERRAL/NORMAL DELI',\n",
       " 'admission_location_TRANSFER FROM HOSP/EXTRAM',\n",
       " 'first_careunit_CCU',\n",
       " 'first_careunit_CSRU',\n",
       " 'first_careunit_MICU',\n",
       " 'first_careunit_SICU',\n",
       " 'insurance_Medicaid',\n",
       " 'insurance_Medicare',\n",
       " 'insurance_Private',\n",
       " 'insurance_Self Pay',\n",
       " 'gender_F',\n",
       " 'No diagnosis',\n",
       " 'blood',\n",
       " 'circulatory',\n",
       " 'congenital',\n",
       " 'digestive',\n",
       " 'endocrine',\n",
       " 'external injury',\n",
       " 'genitourinary',\n",
       " 'infectious',\n",
       " 'injury and poisoning',\n",
       " 'mental',\n",
       " 'misc',\n",
       " 'muscular',\n",
       " 'neoplasms',\n",
       " 'nervous',\n",
       " 'perinatal',\n",
       " 'pregnancy',\n",
       " 'respiratory',\n",
       " 'skin',\n",
       " 'special considerations']"
      ]
     },
     "execution_count": 42,
     "metadata": {},
     "output_type": "execute_result"
    }
   ],
   "source": [
    "lst_cols = list(X_train.columns)\n",
    "lst_cols"
   ]
  },
  {
   "cell_type": "code",
   "execution_count": 43,
   "metadata": {},
   "outputs": [],
   "source": [
    "def dropcol_importances(model, X, y):\n",
    "    model.random_state = 100\n",
    "    model.fit(X, y)\n",
    "    baseline = model.oob_score_\n",
    "    print(baseline)\n",
    "    imp = []\n",
    "    for col in lst_cols:\n",
    "        X2 = X.copy()\n",
    "        model_ = clone(model)\n",
    "        model_.random_state = 100\n",
    "        model_.fit((X2.drop(col, axis=1)), y)\n",
    "        o = model_.oob_score_\n",
    "        imp.append(np.absolute(baseline - o))    \n",
    "    imp = np.array(imp)\n",
    "    I5 = pd.DataFrame(\n",
    "            data={'Feature':X.columns,\n",
    "                  'Absolute Importance':imp})\n",
    "    #I = I.set_index('Feature')\n",
    "    I5 = I5.sort_values('Absolute Importance', ascending=False)\n",
    "    with open (\"I5_df.pickle\", 'wb') as to_write:\n",
    "        pickle.dump(I4, to_write)\n",
    "    \n",
    "    plt.figure(figsize=(9,3))\n",
    "    sns.set_context('poster')\n",
    "    sns.barplot(x='Feature',y='Absolute Importance',data=I5,color='darkblue')\n",
    "    plt.tick_params(axis='x',which='both',right = False, bottom=False,top=False,labelbottom=False) \n",
    "    return I5"
   ]
  },
  {
   "cell_type": "code",
   "execution_count": 44,
   "metadata": {},
   "outputs": [
    {
     "name": "stdout",
     "output_type": "stream",
     "text": [
      "0.9269081235932065\n"
     ]
    },
    {
     "data": {
      "text/html": [
       "<div>\n",
       "<style scoped>\n",
       "    .dataframe tbody tr th:only-of-type {\n",
       "        vertical-align: middle;\n",
       "    }\n",
       "\n",
       "    .dataframe tbody tr th {\n",
       "        vertical-align: top;\n",
       "    }\n",
       "\n",
       "    .dataframe thead th {\n",
       "        text-align: right;\n",
       "    }\n",
       "</style>\n",
       "<table border=\"1\" class=\"dataframe\">\n",
       "  <thead>\n",
       "    <tr style=\"text-align: right;\">\n",
       "      <th></th>\n",
       "      <th>Feature</th>\n",
       "      <th>Absolute Importance</th>\n",
       "    </tr>\n",
       "  </thead>\n",
       "  <tbody>\n",
       "    <tr>\n",
       "      <th>34</th>\n",
       "      <td>injury and poisoning</td>\n",
       "      <td>0.008103</td>\n",
       "    </tr>\n",
       "    <tr>\n",
       "      <th>33</th>\n",
       "      <td>infectious</td>\n",
       "      <td>0.004870</td>\n",
       "    </tr>\n",
       "    <tr>\n",
       "      <th>31</th>\n",
       "      <td>external injury</td>\n",
       "      <td>0.004584</td>\n",
       "    </tr>\n",
       "    <tr>\n",
       "      <th>36</th>\n",
       "      <td>misc</td>\n",
       "      <td>0.002496</td>\n",
       "    </tr>\n",
       "    <tr>\n",
       "      <th>43</th>\n",
       "      <td>skin</td>\n",
       "      <td>0.002169</td>\n",
       "    </tr>\n",
       "    <tr>\n",
       "      <th>38</th>\n",
       "      <td>neoplasms</td>\n",
       "      <td>0.001964</td>\n",
       "    </tr>\n",
       "    <tr>\n",
       "      <th>29</th>\n",
       "      <td>digestive</td>\n",
       "      <td>0.001883</td>\n",
       "    </tr>\n",
       "    <tr>\n",
       "      <th>19</th>\n",
       "      <td>first_careunit_SICU</td>\n",
       "      <td>0.001801</td>\n",
       "    </tr>\n",
       "    <tr>\n",
       "      <th>35</th>\n",
       "      <td>mental</td>\n",
       "      <td>0.001719</td>\n",
       "    </tr>\n",
       "    <tr>\n",
       "      <th>0</th>\n",
       "      <td>prior_ICU_hours</td>\n",
       "      <td>0.001596</td>\n",
       "    </tr>\n",
       "    <tr>\n",
       "      <th>37</th>\n",
       "      <td>muscular</td>\n",
       "      <td>0.001187</td>\n",
       "    </tr>\n",
       "    <tr>\n",
       "      <th>6</th>\n",
       "      <td>ethnicity_BLACK/AFRICAN AMERICAN</td>\n",
       "      <td>0.001146</td>\n",
       "    </tr>\n",
       "    <tr>\n",
       "      <th>24</th>\n",
       "      <td>gender_F</td>\n",
       "      <td>0.001146</td>\n",
       "    </tr>\n",
       "    <tr>\n",
       "      <th>9</th>\n",
       "      <td>language_bin_0</td>\n",
       "      <td>0.001146</td>\n",
       "    </tr>\n",
       "    <tr>\n",
       "      <th>42</th>\n",
       "      <td>respiratory</td>\n",
       "      <td>0.001064</td>\n",
       "    </tr>\n",
       "    <tr>\n",
       "      <th>39</th>\n",
       "      <td>nervous</td>\n",
       "      <td>0.001023</td>\n",
       "    </tr>\n",
       "    <tr>\n",
       "      <th>17</th>\n",
       "      <td>first_careunit_CSRU</td>\n",
       "      <td>0.001023</td>\n",
       "    </tr>\n",
       "    <tr>\n",
       "      <th>20</th>\n",
       "      <td>insurance_Medicaid</td>\n",
       "      <td>0.000982</td>\n",
       "    </tr>\n",
       "    <tr>\n",
       "      <th>26</th>\n",
       "      <td>blood</td>\n",
       "      <td>0.000982</td>\n",
       "    </tr>\n",
       "    <tr>\n",
       "      <th>1</th>\n",
       "      <td>age_years</td>\n",
       "      <td>0.000941</td>\n",
       "    </tr>\n",
       "    <tr>\n",
       "      <th>40</th>\n",
       "      <td>perinatal</td>\n",
       "      <td>0.000900</td>\n",
       "    </tr>\n",
       "    <tr>\n",
       "      <th>4</th>\n",
       "      <td>religion_2_1</td>\n",
       "      <td>0.000818</td>\n",
       "    </tr>\n",
       "    <tr>\n",
       "      <th>13</th>\n",
       "      <td>admission_location_EMERGENCY ROOM ADMIT</td>\n",
       "      <td>0.000778</td>\n",
       "    </tr>\n",
       "    <tr>\n",
       "      <th>28</th>\n",
       "      <td>congenital</td>\n",
       "      <td>0.000737</td>\n",
       "    </tr>\n",
       "    <tr>\n",
       "      <th>32</th>\n",
       "      <td>genitourinary</td>\n",
       "      <td>0.000737</td>\n",
       "    </tr>\n",
       "    <tr>\n",
       "      <th>14</th>\n",
       "      <td>admission_location_PHYS REFERRAL/NORMAL DELI</td>\n",
       "      <td>0.000614</td>\n",
       "    </tr>\n",
       "    <tr>\n",
       "      <th>30</th>\n",
       "      <td>endocrine</td>\n",
       "      <td>0.000532</td>\n",
       "    </tr>\n",
       "    <tr>\n",
       "      <th>12</th>\n",
       "      <td>admission_location_CLINIC REFERRAL/PREMATURE</td>\n",
       "      <td>0.000532</td>\n",
       "    </tr>\n",
       "    <tr>\n",
       "      <th>25</th>\n",
       "      <td>No diagnosis</td>\n",
       "      <td>0.000532</td>\n",
       "    </tr>\n",
       "    <tr>\n",
       "      <th>41</th>\n",
       "      <td>pregnancy</td>\n",
       "      <td>0.000491</td>\n",
       "    </tr>\n",
       "    <tr>\n",
       "      <th>23</th>\n",
       "      <td>insurance_Self Pay</td>\n",
       "      <td>0.000491</td>\n",
       "    </tr>\n",
       "    <tr>\n",
       "      <th>18</th>\n",
       "      <td>first_careunit_MICU</td>\n",
       "      <td>0.000450</td>\n",
       "    </tr>\n",
       "    <tr>\n",
       "      <th>8</th>\n",
       "      <td>ethnicity_WHITE</td>\n",
       "      <td>0.000450</td>\n",
       "    </tr>\n",
       "    <tr>\n",
       "      <th>27</th>\n",
       "      <td>circulatory</td>\n",
       "      <td>0.000450</td>\n",
       "    </tr>\n",
       "    <tr>\n",
       "      <th>22</th>\n",
       "      <td>insurance_Private</td>\n",
       "      <td>0.000368</td>\n",
       "    </tr>\n",
       "    <tr>\n",
       "      <th>15</th>\n",
       "      <td>admission_location_TRANSFER FROM HOSP/EXTRAM</td>\n",
       "      <td>0.000286</td>\n",
       "    </tr>\n",
       "    <tr>\n",
       "      <th>11</th>\n",
       "      <td>admission_type_URGENT</td>\n",
       "      <td>0.000286</td>\n",
       "    </tr>\n",
       "    <tr>\n",
       "      <th>44</th>\n",
       "      <td>special considerations</td>\n",
       "      <td>0.000246</td>\n",
       "    </tr>\n",
       "    <tr>\n",
       "      <th>7</th>\n",
       "      <td>ethnicity_HISPANIC/LATINO</td>\n",
       "      <td>0.000246</td>\n",
       "    </tr>\n",
       "    <tr>\n",
       "      <th>5</th>\n",
       "      <td>ethnicity_ASIAN</td>\n",
       "      <td>0.000205</td>\n",
       "    </tr>\n",
       "    <tr>\n",
       "      <th>21</th>\n",
       "      <td>insurance_Medicare</td>\n",
       "      <td>0.000164</td>\n",
       "    </tr>\n",
       "    <tr>\n",
       "      <th>16</th>\n",
       "      <td>first_careunit_CCU</td>\n",
       "      <td>0.000082</td>\n",
       "    </tr>\n",
       "    <tr>\n",
       "      <th>10</th>\n",
       "      <td>admission_type_EMERGENCY</td>\n",
       "      <td>0.000082</td>\n",
       "    </tr>\n",
       "    <tr>\n",
       "      <th>2</th>\n",
       "      <td>marital_status_bin_MARRIED</td>\n",
       "      <td>0.000041</td>\n",
       "    </tr>\n",
       "    <tr>\n",
       "      <th>3</th>\n",
       "      <td>marital_status_bin_SINGLE</td>\n",
       "      <td>0.000000</td>\n",
       "    </tr>\n",
       "  </tbody>\n",
       "</table>\n",
       "</div>"
      ],
      "text/plain": [
       "                                         Feature  Absolute Importance\n",
       "34                          injury and poisoning             0.008103\n",
       "33                                    infectious             0.004870\n",
       "31                               external injury             0.004584\n",
       "36                                          misc             0.002496\n",
       "43                                          skin             0.002169\n",
       "38                                     neoplasms             0.001964\n",
       "29                                     digestive             0.001883\n",
       "19                           first_careunit_SICU             0.001801\n",
       "35                                        mental             0.001719\n",
       "0                                prior_ICU_hours             0.001596\n",
       "37                                      muscular             0.001187\n",
       "6               ethnicity_BLACK/AFRICAN AMERICAN             0.001146\n",
       "24                                      gender_F             0.001146\n",
       "9                                 language_bin_0             0.001146\n",
       "42                                   respiratory             0.001064\n",
       "39                                       nervous             0.001023\n",
       "17                           first_careunit_CSRU             0.001023\n",
       "20                            insurance_Medicaid             0.000982\n",
       "26                                         blood             0.000982\n",
       "1                                      age_years             0.000941\n",
       "40                                     perinatal             0.000900\n",
       "4                                   religion_2_1             0.000818\n",
       "13       admission_location_EMERGENCY ROOM ADMIT             0.000778\n",
       "28                                    congenital             0.000737\n",
       "32                                 genitourinary             0.000737\n",
       "14  admission_location_PHYS REFERRAL/NORMAL DELI             0.000614\n",
       "30                                     endocrine             0.000532\n",
       "12  admission_location_CLINIC REFERRAL/PREMATURE             0.000532\n",
       "25                                  No diagnosis             0.000532\n",
       "41                                     pregnancy             0.000491\n",
       "23                            insurance_Self Pay             0.000491\n",
       "18                           first_careunit_MICU             0.000450\n",
       "8                                ethnicity_WHITE             0.000450\n",
       "27                                   circulatory             0.000450\n",
       "22                             insurance_Private             0.000368\n",
       "15  admission_location_TRANSFER FROM HOSP/EXTRAM             0.000286\n",
       "11                         admission_type_URGENT             0.000286\n",
       "44                        special considerations             0.000246\n",
       "7                      ethnicity_HISPANIC/LATINO             0.000246\n",
       "5                                ethnicity_ASIAN             0.000205\n",
       "21                            insurance_Medicare             0.000164\n",
       "16                            first_careunit_CCU             0.000082\n",
       "10                      admission_type_EMERGENCY             0.000082\n",
       "2                     marital_status_bin_MARRIED             0.000041\n",
       "3                      marital_status_bin_SINGLE             0.000000"
      ]
     },
     "execution_count": 44,
     "metadata": {},
     "output_type": "execute_result"
    },
    {
     "data": {
      "image/png": "[encoded data removed]",
      "text/plain": [
       "<Figure size 648x216 with 1 Axes>"
      ]
     },
     "metadata": {
      "needs_background": "light"
     },
     "output_type": "display_data"
    }
   ],
   "source": [
    "dropcol_importances(rf_model,X_train,y_train)"
   ]
  },
  {
   "cell_type": "code",
   "execution_count": 47,
   "metadata": {},
   "outputs": [
    {
     "name": "stdout",
     "output_type": "stream",
     "text": [
      "<class 'pandas.core.frame.DataFrame'>\n",
      "Int64Index: 45 entries, 34 to 3\n",
      "Data columns (total 2 columns):\n",
      "Feature                45 non-null object\n",
      "Absolute Importance    45 non-null float64\n",
      "dtypes: float64(1), object(1)\n",
      "memory usage: 1.1+ KB\n"
     ]
    }
   ],
   "source": [
    "with open('I5_df.pickle','rb') as to_read:\n",
    "    I5 = pickle.load(to_read)\n",
    "I5.info()"
   ]
  },
  {
   "cell_type": "code",
   "execution_count": 48,
   "metadata": {},
   "outputs": [
    {
     "data": {
      "text/html": [
       "<div>\n",
       "<style scoped>\n",
       "    .dataframe tbody tr th:only-of-type {\n",
       "        vertical-align: middle;\n",
       "    }\n",
       "\n",
       "    .dataframe tbody tr th {\n",
       "        vertical-align: top;\n",
       "    }\n",
       "\n",
       "    .dataframe thead th {\n",
       "        text-align: right;\n",
       "    }\n",
       "</style>\n",
       "<table border=\"1\" class=\"dataframe\">\n",
       "  <thead>\n",
       "    <tr style=\"text-align: right;\">\n",
       "      <th></th>\n",
       "      <th>Feature</th>\n",
       "      <th>Absolute Importance</th>\n",
       "    </tr>\n",
       "  </thead>\n",
       "  <tbody>\n",
       "    <tr>\n",
       "      <th>34</th>\n",
       "      <td>injury and poisoning</td>\n",
       "      <td>0.008103</td>\n",
       "    </tr>\n",
       "    <tr>\n",
       "      <th>33</th>\n",
       "      <td>infectious</td>\n",
       "      <td>0.004870</td>\n",
       "    </tr>\n",
       "    <tr>\n",
       "      <th>31</th>\n",
       "      <td>external injury</td>\n",
       "      <td>0.004584</td>\n",
       "    </tr>\n",
       "    <tr>\n",
       "      <th>36</th>\n",
       "      <td>misc</td>\n",
       "      <td>0.002496</td>\n",
       "    </tr>\n",
       "    <tr>\n",
       "      <th>43</th>\n",
       "      <td>skin</td>\n",
       "      <td>0.002169</td>\n",
       "    </tr>\n",
       "    <tr>\n",
       "      <th>38</th>\n",
       "      <td>neoplasms</td>\n",
       "      <td>0.001964</td>\n",
       "    </tr>\n",
       "  </tbody>\n",
       "</table>\n",
       "</div>"
      ],
      "text/plain": [
       "                 Feature  Absolute Importance\n",
       "34  injury and poisoning             0.008103\n",
       "33            infectious             0.004870\n",
       "31       external injury             0.004584\n",
       "36                  misc             0.002496\n",
       "43                  skin             0.002169\n",
       "38             neoplasms             0.001964"
      ]
     },
     "execution_count": 48,
     "metadata": {},
     "output_type": "execute_result"
    }
   ],
   "source": [
    "I5.head(6)"
   ]
  },
  {
   "cell_type": "code",
   "execution_count": 49,
   "metadata": {
    "collapsed": true
   },
   "outputs": [
    {
     "data": {
      "text/plain": [
       "['darkblue',\n",
       " 'darkblue',\n",
       " 'darkblue',\n",
       " 'lightgray',\n",
       " 'lightgray',\n",
       " 'lightgray',\n",
       " 'lightgray',\n",
       " 'lightgray',\n",
       " 'lightgray',\n",
       " 'lightgray',\n",
       " 'lightgray',\n",
       " 'lightgray',\n",
       " 'lightgray',\n",
       " 'lightgray',\n",
       " 'lightgray',\n",
       " 'lightgray',\n",
       " 'lightgray',\n",
       " 'lightgray',\n",
       " 'lightgray',\n",
       " 'lightgray',\n",
       " 'lightgray',\n",
       " 'lightgray',\n",
       " 'lightgray',\n",
       " 'lightgray',\n",
       " 'lightgray',\n",
       " 'lightgray',\n",
       " 'lightgray',\n",
       " 'lightgray',\n",
       " 'lightgray',\n",
       " 'lightgray',\n",
       " 'lightgray',\n",
       " 'lightgray',\n",
       " 'lightgray',\n",
       " 'lightgray',\n",
       " 'lightgray',\n",
       " 'lightgray',\n",
       " 'lightgray',\n",
       " 'lightgray',\n",
       " 'lightgray',\n",
       " 'lightgray',\n",
       " 'lightgray',\n",
       " 'lightgray',\n",
       " 'lightgray',\n",
       " 'lightgray',\n",
       " 'lightgray']"
      ]
     },
     "execution_count": 49,
     "metadata": {},
     "output_type": "execute_result"
    }
   ],
   "source": [
    "clrs = ['darkblue' if x > 0.004 else 'lightgray' for x in I4['Absolute Importance']]\n",
    "clrs"
   ]
  },
  {
   "cell_type": "code",
   "execution_count": 50,
   "metadata": {},
   "outputs": [
    {
     "data": {
      "image/png": "[encoded data removed]",
      "text/plain": [
       "<Figure size 864x288 with 1 Axes>"
      ]
     },
     "metadata": {},
     "output_type": "display_data"
    }
   ],
   "source": [
    "sns.set_context('talk')\n",
    "\n",
    "plt.figure(figsize=(12,4))\n",
    "clrs = ['darkblue' if x > .003 else 'lightgray' for x in I4['Absolute Importance']]\n",
    "sns.barplot(x='Feature',y='Absolute Importance',data=I4,palette=clrs)\n",
    "plt.title(\"\\n\" + \"Relative Absolute Importance\" + \"\\n\")\n",
    "plt.xlabel(' ')\n",
    "plt.ylabel(' ')\n",
    "plt.tick_params(left=False,bottom=False,top=False,labelbottom=False, labelleft=False)\n",
    "plt.savefig('Absolute_Importance_grayBlue.jpeg', dpi=300,transparent=True)\n"
   ]
  },
  {
   "cell_type": "code",
   "execution_count": null,
   "metadata": {},
   "outputs": [],
   "source": []
  }
 ],
 "metadata": {
  "kernelspec": {
   "display_name": "Python 3",
   "language": "python",
   "name": "python3"
  },
  "language_info": {
   "codemirror_mode": {
    "name": "ipython",
    "version": 3
   },
   "file_extension": ".py",
   "mimetype": "text/x-python",
   "name": "python",
   "nbconvert_exporter": "python",
   "pygments_lexer": "ipython3",
   "version": "3.6.8"
  }
 },
 "nbformat": 4,
 "nbformat_minor": 2
}
