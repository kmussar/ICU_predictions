{
 "cells": [
  {
   "cell_type": "code",
   "execution_count": 1,
   "metadata": {},
   "outputs": [],
   "source": [
    "# Import libraries\n",
    "import numpy as np\n",
    "import pandas as pd\n",
    "import matplotlib.pyplot as plt\n",
    "import seaborn as sns\n",
    "import pickle\n",
    "import regex\n",
    "\n",
    "# below imports are used to print out pretty pandas dataframes\n",
    "from IPython.display import display, HTML\n",
    "%matplotlib inline"
   ]
  },
  {
   "cell_type": "code",
   "execution_count": 2,
   "metadata": {},
   "outputs": [],
   "source": [
    "# extra imports\n",
    "sns.set_context('poster')"
   ]
  },
  {
   "cell_type": "markdown",
   "metadata": {},
   "source": [
    " #### Load Pickle"
   ]
  },
  {
   "cell_type": "code",
   "execution_count": 3,
   "metadata": {
    "scrolled": true
   },
   "outputs": [
    {
     "name": "stdout",
     "output_type": "stream",
     "text": [
      "<class 'pandas.core.frame.DataFrame'>\n",
      "RangeIndex: 62766 entries, 0 to 62765\n",
      "Data columns (total 33 columns):\n",
      "subject_id              61532 non-null float64\n",
      "hadm_id                 61532 non-null float64\n",
      "icustay_id              61532 non-null float64\n",
      "dbsource                61532 non-null object\n",
      "first_careunit          61532 non-null object\n",
      "last_careunit           61532 non-null object\n",
      "first_wardid            61532 non-null float64\n",
      "last_wardid             61532 non-null float64\n",
      "intime                  61532 non-null datetime64[ns]\n",
      "outtime                 61522 non-null datetime64[ns]\n",
      "los                     61522 non-null float64\n",
      "admittime               62722 non-null datetime64[ns]\n",
      "dischtime               62722 non-null datetime64[ns]\n",
      "deathtime               6650 non-null datetime64[ns]\n",
      "admission_type          62722 non-null object\n",
      "admission_location      62722 non-null object\n",
      "discharge_location      62722 non-null object\n",
      "insurance               62722 non-null object\n",
      "language                36032 non-null object\n",
      "religion                62240 non-null object\n",
      "marital_status          52344 non-null object\n",
      "ethnicity               62722 non-null object\n",
      "edregtime               33011 non-null datetime64[ns]\n",
      "edouttime               33011 non-null datetime64[ns]\n",
      "diagnosis               62697 non-null object\n",
      "hospital_expire_flag    62722 non-null float64\n",
      "has_chartevents_data    62722 non-null float64\n",
      "gender                  61576 non-null object\n",
      "dob                     61576 non-null datetime64[ns]\n",
      "dod                     24213 non-null datetime64[ns]\n",
      "dod_hosp                16229 non-null datetime64[ns]\n",
      "dod_ssn                 20473 non-null datetime64[ns]\n",
      "expire_flag             61576 non-null float64\n",
      "dtypes: datetime64[ns](11), float64(9), object(13)\n",
      "memory usage: 15.8+ MB\n"
     ]
    }
   ],
   "source": [
    "with open('pia_df.pickle', 'rb') as read_file:\n",
    "    df = pickle.load(read_file)\n",
    "df.info()"
   ]
  },
  {
   "cell_type": "markdown",
   "metadata": {},
   "source": [
    "**Some notes on this table:** \n",
    "\n",
    "* icustay_id is unique to this table\n",
    "\n",
    "* There are more stays than there are patients - 78.8% of the visits are single visits. \n",
    "\n",
    "*  hadm_id is not unique for this table -- so some people came in and out of the ICU (57786/61532 = 93.9% unique visits)\n",
    "\n",
    "* There are 3 db sources: \n",
    "    \n",
    "        carevue       37776\n",
    "        metavision    23620\n",
    "        both            136\n",
    "\n",
    "* 6 first careunits & same last careunits: \n",
    "    \n",
    "        CareUnit first    last\n",
    "        MICU     21088    21310\n",
    "        CSRU      9312    9392\n",
    "        SICU      8891    9213\n",
    "        NICU      8100    8100\n",
    "        CCU       7726    7406\n",
    "        TSICU     6415    6111\n",
    "    -- how many people switched? And where did they switch to? \n",
    "    \n",
    "    -- Perhaps features: switch yes/no - switch to X, switch to Y .. etc\n",
    "    \n",
    "    \n",
    "* first ward_id - 16 of them\n",
    "* last_ward_id - 17 of them --- ids are #'s -- reference another table \n",
    "        \n",
    "* 61531 unique intimes & 61518 unique outimes\n",
    "* 40175 unique los - Length of stay (measured in fractional days)\n"
   ]
  },
  {
   "cell_type": "markdown",
   "metadata": {},
   "source": [
    "### Cleaning to run an MVP Model "
   ]
  },
  {
   "cell_type": "code",
   "execution_count": 4,
   "metadata": {},
   "outputs": [
    {
     "data": {
      "text/plain": [
       "Index(['subject_id', 'hadm_id', 'icustay_id', 'dbsource', 'first_careunit',\n",
       "       'last_careunit', 'first_wardid', 'last_wardid', 'intime', 'outtime',\n",
       "       'los', 'admittime', 'dischtime', 'deathtime', 'admission_type',\n",
       "       'admission_location', 'discharge_location', 'insurance', 'language',\n",
       "       'religion', 'marital_status', 'ethnicity', 'edregtime', 'edouttime',\n",
       "       'diagnosis', 'hospital_expire_flag', 'has_chartevents_data', 'gender',\n",
       "       'dob', 'dod', 'dod_hosp', 'dod_ssn', 'expire_flag'],\n",
       "      dtype='object')"
      ]
     },
     "execution_count": 4,
     "metadata": {},
     "output_type": "execute_result"
    }
   ],
   "source": [
    "df.columns"
   ]
  },
  {
   "cell_type": "code",
   "execution_count": 5,
   "metadata": {},
   "outputs": [
    {
     "name": "stdout",
     "output_type": "stream",
     "text": [
      "<class 'pandas.core.frame.DataFrame'>\n",
      "Int64Index: 54666 entries, 0 to 62765\n",
      "Data columns (total 33 columns):\n",
      "subject_id              53432 non-null float64\n",
      "hadm_id                 53432 non-null float64\n",
      "icustay_id              53432 non-null float64\n",
      "dbsource                53432 non-null object\n",
      "first_careunit          53432 non-null object\n",
      "last_careunit           53432 non-null object\n",
      "first_wardid            53432 non-null float64\n",
      "last_wardid             53432 non-null float64\n",
      "intime                  53432 non-null datetime64[ns]\n",
      "outtime                 53429 non-null datetime64[ns]\n",
      "los                     53429 non-null float64\n",
      "admittime               54622 non-null datetime64[ns]\n",
      "dischtime               54622 non-null datetime64[ns]\n",
      "deathtime               6586 non-null datetime64[ns]\n",
      "admission_type          54622 non-null object\n",
      "admission_location      54622 non-null object\n",
      "discharge_location      54622 non-null object\n",
      "insurance               54622 non-null object\n",
      "language                35716 non-null object\n",
      "religion                54149 non-null object\n",
      "marital_status          52001 non-null object\n",
      "ethnicity               54622 non-null object\n",
      "edregtime               33011 non-null datetime64[ns]\n",
      "edouttime               33011 non-null datetime64[ns]\n",
      "diagnosis               54597 non-null object\n",
      "hospital_expire_flag    54622 non-null float64\n",
      "has_chartevents_data    54622 non-null float64\n",
      "gender                  53476 non-null object\n",
      "dob                     53476 non-null datetime64[ns]\n",
      "dod                     24146 non-null datetime64[ns]\n",
      "dod_hosp                16164 non-null datetime64[ns]\n",
      "dod_ssn                 20470 non-null datetime64[ns]\n",
      "expire_flag             53476 non-null float64\n",
      "dtypes: datetime64[ns](11), float64(9), object(13)\n",
      "memory usage: 14.2+ MB\n"
     ]
    }
   ],
   "source": [
    "# REMOVE NICU\n",
    "\n",
    "df = df[df.first_careunit != 'NICU']\n",
    "df = df[df.last_careunit != 'NICU']\n",
    "df.info()"
   ]
  },
  {
   "cell_type": "code",
   "execution_count": 6,
   "metadata": {},
   "outputs": [],
   "source": [
    "# Create new column - time prior to being admitted to ICU\n",
    "# admittime - intime\n",
    "df['time_before_ICU'] = df.intime - df.admittime"
   ]
  },
  {
   "cell_type": "code",
   "execution_count": 7,
   "metadata": {},
   "outputs": [
    {
     "data": {
      "text/plain": [
       "0     7 days 03:02:12\n",
       "1     0 days 02:48:04\n",
       "2     0 days 00:01:14\n",
       "3     0 days 00:01:37\n",
       "4   -1 days +23:49:32\n",
       "Name: time_before_ICU, dtype: timedelta64[ns]"
      ]
     },
     "execution_count": 7,
     "metadata": {},
     "output_type": "execute_result"
    }
   ],
   "source": [
    "df.time_before_ICU.head()"
   ]
  },
  {
   "cell_type": "code",
   "execution_count": 8,
   "metadata": {},
   "outputs": [
    {
     "data": {
      "text/plain": [
       "0    1710.4\n",
       "1      28.0\n",
       "2       0.2\n",
       "3       0.3\n",
       "4      -1.7\n",
       "Name: prior_ICU_hours, dtype: float64"
      ]
     },
     "execution_count": 8,
     "metadata": {},
     "output_type": "execute_result"
    }
   ],
   "source": [
    "df['prior_ICU_hours'] = df.time_before_ICU.apply(lambda x: round((((x.days)*24*60*60)+x.seconds)/360,1))\n",
    "df.prior_ICU_hours.head()"
   ]
  },
  {
   "cell_type": "code",
   "execution_count": 9,
   "metadata": {},
   "outputs": [
    {
     "data": {
      "text/plain": [
       "0   06:47:00\n",
       "1        NaT\n",
       "2   05:01:00\n",
       "3   04:47:00\n",
       "4        NaT\n",
       "Name: ER_time, dtype: timedelta64[ns]"
      ]
     },
     "execution_count": 9,
     "metadata": {},
     "output_type": "execute_result"
    }
   ],
   "source": [
    "# Create new column - time spent in emergency department\n",
    "df['ER_time'] = df.edouttime - df.edregtime\n",
    "df.ER_time.head()"
   ]
  },
  {
   "cell_type": "code",
   "execution_count": 10,
   "metadata": {},
   "outputs": [
    {
     "data": {
      "text/html": [
       "<div>\n",
       "<style scoped>\n",
       "    .dataframe tbody tr th:only-of-type {\n",
       "        vertical-align: middle;\n",
       "    }\n",
       "\n",
       "    .dataframe tbody tr th {\n",
       "        vertical-align: top;\n",
       "    }\n",
       "\n",
       "    .dataframe thead th {\n",
       "        text-align: right;\n",
       "    }\n",
       "</style>\n",
       "<table border=\"1\" class=\"dataframe\">\n",
       "  <thead>\n",
       "    <tr style=\"text-align: right;\">\n",
       "      <th></th>\n",
       "      <th>los</th>\n",
       "      <th>ER_time</th>\n",
       "    </tr>\n",
       "  </thead>\n",
       "  <tbody>\n",
       "    <tr>\n",
       "      <th>0</th>\n",
       "      <td>3.0786</td>\n",
       "      <td>06:47:00</td>\n",
       "    </tr>\n",
       "    <tr>\n",
       "      <th>1</th>\n",
       "      <td>5.8884</td>\n",
       "      <td>NaT</td>\n",
       "    </tr>\n",
       "    <tr>\n",
       "      <th>2</th>\n",
       "      <td>1.3194</td>\n",
       "      <td>05:01:00</td>\n",
       "    </tr>\n",
       "    <tr>\n",
       "      <th>3</th>\n",
       "      <td>1.2914</td>\n",
       "      <td>04:47:00</td>\n",
       "    </tr>\n",
       "    <tr>\n",
       "      <th>4</th>\n",
       "      <td>2.1549</td>\n",
       "      <td>NaT</td>\n",
       "    </tr>\n",
       "  </tbody>\n",
       "</table>\n",
       "</div>"
      ],
      "text/plain": [
       "      los  ER_time\n",
       "0  3.0786 06:47:00\n",
       "1  5.8884      NaT\n",
       "2  1.3194 05:01:00\n",
       "3  1.2914 04:47:00\n",
       "4  2.1549      NaT"
      ]
     },
     "execution_count": 10,
     "metadata": {},
     "output_type": "execute_result"
    }
   ],
   "source": [
    "df[['los','ER_time']].head()"
   ]
  },
  {
   "cell_type": "code",
   "execution_count": 11,
   "metadata": {},
   "outputs": [
    {
     "name": "stdout",
     "output_type": "stream",
     "text": [
      "2 days 22:28:00\n",
      "80880\n"
     ]
    }
   ],
   "source": [
    "print(df.ER_time[48287])\n",
    "print(df.ER_time[48287].seconds)\n"
   ]
  },
  {
   "cell_type": "code",
   "execution_count": 12,
   "metadata": {},
   "outputs": [],
   "source": [
    "df['ER_hours'] = df.ER_time.apply(lambda x: round((((x.days)*24*60*60)+x.seconds)/360,1))"
   ]
  },
  {
   "cell_type": "code",
   "execution_count": 13,
   "metadata": {},
   "outputs": [
    {
     "data": {
      "text/plain": [
       "0   22298 days 16:04:00\n",
       "1   17639 days 17:02:00\n",
       "2   19749 days 11:27:00\n",
       "3   15831 days 10:02:00\n",
       "4   17369 days 10:45:00\n",
       "Name: age_timedelta, dtype: timedelta64[ns]"
      ]
     },
     "execution_count": 13,
     "metadata": {},
     "output_type": "execute_result"
    }
   ],
   "source": [
    "# AGE\n",
    "df['age_timedelta'] = df.admittime - df.dob\n",
    "df.age_timedelta.head()"
   ]
  },
  {
   "cell_type": "code",
   "execution_count": 14,
   "metadata": {},
   "outputs": [],
   "source": [
    "# Dropped columns without hadm id\n",
    "df = df[df.hadm_id.isnull() == False]"
   ]
  },
  {
   "cell_type": "code",
   "execution_count": 15,
   "metadata": {},
   "outputs": [
    {
     "data": {
      "text/html": [
       "<div>\n",
       "<style scoped>\n",
       "    .dataframe tbody tr th:only-of-type {\n",
       "        vertical-align: middle;\n",
       "    }\n",
       "\n",
       "    .dataframe tbody tr th {\n",
       "        vertical-align: top;\n",
       "    }\n",
       "\n",
       "    .dataframe thead th {\n",
       "        text-align: right;\n",
       "    }\n",
       "</style>\n",
       "<table border=\"1\" class=\"dataframe\">\n",
       "  <thead>\n",
       "    <tr style=\"text-align: right;\">\n",
       "      <th></th>\n",
       "      <th>subject_id</th>\n",
       "      <th>hadm_id</th>\n",
       "      <th>icustay_id</th>\n",
       "      <th>dbsource</th>\n",
       "      <th>first_careunit</th>\n",
       "      <th>last_careunit</th>\n",
       "      <th>first_wardid</th>\n",
       "      <th>last_wardid</th>\n",
       "      <th>intime</th>\n",
       "      <th>outtime</th>\n",
       "      <th>...</th>\n",
       "      <th>dob</th>\n",
       "      <th>dod</th>\n",
       "      <th>dod_hosp</th>\n",
       "      <th>dod_ssn</th>\n",
       "      <th>expire_flag</th>\n",
       "      <th>time_before_ICU</th>\n",
       "      <th>prior_ICU_hours</th>\n",
       "      <th>ER_time</th>\n",
       "      <th>ER_hours</th>\n",
       "      <th>age_timedelta</th>\n",
       "    </tr>\n",
       "  </thead>\n",
       "  <tbody>\n",
       "  </tbody>\n",
       "</table>\n",
       "<p>0 rows × 38 columns</p>\n",
       "</div>"
      ],
      "text/plain": [
       "Empty DataFrame\n",
       "Columns: [subject_id, hadm_id, icustay_id, dbsource, first_careunit, last_careunit, first_wardid, last_wardid, intime, outtime, los, admittime, dischtime, deathtime, admission_type, admission_location, discharge_location, insurance, language, religion, marital_status, ethnicity, edregtime, edouttime, diagnosis, hospital_expire_flag, has_chartevents_data, gender, dob, dod, dod_hosp, dod_ssn, expire_flag, time_before_ICU, prior_ICU_hours, ER_time, ER_hours, age_timedelta]\n",
       "Index: []\n",
       "\n",
       "[0 rows x 38 columns]"
      ]
     },
     "execution_count": 15,
     "metadata": {},
     "output_type": "execute_result"
    }
   ],
   "source": [
    "df[df.age_timedelta.isnull()]"
   ]
  },
  {
   "cell_type": "code",
   "execution_count": 16,
   "metadata": {},
   "outputs": [
    {
     "data": {
      "text/plain": [
       "0    61\n",
       "1    48\n",
       "2    54\n",
       "3    43\n",
       "4    48\n",
       "Name: age_years, dtype: int64"
      ]
     },
     "execution_count": 16,
     "metadata": {},
     "output_type": "execute_result"
    }
   ],
   "source": [
    "# convert timedelta objects to floats\n",
    "#round(df.age[0].days/365)\n",
    "df['age_years'] = df.age_timedelta.map(lambda x: round(x.days/365))\n",
    "df['age_years'].head()"
   ]
  },
  {
   "cell_type": "code",
   "execution_count": 17,
   "metadata": {},
   "outputs": [
    {
     "data": {
      "text/plain": [
       "MARRIED              25472\n",
       "SINGLE               13560\n",
       "WIDOWED               7545\n",
       "DIVORCED              3385\n",
       "SEPARATED              600\n",
       "UNKNOWN (DEFAULT)      371\n",
       "LIFE PARTNER            16\n",
       "Name: marital_status, dtype: int64"
      ]
     },
     "execution_count": 17,
     "metadata": {},
     "output_type": "execute_result"
    }
   ],
   "source": [
    "df.marital_status.value_counts()"
   ]
  },
  {
   "cell_type": "code",
   "execution_count": 18,
   "metadata": {},
   "outputs": [],
   "source": [
    "df['marital_status_bin'] = df.marital_status"
   ]
  },
  {
   "cell_type": "code",
   "execution_count": 19,
   "metadata": {},
   "outputs": [
    {
     "name": "stderr",
     "output_type": "stream",
     "text": [
      "C:\\Users\\kmuss\\Anaconda3\\lib\\site-packages\\ipykernel_launcher.py:1: SettingWithCopyWarning: \n",
      "A value is trying to be set on a copy of a slice from a DataFrame\n",
      "\n",
      "See the caveats in the documentation: http://pandas.pydata.org/pandas-docs/stable/indexing.html#indexing-view-versus-copy\n",
      "  \"\"\"Entry point for launching an IPython kernel.\n"
     ]
    },
    {
     "data": {
      "text/plain": [
       "MARRIED              25488\n",
       "SINGLE               13560\n",
       "WIDOWED               7545\n",
       "DIVORCED              3385\n",
       "SEPARATED              600\n",
       "UNKNOWN (DEFAULT)      371\n",
       "Name: marital_status_bin, dtype: int64"
      ]
     },
     "execution_count": 19,
     "metadata": {},
     "output_type": "execute_result"
    }
   ],
   "source": [
    "df['marital_status_bin'][df.marital_status_bin == 'LIFE PARTNER'] = 'MARRIED'\n",
    "df['marital_status_bin'].value_counts()"
   ]
  },
  {
   "cell_type": "code",
   "execution_count": 20,
   "metadata": {},
   "outputs": [
    {
     "name": "stderr",
     "output_type": "stream",
     "text": [
      "C:\\Users\\kmuss\\Anaconda3\\lib\\site-packages\\ipykernel_launcher.py:1: SettingWithCopyWarning: \n",
      "A value is trying to be set on a copy of a slice from a DataFrame\n",
      "\n",
      "See the caveats in the documentation: http://pandas.pydata.org/pandas-docs/stable/indexing.html#indexing-view-versus-copy\n",
      "  \"\"\"Entry point for launching an IPython kernel.\n",
      "C:\\Users\\kmuss\\Anaconda3\\lib\\site-packages\\ipykernel_launcher.py:2: SettingWithCopyWarning: \n",
      "A value is trying to be set on a copy of a slice from a DataFrame\n",
      "\n",
      "See the caveats in the documentation: http://pandas.pydata.org/pandas-docs/stable/indexing.html#indexing-view-versus-copy\n",
      "  \n",
      "C:\\Users\\kmuss\\Anaconda3\\lib\\site-packages\\ipykernel_launcher.py:3: SettingWithCopyWarning: \n",
      "A value is trying to be set on a copy of a slice from a DataFrame\n",
      "\n",
      "See the caveats in the documentation: http://pandas.pydata.org/pandas-docs/stable/indexing.html#indexing-view-versus-copy\n",
      "  This is separate from the ipykernel package so we can avoid doing imports until\n"
     ]
    },
    {
     "data": {
      "text/plain": [
       "MARRIED              25488\n",
       "SINGLE               25090\n",
       "UNKNOWN (DEFAULT)      371\n",
       "Name: marital_status_bin, dtype: int64"
      ]
     },
     "execution_count": 20,
     "metadata": {},
     "output_type": "execute_result"
    }
   ],
   "source": [
    "df['marital_status_bin'][df.marital_status_bin == 'WIDOWED'] = 'SINGLE'\n",
    "df['marital_status_bin'][df.marital_status_bin == 'DIVORCED'] = 'SINGLE'\n",
    "df['marital_status_bin'][df.marital_status_bin == 'SEPARATED'] = 'SINGLE'\n",
    "df['marital_status_bin'].value_counts()"
   ]
  },
  {
   "cell_type": "code",
   "execution_count": 21,
   "metadata": {
    "scrolled": true
   },
   "outputs": [
    {
     "data": {
      "text/plain": [
       "EMERGENCY ROOM ADMIT         24121\n",
       "CLINIC REFERRAL/PREMATURE    10631\n",
       "PHYS REFERRAL/NORMAL DELI     9171\n",
       "TRANSFER FROM HOSP/EXTRAM     9122\n",
       "TRANSFER FROM SKILLED NUR      290\n",
       "TRANSFER FROM OTHER HEALT       86\n",
       "TRSF WITHIN THIS FACILITY        5\n",
       "** INFO NOT AVAILABLE **         5\n",
       "HMO REFERRAL/SICK                1\n",
       "Name: admission_location, dtype: int64"
      ]
     },
     "execution_count": 21,
     "metadata": {},
     "output_type": "execute_result"
    }
   ],
   "source": [
    "df.admission_location.value_counts()"
   ]
  },
  {
   "cell_type": "code",
   "execution_count": 27,
   "metadata": {
    "collapsed": true
   },
   "outputs": [
    {
     "name": "stderr",
     "output_type": "stream",
     "text": [
      "C:\\Users\\kmuss\\Anaconda3\\lib\\site-packages\\ipykernel_launcher.py:3: SettingWithCopyWarning: \n",
      "A value is trying to be set on a copy of a slice from a DataFrame\n",
      "\n",
      "See the caveats in the documentation: http://pandas.pydata.org/pandas-docs/stable/indexing.html#indexing-view-versus-copy\n",
      "  This is separate from the ipykernel package so we can avoid doing imports until\n",
      "C:\\Users\\kmuss\\Anaconda3\\lib\\site-packages\\ipykernel_launcher.py:4: SettingWithCopyWarning: \n",
      "A value is trying to be set on a copy of a slice from a DataFrame\n",
      "\n",
      "See the caveats in the documentation: http://pandas.pydata.org/pandas-docs/stable/indexing.html#indexing-view-versus-copy\n",
      "  after removing the cwd from sys.path.\n",
      "C:\\Users\\kmuss\\Anaconda3\\lib\\site-packages\\ipykernel_launcher.py:5: SettingWithCopyWarning: \n",
      "A value is trying to be set on a copy of a slice from a DataFrame\n",
      "\n",
      "See the caveats in the documentation: http://pandas.pydata.org/pandas-docs/stable/indexing.html#indexing-view-versus-copy\n",
      "  \"\"\"\n",
      "C:\\Users\\kmuss\\Anaconda3\\lib\\site-packages\\ipykernel_launcher.py:6: SettingWithCopyWarning: \n",
      "A value is trying to be set on a copy of a slice from a DataFrame\n",
      "\n",
      "See the caveats in the documentation: http://pandas.pydata.org/pandas-docs/stable/indexing.html#indexing-view-versus-copy\n",
      "  \n",
      "C:\\Users\\kmuss\\Anaconda3\\lib\\site-packages\\ipykernel_launcher.py:7: SettingWithCopyWarning: \n",
      "A value is trying to be set on a copy of a slice from a DataFrame\n",
      "\n",
      "See the caveats in the documentation: http://pandas.pydata.org/pandas-docs/stable/indexing.html#indexing-view-versus-copy\n",
      "  import sys\n"
     ]
    },
    {
     "data": {
      "text/plain": [
       "EMERGENCY ROOM ADMIT         24121\n",
       "CLINIC REFERRAL/PREMATURE    10631\n",
       "PHYS REFERRAL/NORMAL DELI     9171\n",
       "TRANSFER FROM HOSP/EXTRAM     9122\n",
       "OTHER                          387\n",
       "Name: admission_location, dtype: int64"
      ]
     },
     "execution_count": 27,
     "metadata": {},
     "output_type": "execute_result"
    }
   ],
   "source": [
    "# BIN LAST 5 ENTRIES into OTHER\n",
    "\n",
    "df['admission_location'][df.admission_location.str.contains('TRANSFER FROM SKILLED NUR')] = 'OTHER'\n",
    "df['admission_location'][df.admission_location.str.contains('TRANSFER FROM OTHER HEALT')] = 'OTHER'\n",
    "df['admission_location'][df.admission_location == 'TRSF WITHIN THIS FACILITY'] = 'OTHER'\n",
    "df['admission_location'][df.admission_location == '** INFO NOT AVAILABLE **'] = 'OTHER'\n",
    "df['admission_location'][df.admission_location == 'HMO REFERRAL/SICK'] = 'OTHER'\n",
    "\n",
    "df.admission_location.value_counts()"
   ]
  },
  {
   "cell_type": "code",
   "execution_count": 39,
   "metadata": {
    "collapsed": true
   },
   "outputs": [
    {
     "data": {
      "text/plain": [
       "ENGL    30421\n",
       "SPAN     1126\n",
       "RUSS      837\n",
       "PTUN      637\n",
       "CANT      395\n",
       "PORT      347\n",
       "CAPE      233\n",
       "HAIT      154\n",
       "ITAL      132\n",
       "MAND      127\n",
       "VIET       87\n",
       "GREE       80\n",
       "ARAB       49\n",
       "PERS       47\n",
       "CAMB       46\n",
       "POLI       35\n",
       "AMER       34\n",
       "HIND       27\n",
       "KORE       24\n",
       "ALBA       18\n",
       "FREN       16\n",
       "SOMA       15\n",
       "THAI       14\n",
       "ETHI       12\n",
       "*ARM       11\n",
       "*YID        8\n",
       "*HUN        8\n",
       "*CHI        7\n",
       "LAOT        7\n",
       "*GUJ        7\n",
       "        ...  \n",
       "*CAN        2\n",
       "TURK        2\n",
       "* FU        2\n",
       "*TOI        2\n",
       "*FUL        2\n",
       "* BE        2\n",
       "*TOY        2\n",
       "*AMH        2\n",
       "BENG        2\n",
       "SERB        2\n",
       "**SH        2\n",
       "*LEB        2\n",
       "*YOR        1\n",
       "*DEA        1\n",
       "*RUS        1\n",
       "GERM        1\n",
       "*FIL        1\n",
       "*ROM        1\n",
       "*CRE        1\n",
       "*PER        1\n",
       "*PHI        1\n",
       "*BOS        1\n",
       "*LIT        1\n",
       "** T        1\n",
       "*ARA        1\n",
       "*PUN        1\n",
       "*FAR        1\n",
       "*TAM        1\n",
       "*SPA        1\n",
       "*NEP        1\n",
       "Name: language, Length: 75, dtype: int64"
      ]
     },
     "execution_count": 39,
     "metadata": {},
     "output_type": "execute_result"
    }
   ],
   "source": [
    "df.language.value_counts()"
   ]
  },
  {
   "cell_type": "code",
   "execution_count": 54,
   "metadata": {},
   "outputs": [
    {
     "data": {
      "text/plain": [
       "'ENGL'"
      ]
     },
     "execution_count": 54,
     "metadata": {},
     "output_type": "execute_result"
    }
   ],
   "source": [
    "df.language[0]"
   ]
  },
  {
   "cell_type": "code",
   "execution_count": 56,
   "metadata": {},
   "outputs": [
    {
     "data": {
      "text/plain": [
       "'ENGL'"
      ]
     },
     "execution_count": 56,
     "metadata": {},
     "output_type": "execute_result"
    }
   ],
   "source": [
    "df.language_bin[0]"
   ]
  },
  {
   "cell_type": "code",
   "execution_count": 52,
   "metadata": {},
   "outputs": [
    {
     "name": "stdout",
     "output_type": "stream",
     "text": [
      "yes\n"
     ]
    }
   ],
   "source": [
    "if \"ENGL\" in df.language[0]: \n",
    "    print('yes')\n",
    "    "
   ]
  },
  {
   "cell_type": "code",
   "execution_count": 57,
   "metadata": {},
   "outputs": [
    {
     "data": {
      "text/plain": [
       "18370"
      ]
     },
     "execution_count": 57,
     "metadata": {},
     "output_type": "execute_result"
    }
   ],
   "source": [
    "df.language_bin.isna().sum()"
   ]
  },
  {
   "cell_type": "code",
   "execution_count": 58,
   "metadata": {},
   "outputs": [],
   "source": [
    "# Assume empty columns speak English\n",
    "df.language_bin = df.language\n",
    "\n",
    "def speaks_english(x):\n",
    "    if x is None: \n",
    "        return 1\n",
    "    elif \"ENGL\" in x: \n",
    "        return 1\n",
    "    else: \n",
    "        return 0\n",
    "df['language_bin'] = df['language_bin'].apply(speaks_english)"
   ]
  },
  {
   "cell_type": "code",
   "execution_count": 59,
   "metadata": {},
   "outputs": [
    {
     "data": {
      "text/plain": [
       "1    48791\n",
       "0     4641\n",
       "Name: language_bin, dtype: int64"
      ]
     },
     "execution_count": 59,
     "metadata": {},
     "output_type": "execute_result"
    }
   ],
   "source": [
    "df.language_bin.value_counts()"
   ]
  },
  {
   "cell_type": "code",
   "execution_count": 77,
   "metadata": {},
   "outputs": [
    {
     "data": {
      "text/plain": [
       "CATHOLIC                  19464\n",
       "NOT SPECIFIED             10759\n",
       "PROTESTANT QUAKER          6974\n",
       "UNOBTAINABLE               5681\n",
       "JEWISH                     5100\n",
       "OTHER                      2523\n",
       "EPISCOPALIAN                733\n",
       "GREEK ORTHODOX              441\n",
       "CHRISTIAN SCIENTIST         348\n",
       "BUDDHIST                    227\n",
       "MUSLIM                      192\n",
       "JEHOVAH'S WITNESS           134\n",
       "UNITARIAN-UNIVERSALIST      111\n",
       "ROMANIAN EAST. ORTH          76\n",
       "7TH DAY ADVENTIST            73\n",
       "HINDU                        70\n",
       "BAPTIST                      28\n",
       "HEBREW                       18\n",
       "METHODIST                     8\n",
       "LUTHERAN                      1\n",
       "Name: religion, dtype: int64"
      ]
     },
     "execution_count": 77,
     "metadata": {},
     "output_type": "execute_result"
    }
   ],
   "source": [
    "df.religion.value_counts()"
   ]
  },
  {
   "cell_type": "code",
   "execution_count": 110,
   "metadata": {},
   "outputs": [],
   "source": [
    "# Note - we can only know if they are relgious or unknown\n",
    "## There are no categories for non-religious -- just \"not specified\"\n",
    "\n",
    "#df['religion_bin'] = df.religion\n",
    "\n",
    "\n",
    "def is_religious(x):\n",
    "    if x is None: \n",
    "        return 0\n",
    "    elif x == \"NOT SPECIFIED\": \n",
    "        return 0\n",
    "    elif x == \"UNOBTAINABLE\": \n",
    "        return 0\n",
    "    else: \n",
    "        return 1\n",
    "df['religion_2'] = df['religion'].apply(is_religious)"
   ]
  },
  {
   "cell_type": "code",
   "execution_count": 112,
   "metadata": {},
   "outputs": [
    {
     "data": {
      "text/plain": [
       "1    36521\n",
       "0    16911\n",
       "Name: religion_2, dtype: int64"
      ]
     },
     "execution_count": 112,
     "metadata": {},
     "output_type": "execute_result"
    }
   ],
   "source": [
    "df.religion_2.value_counts()"
   ]
  },
  {
   "cell_type": "code",
   "execution_count": 111,
   "metadata": {},
   "outputs": [
    {
     "data": {
      "text/plain": [
       "0    1\n",
       "1    1\n",
       "2    0\n",
       "3    1\n",
       "4    1\n",
       "Name: religion_2, dtype: int64"
      ]
     },
     "execution_count": 111,
     "metadata": {},
     "output_type": "execute_result"
    }
   ],
   "source": [
    "df.religion_2.head()"
   ]
  },
  {
   "cell_type": "code",
   "execution_count": 114,
   "metadata": {},
   "outputs": [
    {
     "data": {
      "text/plain": [
       "Index(['subject_id', 'hadm_id', 'icustay_id', 'dbsource', 'first_careunit',\n",
       "       'last_careunit', 'first_wardid', 'last_wardid', 'intime', 'outtime',\n",
       "       'los', 'admittime', 'dischtime', 'deathtime', 'admission_type',\n",
       "       'admission_location', 'discharge_location', 'insurance', 'language',\n",
       "       'religion', 'marital_status', 'ethnicity', 'edregtime', 'edouttime',\n",
       "       'diagnosis', 'hospital_expire_flag', 'has_chartevents_data', 'gender',\n",
       "       'dob', 'dod', 'dod_hosp', 'dod_ssn', 'expire_flag', 'time_before_ICU',\n",
       "       'prior_ICU_hours', 'ER_time', 'ER_hours', 'age_timedelta', 'age_years',\n",
       "       'marital_status_bin', 'language_bin', 'religion_bin', 'religion_2'],\n",
       "      dtype='object')"
      ]
     },
     "execution_count": 114,
     "metadata": {},
     "output_type": "execute_result"
    }
   ],
   "source": [
    "df.columns"
   ]
  },
  {
   "cell_type": "code",
   "execution_count": 115,
   "metadata": {},
   "outputs": [
    {
     "data": {
      "text/plain": [
       "EMERGENCY    44584\n",
       "ELECTIVE      7451\n",
       "URGENT        1397\n",
       "Name: admission_type, dtype: int64"
      ]
     },
     "execution_count": 115,
     "metadata": {},
     "output_type": "execute_result"
    }
   ],
   "source": [
    "# Admission type\n",
    "df['admission_type'].value_counts()"
   ]
  },
  {
   "cell_type": "code",
   "execution_count": 116,
   "metadata": {},
   "outputs": [
    {
     "data": {
      "text/plain": [
       "WHITE                                                       37912\n",
       "BLACK/AFRICAN AMERICAN                                       4752\n",
       "UNKNOWN/NOT SPECIFIED                                        4305\n",
       "HISPANIC OR LATINO                                           1378\n",
       "OTHER                                                        1178\n",
       "UNABLE TO OBTAIN                                              846\n",
       "ASIAN                                                         778\n",
       "PATIENT DECLINED TO ANSWER                                    457\n",
       "ASIAN - CHINESE                                               242\n",
       "HISPANIC/LATINO - PUERTO RICAN                                232\n",
       "BLACK/CAPE VERDEAN                                            182\n",
       "WHITE - RUSSIAN                                               168\n",
       "MULTI RACE ETHNICITY                                          111\n",
       "BLACK/HAITIAN                                                 101\n",
       "ASIAN - ASIAN INDIAN                                           89\n",
       "HISPANIC/LATINO - DOMINICAN                                    82\n",
       "WHITE - OTHER EUROPEAN                                         80\n",
       "PORTUGUESE                                                     67\n",
       "WHITE - BRAZILIAN                                              61\n",
       "ASIAN - VIETNAMESE                                             46\n",
       "MIDDLE EASTERN                                                 41\n",
       "BLACK/AFRICAN                                                  40\n",
       "HISPANIC/LATINO - GUATEMALAN                                   39\n",
       "WHITE - EASTERN EUROPEAN                                       27\n",
       "ASIAN - FILIPINO                                               26\n",
       "AMERICAN INDIAN/ALASKA NATIVE                                  25\n",
       "HISPANIC/LATINO - CUBAN                                        24\n",
       "ASIAN - CAMBODIAN                                              22\n",
       "HISPANIC/LATINO - SALVADORAN                                   17\n",
       "NATIVE HAWAIIAN OR OTHER PACIFIC ISLANDER                      15\n",
       "ASIAN - OTHER                                                  13\n",
       "ASIAN - KOREAN                                                 11\n",
       "HISPANIC/LATINO - CENTRAL AMERICAN (OTHER)                     11\n",
       "HISPANIC/LATINO - MEXICAN                                      10\n",
       "HISPANIC/LATINO - COLOMBIAN                                    10\n",
       "CARIBBEAN ISLAND                                                9\n",
       "SOUTH AMERICAN                                                  8\n",
       "ASIAN - JAPANESE                                                6\n",
       "HISPANIC/LATINO - HONDURAN                                      4\n",
       "ASIAN - THAI                                                    4\n",
       "AMERICAN INDIAN/ALASKA NATIVE FEDERALLY RECOGNIZED TRIBE        3\n",
       "Name: ethnicity, dtype: int64"
      ]
     },
     "execution_count": 116,
     "metadata": {},
     "output_type": "execute_result"
    }
   ],
   "source": [
    "# Ethnicity \n",
    "df['ethnicity'].value_counts()"
   ]
  },
  {
   "cell_type": "code",
   "execution_count": 118,
   "metadata": {},
   "outputs": [
    {
     "name": "stderr",
     "output_type": "stream",
     "text": [
      "C:\\Users\\kmuss\\Anaconda3\\lib\\site-packages\\pandas\\core\\indexing.py:189: SettingWithCopyWarning: \n",
      "A value is trying to be set on a copy of a slice from a DataFrame\n",
      "\n",
      "See the caveats in the documentation: http://pandas.pydata.org/pandas-docs/stable/indexing.html#indexing-view-versus-copy\n",
      "  self._setitem_with_indexer(indexer, value)\n"
     ]
    },
    {
     "data": {
      "text/plain": [
       "WHITE                     38248\n",
       "OTHER/UNKNOWN              7065\n",
       "BLACK/AFRICAN AMERICAN     5075\n",
       "HISPANIC/LATINO            1807\n",
       "ASIAN                      1237\n",
       "Name: ethnicity, dtype: int64"
      ]
     },
     "execution_count": 118,
     "metadata": {},
     "output_type": "execute_result"
    }
   ],
   "source": [
    "# Function attribution - https://github.com/daniel-codes/hospital-los-predictor/blob/master/hospital_los_prediction.ipynb \n",
    "\n",
    "df['ethnicity'].replace(regex=r'^ASIAN\\D*', value='ASIAN', inplace=True)\n",
    "df['ethnicity'].replace(regex=r'^WHITE\\D*', value='WHITE', inplace=True)\n",
    "df['ethnicity'].replace(regex=r'^HISPANIC\\D*', value='HISPANIC/LATINO', inplace=True)\n",
    "df['ethnicity'].replace(regex=r'^BLACK\\D*', value='BLACK/AFRICAN AMERICAN', inplace=True)\n",
    "df['ethnicity'].replace(['UNABLE TO OBTAIN', 'OTHER', 'PATIENT DECLINED TO ANSWER', \n",
    "                         'UNKNOWN/NOT SPECIFIED'], value='OTHER/UNKNOWN', inplace=True)\n",
    "df['ethnicity'].loc[~df['ethnicity'].isin(df['ethnicity'].value_counts().nlargest(5).index.tolist())] = 'OTHER/UNKNOWN'\n",
    "df['ethnicity'].value_counts()"
   ]
  },
  {
   "cell_type": "code",
   "execution_count": 119,
   "metadata": {},
   "outputs": [],
   "source": [
    "with open('temp_redo_pia_df.pickle', 'wb') as to_write:\n",
    "    pickle.dump(df, to_write)"
   ]
  },
  {
   "cell_type": "code",
   "execution_count": null,
   "metadata": {},
   "outputs": [],
   "source": []
  },
  {
   "cell_type": "code",
   "execution_count": 121,
   "metadata": {},
   "outputs": [
    {
     "data": {
      "text/plain": [
       "Index(['subject_id', 'hadm_id', 'icustay_id', 'dbsource', 'first_careunit',\n",
       "       'last_careunit', 'first_wardid', 'last_wardid', 'intime', 'outtime',\n",
       "       'los', 'admittime', 'dischtime', 'deathtime', 'admission_type',\n",
       "       'admission_location', 'discharge_location', 'insurance', 'language',\n",
       "       'religion', 'marital_status', 'ethnicity', 'edregtime', 'edouttime',\n",
       "       'diagnosis', 'hospital_expire_flag', 'has_chartevents_data', 'gender',\n",
       "       'dob', 'dod', 'dod_hosp', 'dod_ssn', 'expire_flag', 'time_before_ICU',\n",
       "       'prior_ICU_hours', 'ER_time', 'ER_hours', 'age_timedelta', 'age_years',\n",
       "       'marital_status_bin', 'language_bin', 'religion_bin', 'religion_2'],\n",
       "      dtype='object')"
      ]
     },
     "execution_count": 121,
     "metadata": {},
     "output_type": "execute_result"
    }
   ],
   "source": [
    "df.columns"
   ]
  },
  {
   "cell_type": "markdown",
   "metadata": {},
   "source": [
    "# Dummy variables\n",
    "\n",
    "* religion_2\n",
    "* marital_status_bin\n",
    "* ethnicity\n",
    "* language_bin\n",
    "* admission_type\n",
    "* admission_location\n",
    "* first_careunit\n",
    "* insurance\n",
    "* gender"
   ]
  },
  {
   "cell_type": "code",
   "execution_count": 125,
   "metadata": {},
   "outputs": [],
   "source": [
    "df_dummies = pd.get_dummies(df, columns=(['marital_status_bin',\n",
    "                                 'religion_2', \n",
    "                                 'ethnicity',\n",
    "                                 'language_bin',\n",
    "                                 'admission_type',\n",
    "                                 'admission_location',\n",
    "                                 'first_careunit',\n",
    "                                 'insurance',\n",
    "                                 'gender',\n",
    "                                ]))\n",
    "#df_dummies.head()"
   ]
  },
  {
   "cell_type": "code",
   "execution_count": 126,
   "metadata": {},
   "outputs": [
    {
     "data": {
      "text/html": [
       "<div>\n",
       "<style scoped>\n",
       "    .dataframe tbody tr th:only-of-type {\n",
       "        vertical-align: middle;\n",
       "    }\n",
       "\n",
       "    .dataframe tbody tr th {\n",
       "        vertical-align: top;\n",
       "    }\n",
       "\n",
       "    .dataframe thead th {\n",
       "        text-align: right;\n",
       "    }\n",
       "</style>\n",
       "<table border=\"1\" class=\"dataframe\">\n",
       "  <thead>\n",
       "    <tr style=\"text-align: right;\">\n",
       "      <th></th>\n",
       "      <th>subject_id</th>\n",
       "      <th>hadm_id</th>\n",
       "      <th>icustay_id</th>\n",
       "      <th>dbsource</th>\n",
       "      <th>last_careunit</th>\n",
       "      <th>first_wardid</th>\n",
       "      <th>last_wardid</th>\n",
       "      <th>intime</th>\n",
       "      <th>outtime</th>\n",
       "      <th>los</th>\n",
       "      <th>...</th>\n",
       "      <th>first_careunit_MICU</th>\n",
       "      <th>first_careunit_SICU</th>\n",
       "      <th>first_careunit_TSICU</th>\n",
       "      <th>insurance_Government</th>\n",
       "      <th>insurance_Medicaid</th>\n",
       "      <th>insurance_Medicare</th>\n",
       "      <th>insurance_Private</th>\n",
       "      <th>insurance_Self Pay</th>\n",
       "      <th>gender_F</th>\n",
       "      <th>gender_M</th>\n",
       "    </tr>\n",
       "  </thead>\n",
       "  <tbody>\n",
       "    <tr>\n",
       "      <th>0</th>\n",
       "      <td>55973.0</td>\n",
       "      <td>152234.0</td>\n",
       "      <td>200001.0</td>\n",
       "      <td>metavision</td>\n",
       "      <td>MICU</td>\n",
       "      <td>23.0</td>\n",
       "      <td>23.0</td>\n",
       "      <td>2181-11-25 19:06:12</td>\n",
       "      <td>2181-11-28 20:59:25</td>\n",
       "      <td>3.0786</td>\n",
       "      <td>...</td>\n",
       "      <td>1</td>\n",
       "      <td>0</td>\n",
       "      <td>0</td>\n",
       "      <td>0</td>\n",
       "      <td>0</td>\n",
       "      <td>1</td>\n",
       "      <td>0</td>\n",
       "      <td>0</td>\n",
       "      <td>1</td>\n",
       "      <td>0</td>\n",
       "    </tr>\n",
       "    <tr>\n",
       "      <th>1</th>\n",
       "      <td>27513.0</td>\n",
       "      <td>163557.0</td>\n",
       "      <td>200003.0</td>\n",
       "      <td>carevue</td>\n",
       "      <td>SICU</td>\n",
       "      <td>57.0</td>\n",
       "      <td>57.0</td>\n",
       "      <td>2199-08-02 19:50:04</td>\n",
       "      <td>2199-08-08 17:09:18</td>\n",
       "      <td>5.8884</td>\n",
       "      <td>...</td>\n",
       "      <td>0</td>\n",
       "      <td>1</td>\n",
       "      <td>0</td>\n",
       "      <td>0</td>\n",
       "      <td>0</td>\n",
       "      <td>0</td>\n",
       "      <td>1</td>\n",
       "      <td>0</td>\n",
       "      <td>0</td>\n",
       "      <td>1</td>\n",
       "    </tr>\n",
       "    <tr>\n",
       "      <th>2</th>\n",
       "      <td>10950.0</td>\n",
       "      <td>189514.0</td>\n",
       "      <td>200006.0</td>\n",
       "      <td>carevue</td>\n",
       "      <td>MICU</td>\n",
       "      <td>52.0</td>\n",
       "      <td>52.0</td>\n",
       "      <td>2159-09-03 11:28:14</td>\n",
       "      <td>2159-09-04 19:08:10</td>\n",
       "      <td>1.3194</td>\n",
       "      <td>...</td>\n",
       "      <td>1</td>\n",
       "      <td>0</td>\n",
       "      <td>0</td>\n",
       "      <td>0</td>\n",
       "      <td>1</td>\n",
       "      <td>0</td>\n",
       "      <td>0</td>\n",
       "      <td>0</td>\n",
       "      <td>0</td>\n",
       "      <td>1</td>\n",
       "    </tr>\n",
       "    <tr>\n",
       "      <th>3</th>\n",
       "      <td>20707.0</td>\n",
       "      <td>129310.0</td>\n",
       "      <td>200007.0</td>\n",
       "      <td>carevue</td>\n",
       "      <td>CCU</td>\n",
       "      <td>57.0</td>\n",
       "      <td>57.0</td>\n",
       "      <td>2109-02-17 10:03:37</td>\n",
       "      <td>2109-02-18 17:03:12</td>\n",
       "      <td>1.2914</td>\n",
       "      <td>...</td>\n",
       "      <td>0</td>\n",
       "      <td>0</td>\n",
       "      <td>0</td>\n",
       "      <td>0</td>\n",
       "      <td>0</td>\n",
       "      <td>0</td>\n",
       "      <td>1</td>\n",
       "      <td>0</td>\n",
       "      <td>0</td>\n",
       "      <td>1</td>\n",
       "    </tr>\n",
       "    <tr>\n",
       "      <th>4</th>\n",
       "      <td>29904.0</td>\n",
       "      <td>129607.0</td>\n",
       "      <td>200009.0</td>\n",
       "      <td>carevue</td>\n",
       "      <td>CSRU</td>\n",
       "      <td>15.0</td>\n",
       "      <td>15.0</td>\n",
       "      <td>2189-11-30 10:34:32</td>\n",
       "      <td>2189-12-02 14:17:37</td>\n",
       "      <td>2.1549</td>\n",
       "      <td>...</td>\n",
       "      <td>0</td>\n",
       "      <td>0</td>\n",
       "      <td>0</td>\n",
       "      <td>0</td>\n",
       "      <td>0</td>\n",
       "      <td>0</td>\n",
       "      <td>1</td>\n",
       "      <td>0</td>\n",
       "      <td>1</td>\n",
       "      <td>0</td>\n",
       "    </tr>\n",
       "  </tbody>\n",
       "</table>\n",
       "<p>5 rows × 66 columns</p>\n",
       "</div>"
      ],
      "text/plain": [
       "   subject_id   hadm_id  icustay_id    dbsource last_careunit  first_wardid  \\\n",
       "0     55973.0  152234.0    200001.0  metavision          MICU          23.0   \n",
       "1     27513.0  163557.0    200003.0     carevue          SICU          57.0   \n",
       "2     10950.0  189514.0    200006.0     carevue          MICU          52.0   \n",
       "3     20707.0  129310.0    200007.0     carevue           CCU          57.0   \n",
       "4     29904.0  129607.0    200009.0     carevue          CSRU          15.0   \n",
       "\n",
       "   last_wardid              intime             outtime     los   ...     \\\n",
       "0         23.0 2181-11-25 19:06:12 2181-11-28 20:59:25  3.0786   ...      \n",
       "1         57.0 2199-08-02 19:50:04 2199-08-08 17:09:18  5.8884   ...      \n",
       "2         52.0 2159-09-03 11:28:14 2159-09-04 19:08:10  1.3194   ...      \n",
       "3         57.0 2109-02-17 10:03:37 2109-02-18 17:03:12  1.2914   ...      \n",
       "4         15.0 2189-11-30 10:34:32 2189-12-02 14:17:37  2.1549   ...      \n",
       "\n",
       "  first_careunit_MICU first_careunit_SICU first_careunit_TSICU  \\\n",
       "0                   1                   0                    0   \n",
       "1                   0                   1                    0   \n",
       "2                   1                   0                    0   \n",
       "3                   0                   0                    0   \n",
       "4                   0                   0                    0   \n",
       "\n",
       "  insurance_Government insurance_Medicaid insurance_Medicare  \\\n",
       "0                    0                  0                  1   \n",
       "1                    0                  0                  0   \n",
       "2                    0                  1                  0   \n",
       "3                    0                  0                  0   \n",
       "4                    0                  0                  0   \n",
       "\n",
       "  insurance_Private insurance_Self Pay gender_F gender_M  \n",
       "0                 0                  0        1        0  \n",
       "1                 1                  0        0        1  \n",
       "2                 0                  0        0        1  \n",
       "3                 1                  0        0        1  \n",
       "4                 1                  0        1        0  \n",
       "\n",
       "[5 rows x 66 columns]"
      ]
     },
     "execution_count": 126,
     "metadata": {},
     "output_type": "execute_result"
    }
   ],
   "source": [
    "df_dummies.head()"
   ]
  },
  {
   "cell_type": "raw",
   "metadata": {},
   "source": [
    "# Save before dropping columns from dummies\n",
    "\n",
    "with open('pia_redone_FirstdummiesNOTdropped.pickle', 'wb') as to_write: \n",
    "    pickle.dump(df_dummies, to_write)\n"
   ]
  },
  {
   "cell_type": "markdown",
   "metadata": {},
   "source": [
    "#### Remove one column from each category to remove co-linearity\n",
    "\n",
    "* marital_status_bin_UNKNOWN (DEFAULT)\n",
    "* religion_2_0 (not religious/ unknown)\n",
    "* ethnicity_OTHER/UNKNOWN\n",
    "* language_bin_1 (speaks English)\n",
    "* admission_type_ELECTIVE\n",
    "* admission_location_OTHER\n",
    "* first_careunit_TSICU\n",
    "* insurance_Government\n",
    "* gender_M"
   ]
  },
  {
   "cell_type": "code",
   "execution_count": 130,
   "metadata": {},
   "outputs": [],
   "source": [
    "df_dummies.drop(columns=(['marital_status_bin_UNKNOWN (DEFAULT)',\n",
    "                          'religion_2_0',\n",
    "                          'ethnicity_OTHER/UNKNOWN',\n",
    "                          'language_bin_1',\n",
    "                          'admission_type_ELECTIVE',\n",
    "                          'admission_location_OTHER',\n",
    "                          'first_careunit_TSICU',\n",
    "                          'insurance_Government',\n",
    "                          'gender_M']),axis=1, inplace=True)\n",
    "                          "
   ]
  },
  {
   "cell_type": "code",
   "execution_count": 131,
   "metadata": {},
   "outputs": [
    {
     "data": {
      "text/plain": [
       "Index(['subject_id', 'hadm_id', 'icustay_id', 'dbsource', 'last_careunit',\n",
       "       'first_wardid', 'last_wardid', 'intime', 'outtime', 'los', 'admittime',\n",
       "       'dischtime', 'deathtime', 'discharge_location', 'language', 'religion',\n",
       "       'marital_status', 'edregtime', 'edouttime', 'diagnosis',\n",
       "       'hospital_expire_flag', 'has_chartevents_data', 'dob', 'dod',\n",
       "       'dod_hosp', 'dod_ssn', 'expire_flag', 'time_before_ICU',\n",
       "       'prior_ICU_hours', 'ER_time', 'ER_hours', 'age_timedelta', 'age_years',\n",
       "       'religion_bin', 'marital_status_bin_MARRIED',\n",
       "       'marital_status_bin_SINGLE', 'religion_2_1', 'ethnicity_ASIAN',\n",
       "       'ethnicity_BLACK/AFRICAN AMERICAN', 'ethnicity_HISPANIC/LATINO',\n",
       "       'ethnicity_WHITE', 'language_bin_0', 'admission_type_EMERGENCY',\n",
       "       'admission_type_URGENT', 'admission_location_CLINIC REFERRAL/PREMATURE',\n",
       "       'admission_location_EMERGENCY ROOM ADMIT',\n",
       "       'admission_location_PHYS REFERRAL/NORMAL DELI',\n",
       "       'admission_location_TRANSFER FROM HOSP/EXTRAM', 'first_careunit_CCU',\n",
       "       'first_careunit_CSRU', 'first_careunit_MICU', 'first_careunit_SICU',\n",
       "       'insurance_Medicaid', 'insurance_Medicare', 'insurance_Private',\n",
       "       'insurance_Self Pay', 'gender_F'],\n",
       "      dtype='object')"
      ]
     },
     "execution_count": 131,
     "metadata": {},
     "output_type": "execute_result"
    }
   ],
   "source": [
    "df_dummies.columns"
   ]
  },
  {
   "cell_type": "raw",
   "metadata": {},
   "source": [
    "# Save pickle\n",
    "\n",
    "with open('pia_redone_dummies.pickle', 'wb') as to_write: \n",
    "    pickle.dump(df_dummies, to_write)"
   ]
  },
  {
   "cell_type": "code",
   "execution_count": null,
   "metadata": {},
   "outputs": [],
   "source": []
  }
 ],
 "metadata": {
  "kernelspec": {
   "display_name": "Python 3",
   "language": "python",
   "name": "python3"
  },
  "language_info": {
   "codemirror_mode": {
    "name": "ipython",
    "version": 3
   },
   "file_extension": ".py",
   "mimetype": "text/x-python",
   "name": "python",
   "nbconvert_exporter": "python",
   "pygments_lexer": "ipython3",
   "version": "3.7.0"
  }
 },
 "nbformat": 4,
 "nbformat_minor": 1
}
